{
  "cells": [
    {
      "metadata": {
        "id": "o6oh7dbVznG1",
        "colab_type": "code",
        "colab": {},
        "trusted": true,
        "_uuid": "c150a443a52aaca84d9b0fe8e50d3242afa6a582",
        "scrolled": false
      },
      "cell_type": "code",
      "source": "# !pip install pandas-summary ipython fastai==0.7\n!pip install treeinterpreter",
      "execution_count": null,
      "outputs": []
    },
    {
      "metadata": {
        "id": "1W1Gy911ztE0",
        "colab_type": "code",
        "colab": {},
        "trusted": true,
        "_uuid": "7bad1e3782da8d6d88bc648c97b93f47107bb5a1"
      },
      "cell_type": "code",
      "source": "from fastai.imports import *\nfrom fastai.structured import *\n\nfrom pandas_summary import DataFrameSummary\nfrom sklearn.ensemble import RandomForestRegressor, RandomForestClassifier\nfrom IPython.display import display\nimport IPython\n\nfrom sklearn import metrics",
      "execution_count": null,
      "outputs": []
    },
    {
      "metadata": {
        "id": "Q5MSEG5p3-dE",
        "colab_type": "code",
        "colab": {},
        "trusted": true,
        "_uuid": "3fb6add09514437ce9fb3c5b3a04491e31ccc1e9"
      },
      "cell_type": "code",
      "source": "PATH = '../input/train/'\n# Kaggle Kernel\n# !mkdir data && cp -r ../input/train data/bulldozer\n# !ls data/bulldozer -a",
      "execution_count": null,
      "outputs": []
    },
    {
      "metadata": {
        "id": "kWgrZiRqDaEb",
        "colab_type": "code",
        "colab": {},
        "trusted": true,
        "_uuid": "63d108bc0a6b709d709d6fd38517d6b67d7a6ec5"
      },
      "cell_type": "code",
      "source": "df_raw = pd.read_csv(f'{PATH}Train.csv', low_memory=False, parse_dates=[\"saledate\"])\n# ! ls ../input/train\n# df_raw = pd.read_feather('tmp/bulldozers-raw')",
      "execution_count": null,
      "outputs": []
    },
    {
      "metadata": {
        "id": "p5FerspYGSvc",
        "colab_type": "code",
        "colab": {},
        "trusted": true,
        "_uuid": "d78ccceae0545412ddad529f5552bfa03a89fea4"
      },
      "cell_type": "code",
      "source": "def display_all(df):\n    with pd.option_context(\"display.max_rows\", 1000): \n        with pd.option_context(\"display.max_columns\", 1000): \n            display(df)\ndisplay_all(df_raw.tail().transpose())",
      "execution_count": null,
      "outputs": []
    },
    {
      "metadata": {
        "id": "X1WagAZxWA2W",
        "colab_type": "code",
        "colab": {},
        "trusted": true,
        "_uuid": "20d0060073e4d13654b19a2ff1cd8cf62ac6a831"
      },
      "cell_type": "code",
      "source": "df_raw.SalePrice = np.log(df_raw.SalePrice)",
      "execution_count": null,
      "outputs": []
    },
    {
      "metadata": {
        "id": "BJZ-oNdwbm6N",
        "colab_type": "code",
        "colab": {},
        "trusted": true,
        "_uuid": "a13641c3f4b1f3af37499bcc1327da7b0c16ff8c"
      },
      "cell_type": "code",
      "source": "# df_raw.saledate.head\nadd_datepart(df_raw, 'saledate')",
      "execution_count": null,
      "outputs": []
    },
    {
      "metadata": {
        "id": "skUqn9-Hb5hN",
        "colab_type": "code",
        "colab": {},
        "trusted": true,
        "_uuid": "323301b5083878820b0d71828561c200ac1c6bc2"
      },
      "cell_type": "code",
      "source": "# df_raw.saleYear.head()\n# display_all(df_raw.tail().transpose())\ntrain_cats(df_raw)\ndf_raw.UsageBand.cat.set_categories(['High', 'Medium', 'Low'], ordered=True, inplace=True)\ndf_raw.UsageBand = df_raw.UsageBand.cat.codes",
      "execution_count": null,
      "outputs": []
    },
    {
      "metadata": {
        "id": "0pZeR71HeqwL",
        "colab_type": "code",
        "outputId": "6ef0c901-b27f-40ed-b6b0-63ba74f25a48",
        "colab": {
          "base_uri": "https://localhost:8080/",
          "height": 1126
        },
        "trusted": true,
        "_uuid": "8508d4bc87a690276fe14142be9c879d3f83222b"
      },
      "cell_type": "code",
      "source": "display_all(df_raw.isnull().sum().sort_index()/len(df_raw))",
      "execution_count": null,
      "outputs": []
    },
    {
      "metadata": {
        "id": "8Oo3zgI-f8oM",
        "colab_type": "code",
        "colab": {},
        "trusted": true,
        "_uuid": "8aaddcdb5202bfc1c3ac6d5d58b4b0ab817b6aa2"
      },
      "cell_type": "code",
      "source": "os.makedirs('tmp', exist_ok=True)\ndf_raw.to_feather('tmp/bulldozers-raw')",
      "execution_count": null,
      "outputs": []
    },
    {
      "metadata": {
        "id": "8449fiatgqCS",
        "colab_type": "code",
        "colab": {},
        "trusted": true,
        "_uuid": "a1f97e3ada5b2b6f5590c3d098b0a5777aaef09a"
      },
      "cell_type": "code",
      "source": "x, y, nas = proc_df(df_raw, 'SalePrice')",
      "execution_count": null,
      "outputs": []
    },
    {
      "metadata": {
        "id": "8ckUbVDNWtXN",
        "colab_type": "code",
        "outputId": "3f88fed3-98fc-43d3-fed6-acd196d1bd0c",
        "colab": {
          "base_uri": "https://localhost:8080/",
          "height": 121
        },
        "trusted": true,
        "_uuid": "7fc8ea0b2f6372b0dfabcc00c1fa055ee15b5613"
      },
      "cell_type": "code",
      "source": "m = RandomForestRegressor(n_jobs=-1)\n%time m.fit(x, y)\nm.score(x, y)",
      "execution_count": null,
      "outputs": []
    },
    {
      "metadata": {
        "id": "ARnv7BekbR_T",
        "colab_type": "code",
        "outputId": "8daaba36-bdee-41f0-8f22-d3cabb2b826c",
        "colab": {
          "base_uri": "https://localhost:8080/",
          "height": 34
        },
        "trusted": true,
        "_uuid": "ae6157638596936ba8a2ec5c8be4e0bb5901cc21"
      },
      "cell_type": "code",
      "source": "def split_vals(a, n): return a[:n].copy(), a[n:].copy()\nn_valid = 12000\nn_trn = len(x) - n_valid\nraw_train, raw_valid = split_vals(df_raw, n_trn)\nX_train, X_valid = split_vals(x, n_trn)\ny_train, y_valid = split_vals(y, n_trn)\nX_train.shape, y_train.shape, X_valid.shape",
      "execution_count": null,
      "outputs": []
    },
    {
      "metadata": {
        "id": "hcZ1cPGNkrcf",
        "colab_type": "code",
        "colab": {},
        "trusted": true,
        "_uuid": "c6d29296fccb5e2c65c0521082404edc9cf48a26"
      },
      "cell_type": "code",
      "source": "def rmse(x,y): return math.sqrt(((x-y)**2).mean())\ndef print_score(m):\n    res = [rmse(m.predict(X_train), y_train),\n           rmse(m.predict(X_valid), y_valid),\n           m.score(X_train, y_train), m.score(X_valid, y_valid)]\n    if hasattr(m, 'oob_score_'): res.append(m.oob_score_)\n    print(res)",
      "execution_count": null,
      "outputs": []
    },
    {
      "metadata": {
        "id": "LpBs0ik-l65u",
        "colab_type": "code",
        "outputId": "5b8e8873-b244-4cd1-892c-6209f28a6c30",
        "colab": {
          "base_uri": "https://localhost:8080/",
          "height": 34
        },
        "trusted": true,
        "_uuid": "9e1b5a7b912ba710981add095c2603dc2b93b806"
      },
      "cell_type": "code",
      "source": "m = RandomForestRegressor(n_jobs=-1)\n%time m.fit(x, y)\nm.score(x, y)\nprint_score(m)",
      "execution_count": null,
      "outputs": []
    },
    {
      "metadata": {
        "trusted": true,
        "_uuid": "3a28529e179c62298e2b62d357488f62d53866ad"
      },
      "cell_type": "code",
      "source": "df_raw.SalePrice = np.log(df_raw.SalePrice)",
      "execution_count": null,
      "outputs": []
    },
    {
      "metadata": {
        "trusted": true,
        "_uuid": "4abd416952dd7897127a50120a9ffe091f29e91b"
      },
      "cell_type": "code",
      "source": "df_trn, y_trn, nas = proc_df(df_raw, 'SalePrice', subset=30000, na_dict=nas)\nX_train, _ = split_vals(df_trn, 20000)\ny_train, _ = split_vals(y_trn, 20000)",
      "execution_count": null,
      "outputs": []
    },
    {
      "metadata": {
        "trusted": true,
        "_uuid": "a07fc3685322966dfdfbb7b521910ea1b997e052"
      },
      "cell_type": "code",
      "source": "m = RandomForestRegressor(n_jobs=-1)\n%time m.fit(X_train, y_train)\nprint_score(m)",
      "execution_count": null,
      "outputs": []
    },
    {
      "metadata": {
        "trusted": true,
        "_uuid": "3b1c7039d55688cb52987f7ca4a81b4739147db6"
      },
      "cell_type": "code",
      "source": "m = RandomForestRegressor(n_estimators=1, max_depth=3, bootstrap=False, n_jobs=-1)\nm.fit(X_train, y_train)\nprint_score(m)",
      "execution_count": null,
      "outputs": []
    },
    {
      "metadata": {
        "trusted": true,
        "_uuid": "36a1b7cc1282cdd03a3a2abe1faf2043789b5fdc"
      },
      "cell_type": "code",
      "source": "draw_tree(m.estimators_[0], df_trn, precision=3)",
      "execution_count": null,
      "outputs": []
    },
    {
      "metadata": {
        "trusted": true,
        "_uuid": "ffc028a6966d2b179296a6dbdcde7f0df6ec81e8"
      },
      "cell_type": "code",
      "source": "?IPython",
      "execution_count": null,
      "outputs": []
    },
    {
      "metadata": {
        "trusted": true,
        "scrolled": true,
        "_uuid": "0ae255d4f049238cef9f5b3cfb6653b1407f0f9e"
      },
      "cell_type": "code",
      "source": "m = RandomForestRegressor(n_estimators=1, bootstrap=False, n_jobs=-1)\nm.fit(X_train, y_train)\nprint_score(m)",
      "execution_count": null,
      "outputs": []
    },
    {
      "metadata": {
        "trusted": true,
        "_uuid": "47ce07115c088d1a6419488416d6206c360da28e"
      },
      "cell_type": "code",
      "source": "m = RandomForestRegressor(n_jobs=-1)\nm.fit(X_train, y_train)\nprint_score(m)",
      "execution_count": null,
      "outputs": []
    },
    {
      "metadata": {
        "trusted": true,
        "scrolled": true,
        "_uuid": "736c50978f435284bf34dec99177bce2a1c6b74d"
      },
      "cell_type": "code",
      "source": "preds = np.stack([t.predict(X_valid) for t in m.estimators_])\npreds[:,0], np.mean(preds[:,0]), y_valid[0]",
      "execution_count": null,
      "outputs": []
    },
    {
      "metadata": {
        "trusted": true,
        "_uuid": "2be5e73b1e9cf716b04492280011b13da67f4513"
      },
      "cell_type": "code",
      "source": "m = RandomForestRegressor(n_estimators=40, n_jobs=-1, \n                          oob_score=True)\nm.fit(X_train, y_train)\nprint_score(m)",
      "execution_count": null,
      "outputs": []
    },
    {
      "metadata": {
        "trusted": true,
        "_uuid": "40cc21f510fa008b3a84617eb15216f5b413174e"
      },
      "cell_type": "code",
      "source": "# df_trn, y_trn = proc_df(df_raw, 'SalePrice')\n# X_train, X_valid = split_vals(df_trn, n_trn)\n# y_train, y_valid = split_vals(y_trn, n_trn)\n# set_rf_samples(20000)",
      "execution_count": null,
      "outputs": []
    },
    {
      "metadata": {
        "trusted": true,
        "_uuid": "e2301aa69e33fc5f3f754e32a670f83dfc434ade"
      },
      "cell_type": "code",
      "source": "fi = rf_feat_importance(m, X_train); fi[:10]",
      "execution_count": null,
      "outputs": []
    },
    {
      "metadata": {
        "trusted": true,
        "_uuid": "d1e1663b04ee3bbfe75613c2529f9296a418990c"
      },
      "cell_type": "code",
      "source": "fi.plot('cols', 'imp', figsize=(10,6), legend=False);",
      "execution_count": null,
      "outputs": []
    },
    {
      "metadata": {
        "trusted": true,
        "_uuid": "1800a2446650e5fb3c17a681bb545b123c021464"
      },
      "cell_type": "code",
      "source": " def plot_fi(fi):\n  return fi.plot('cols','imp','barh', figsize=(12,7), legend=False)\nplot_fi(fi[:30]);\n",
      "execution_count": null,
      "outputs": []
    },
    {
      "metadata": {
        "trusted": true,
        "_uuid": "dd36d333537dcee3b581744dc872cdb049b3e43e"
      },
      "cell_type": "code",
      "source": "",
      "execution_count": null,
      "outputs": []
    },
    {
      "metadata": {
        "trusted": true,
        "_uuid": "2ba7c1571b783fa9ce9ff278f38dfdd194585a69"
      },
      "cell_type": "code",
      "source": "set_rf_samples(50000)\n\nm = RandomForestRegressor(n_estimators=40, min_samples_leaf=3, \n        max_features=0.5, n_jobs=-1, oob_score=True)\nm.fit(X_train, y_train)\nprint_score(m)",
      "execution_count": null,
      "outputs": []
    },
    {
      "metadata": {
        "trusted": true,
        "_uuid": "7230aca9bc5aa2908dc59ab8a15254139a095d6e"
      },
      "cell_type": "code",
      "source": "from treeinterpreter import treeinterpreter as tl",
      "execution_count": null,
      "outputs": []
    },
    {
      "metadata": {
        "trusted": true,
        "_uuid": "b5c936e25403771f85761e055d16ff9f7d55f169"
      },
      "cell_type": "code",
      "source": "\ndf_train, df_valid = split_vals(df_raw[df_trn.columns], n_trn)",
      "execution_count": null,
      "outputs": []
    },
    {
      "metadata": {
        "trusted": true,
        "_uuid": "83c57cedca0265eba0f8aa25cb97f3d2885add07"
      },
      "cell_type": "code",
      "source": "row = X_valid.values[None,0]; row",
      "execution_count": 1,
      "outputs": [
        {
          "output_type": "error",
          "ename": "NameError",
          "evalue": "name 'X_valid' is not defined",
          "traceback": [
            "\u001b[0;31m---------------------------------------------------------------------------\u001b[0m",
            "\u001b[0;31mNameError\u001b[0m                                 Traceback (most recent call last)",
            "\u001b[0;32m<ipython-input-1-af9325569014>\u001b[0m in \u001b[0;36m<module>\u001b[0;34m()\u001b[0m\n\u001b[0;32m----> 1\u001b[0;31m \u001b[0mrow\u001b[0m \u001b[0;34m=\u001b[0m \u001b[0mX_valid\u001b[0m\u001b[0;34m.\u001b[0m\u001b[0mvalues\u001b[0m\u001b[0;34m[\u001b[0m\u001b[0;32mNone\u001b[0m\u001b[0;34m,\u001b[0m\u001b[0;36m0\u001b[0m\u001b[0;34m]\u001b[0m\u001b[0;34m;\u001b[0m \u001b[0mrow\u001b[0m\u001b[0;34m\u001b[0m\u001b[0m\n\u001b[0m",
            "\u001b[0;31mNameError\u001b[0m: name 'X_valid' is not defined"
          ]
        }
      ]
    },
    {
      "metadata": {
        "trusted": true,
        "_uuid": "feac7cb5d5a113d84429a583cfc4b3381a5d3e53"
      },
      "cell_type": "code",
      "source": "prediction, bias, contributions = ti.predict(m, row)",
      "execution_count": 2,
      "outputs": [
        {
          "output_type": "error",
          "ename": "NameError",
          "evalue": "name 'ti' is not defined",
          "traceback": [
            "\u001b[0;31m---------------------------------------------------------------------------\u001b[0m",
            "\u001b[0;31mNameError\u001b[0m                                 Traceback (most recent call last)",
            "\u001b[0;32m<ipython-input-2-253b53741bbe>\u001b[0m in \u001b[0;36m<module>\u001b[0;34m()\u001b[0m\n\u001b[0;32m----> 1\u001b[0;31m \u001b[0mprediction\u001b[0m\u001b[0;34m,\u001b[0m \u001b[0mbias\u001b[0m\u001b[0;34m,\u001b[0m \u001b[0mcontributions\u001b[0m \u001b[0;34m=\u001b[0m \u001b[0mti\u001b[0m\u001b[0;34m.\u001b[0m\u001b[0mpredict\u001b[0m\u001b[0;34m(\u001b[0m\u001b[0mm\u001b[0m\u001b[0;34m,\u001b[0m \u001b[0mrow\u001b[0m\u001b[0;34m)\u001b[0m\u001b[0;34m\u001b[0m\u001b[0m\n\u001b[0m",
            "\u001b[0;31mNameError\u001b[0m: name 'ti' is not defined"
          ]
        }
      ]
    },
    {
      "metadata": {
        "trusted": true,
        "_uuid": "7dc11f4efda00431b58ec20d35a98eefbaaccfcf"
      },
      "cell_type": "code",
      "source": "contributions[0].sum()",
      "execution_count": null,
      "outputs": []
    },
    {
      "metadata": {
        "trusted": true,
        "_uuid": "c72784cf00cbd41ef9600f7baa16c8180168875b"
      },
      "cell_type": "code",
      "source": "",
      "execution_count": null,
      "outputs": []
    }
  ],
  "metadata": {
    "colab": {
      "name": "fastai_1.ipynb",
      "version": "0.3.2",
      "provenance": []
    },
    "kernelspec": {
      "display_name": "Python 3",
      "language": "python",
      "name": "python3"
    },
    "accelerator": "GPU",
    "language_info": {
      "name": "python",
      "version": "3.6.6",
      "mimetype": "text/x-python",
      "codemirror_mode": {
        "name": "ipython",
        "version": 3
      },
      "pygments_lexer": "ipython3",
      "nbconvert_exporter": "python",
      "file_extension": ".py"
    }
  },
  "nbformat": 4,
  "nbformat_minor": 1
}