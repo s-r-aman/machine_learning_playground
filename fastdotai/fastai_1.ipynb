{
  "cells": [
    {
      "metadata": {
        "id": "o6oh7dbVznG1",
        "colab_type": "code",
        "colab": {},
        "trusted": true,
        "_uuid": "c150a443a52aaca84d9b0fe8e50d3242afa6a582",
        "scrolled": false
      },
      "cell_type": "code",
      "source": "!pip install pandas-summary ipython fastai==0.7\n# !mkdir data/bulldozer",
      "execution_count": 2,
      "outputs": [
        {
          "output_type": "stream",
          "text": "Requirement already satisfied: pandas-summary in /opt/conda/lib/python3.6/site-packages (0.0.6)\nRequirement already satisfied: ipython in /opt/conda/lib/python3.6/site-packages (6.4.0)\nCollecting fastai==0.7\n\u001b[?25l  Downloading https://files.pythonhosted.org/packages/50/6d/9d0d6e17a78b0598d5e8c49a0d03ffc7ff265ae62eca3e2345fab14edb9b/fastai-0.7.0-py3-none-any.whl (112kB)\n\u001b[K    100% |████████████████████████████████| 122kB 3.7MB/s ta 0:00:01\n\u001b[?25hRequirement already satisfied: numpy in /opt/conda/lib/python3.6/site-packages (from pandas-summary) (1.16.0)\nRequirement already satisfied: pandas in /opt/conda/lib/python3.6/site-packages (from pandas-summary) (0.23.4)\nRequirement already satisfied: decorator in /opt/conda/lib/python3.6/site-packages (from ipython) (4.3.0)\nRequirement already satisfied: prompt-toolkit<2.0.0,>=1.0.15 in /opt/conda/lib/python3.6/site-packages (from ipython) (1.0.15)\nRequirement already satisfied: pygments in /opt/conda/lib/python3.6/site-packages (from ipython) (2.2.0)\nRequirement already satisfied: backcall in /opt/conda/lib/python3.6/site-packages (from ipython) (0.1.0)\nRequirement already satisfied: setuptools>=18.5 in /opt/conda/lib/python3.6/site-packages (from ipython) (39.1.0)\nRequirement already satisfied: simplegeneric>0.8 in /opt/conda/lib/python3.6/site-packages (from ipython) (0.8.1)\nRequirement already satisfied: pexpect; sys_platform != \"win32\" in /opt/conda/lib/python3.6/site-packages (from ipython) (4.5.0)\nRequirement already satisfied: jedi>=0.10 in /opt/conda/lib/python3.6/site-packages (from ipython) (0.12.0)\nRequirement already satisfied: traitlets>=4.2 in /opt/conda/lib/python3.6/site-packages (from ipython) (4.3.2)\nRequirement already satisfied: pickleshare in /opt/conda/lib/python3.6/site-packages (from ipython) (0.7.4)\nRequirement already satisfied: entrypoints in /opt/conda/lib/python3.6/site-packages (from fastai==0.7) (0.2.3)\nRequirement already satisfied: Jinja2 in /opt/conda/lib/python3.6/site-packages (from fastai==0.7) (2.10)\nRequirement already satisfied: MarkupSafe in /opt/conda/lib/python3.6/site-packages (from fastai==0.7) (1.0)\nRequirement already satisfied: python-dateutil in /opt/conda/lib/python3.6/site-packages (from fastai==0.7) (2.6.0)\nRequirement already satisfied: torchtext in /opt/conda/lib/python3.6/site-packages (from fastai==0.7) (0.3.1)\nRequirement already satisfied: certifi in /opt/conda/lib/python3.6/site-packages (from fastai==0.7) (2018.11.29)\nRequirement already satisfied: pytz in /opt/conda/lib/python3.6/site-packages (from fastai==0.7) (2018.4)\nRequirement already satisfied: ipython-genutils in /opt/conda/lib/python3.6/site-packages (from fastai==0.7) (0.2.0)\nRequirement already satisfied: wcwidth in /opt/conda/lib/python3.6/site-packages (from fastai==0.7) (0.1.7)\nRequirement already satisfied: webencodings in /opt/conda/lib/python3.6/site-packages (from fastai==0.7) (0.5.1)\nRequirement already satisfied: feather-format in /opt/conda/lib/python3.6/site-packages (from fastai==0.7) (0.4.0)\nRequirement already satisfied: pyzmq in /opt/conda/lib/python3.6/site-packages (from fastai==0.7) (17.0.0)\nRequirement already satisfied: ptyprocess in /opt/conda/lib/python3.6/site-packages (from fastai==0.7) (0.5.2)\nRequirement already satisfied: jsonschema in /opt/conda/lib/python3.6/site-packages (from fastai==0.7) (2.6.0)\nRequirement already satisfied: seaborn in /opt/conda/lib/python3.6/site-packages (from fastai==0.7) (0.9.0)\nRequirement already satisfied: widgetsnbextension in /opt/conda/lib/python3.6/site-packages (from fastai==0.7) (3.2.1)\nRequirement already satisfied: cycler in /opt/conda/lib/python3.6/site-packages (from fastai==0.7) (0.10.0)\nRequirement already satisfied: ipywidgets in /opt/conda/lib/python3.6/site-packages (from fastai==0.7) (7.2.1)\nRequirement already satisfied: jupyter in /opt/conda/lib/python3.6/site-packages (from fastai==0.7) (1.0.0)\nRequirement already satisfied: html5lib in /opt/conda/lib/python3.6/site-packages (from fastai==0.7) (1.0.1)\nRequirement already satisfied: Pillow in /opt/conda/lib/python3.6/site-packages (from fastai==0.7) (5.1.0)\nRequirement already satisfied: sklearn-pandas in /opt/conda/lib/python3.6/site-packages (from fastai==0.7) (1.8.0)\nRequirement already satisfied: testpath in /opt/conda/lib/python3.6/site-packages (from fastai==0.7) (0.3.1)\nRequirement already satisfied: opencv-python in /opt/conda/lib/python3.6/site-packages (from fastai==0.7) (4.0.0.21)\nRequirement already satisfied: graphviz in /opt/conda/lib/python3.6/site-packages (from fastai==0.7) (0.8.4)\nCollecting torch<0.4 (from fastai==0.7)\n\u001b[?25l  Downloading https://files.pythonhosted.org/packages/5b/a5/e8b50b55b1abac9f1e3346c4242f1e42a82d368a8442cbd50c532922f6c4/torch-0.3.1-cp36-cp36m-manylinux1_x86_64.whl (496.4MB)\n\u001b[K    100% |████████████████████████████████| 496.4MB 88kB/s  eta 0:00:01  9% |███                             | 45.6MB 36.6MB/s eta 0:00:13��▌                          | 85.3MB 13.7MB/s eta 0:00:30    24% |████████                        | 122.5MB 32.8MB/s eta 0:00:12    30% |█████████▉                      | 152.8MB 36.5MB/s eta 0:00:10    35% |███████████▎                    | 174.4MB 31.9MB/s eta 0:00:11    37% |████████████                    | 186.0MB 34.6MB/s eta 0:00:09    47% |███████████████▏                | 235.7MB 27.9MB/s eta 0:00:10    48% |███████████████▍                | 238.3MB 7.6MB/s eta 0:00:35    48% |███████████████▍                | 238.9MB 18.4MB/s eta 0:00:14    53% |█████████████████▏              | 265.6MB 28.7MB/s eta 0:00:09    57% |██████████████████▎             | 284.0MB 34.7MB/s eta 0:00:07    59% |███████████████████             | 293.6MB 32.8MB/s eta 0:00:07    60% |███████████████████▎            | 299.4MB 35.2MB/s eta 0:00:06    62% |████████████████████            | 310.9MB 36.9MB/s eta 0:00:06    79% |█████████████████████████▍      | 393.2MB 35.2MB/s eta 0:00:033    81% |██████████████████████████▏     | 405.4MB 19.9MB/s eta 0:00:05    84% |███████████████████████████     | 417.6MB 37.1MB/s eta 0:00:03    99% |███████████████████████████████▊| 491.7MB 36.8MB/s eta 0:00:01\n\u001b[?25hRequirement already satisfied: scipy in /opt/conda/lib/python3.6/site-packages (from fastai==0.7) (1.1.0)\nRequirement already satisfied: isoweek in /opt/conda/lib/python3.6/site-packages (from fastai==0.7) (1.3.3)\nRequirement already satisfied: tqdm in /opt/conda/lib/python3.6/site-packages (from fastai==0.7) (4.29.1)\nRequirement already satisfied: PyYAML in /opt/conda/lib/python3.6/site-packages (from fastai==0.7) (3.12)\nRequirement already satisfied: plotnine in /opt/conda/lib/python3.6/site-packages (from fastai==0.7) (0.4.0)\nRequirement already satisfied: ipykernel in /opt/conda/lib/python3.6/site-packages (from fastai==0.7) (4.8.2)\nRequirement already satisfied: matplotlib in /opt/conda/lib/python3.6/site-packages (from fastai==0.7) (2.2.3)\nRequirement already satisfied: bcolz in /opt/conda/lib/python3.6/site-packages (from fastai==0.7) (1.2.1)\nRequirement already satisfied: bleach in /opt/conda/lib/python3.6/site-packages (from fastai==0.7) (2.1.3)\nRequirement already satisfied: torchvision in /opt/conda/lib/python3.6/site-packages (from fastai==0.7) (0.2.1)\nRequirement already satisfied: tornado in /opt/conda/lib/python3.6/site-packages (from fastai==0.7) (5.0.2)\nRequirement already satisfied: pyparsing in /opt/conda/lib/python3.6/site-packages (from fastai==0.7) (2.2.0)\nRequirement already satisfied: six>=1.9.0 in /opt/conda/lib/python3.6/site-packages (from prompt-toolkit<2.0.0,>=1.0.15->ipython) (1.12.0)\nRequirement already satisfied: parso>=0.2.0 in /opt/conda/lib/python3.6/site-packages (from jedi>=0.10->ipython) (0.2.0)\nRequirement already satisfied: requests in /opt/conda/lib/python3.6/site-packages (from torchtext->fastai==0.7) (2.21.0)\nRequirement already satisfied: pyarrow>=0.4.0 in /opt/conda/lib/python3.6/site-packages (from feather-format->fastai==0.7) (0.10.0)\nRequirement already satisfied: notebook>=4.4.1 in /opt/conda/lib/python3.6/site-packages (from widgetsnbextension->fastai==0.7) (5.5.0)\nRequirement already satisfied: nbformat>=4.2.0 in /opt/conda/lib/python3.6/site-packages (from ipywidgets->fastai==0.7) (4.4.0)\nRequirement already satisfied: qtconsole in /opt/conda/lib/python3.6/site-packages (from jupyter->fastai==0.7) (4.3.1)\nRequirement already satisfied: jupyter-console in /opt/conda/lib/python3.6/site-packages (from jupyter->fastai==0.7) (5.2.0)\n",
          "name": "stdout"
        },
        {
          "output_type": "stream",
          "text": "Requirement already satisfied: nbconvert in /opt/conda/lib/python3.6/site-packages (from jupyter->fastai==0.7) (5.3.1)\nRequirement already satisfied: scikit-learn>=0.15.0 in /opt/conda/lib/python3.6/site-packages (from sklearn-pandas->fastai==0.7) (0.20.2)\nRequirement already satisfied: descartes>=1.1.0 in /opt/conda/lib/python3.6/site-packages (from plotnine->fastai==0.7) (1.1.0)\nRequirement already satisfied: geopandas>=0.3.0 in /opt/conda/lib/python3.6/site-packages (from plotnine->fastai==0.7) (0.4.0)\nRequirement already satisfied: mizani>=0.4.5 in /opt/conda/lib/python3.6/site-packages (from plotnine->fastai==0.7) (0.5.3)\nRequirement already satisfied: patsy>=0.4.1 in /opt/conda/lib/python3.6/site-packages (from plotnine->fastai==0.7) (0.5.0)\nRequirement already satisfied: statsmodels>=0.8.0 in /opt/conda/lib/python3.6/site-packages (from plotnine->fastai==0.7) (0.9.0)\nRequirement already satisfied: jupyter_client in /opt/conda/lib/python3.6/site-packages (from ipykernel->fastai==0.7) (5.2.3)\nRequirement already satisfied: kiwisolver>=1.0.1 in /opt/conda/lib/python3.6/site-packages (from matplotlib->fastai==0.7) (1.0.1)\nRequirement already satisfied: idna<2.9,>=2.5 in /opt/conda/lib/python3.6/site-packages (from requests->torchtext->fastai==0.7) (2.6)\nRequirement already satisfied: chardet<3.1.0,>=3.0.2 in /opt/conda/lib/python3.6/site-packages (from requests->torchtext->fastai==0.7) (3.0.4)\nRequirement already satisfied: urllib3<1.25,>=1.21.1 in /opt/conda/lib/python3.6/site-packages (from requests->torchtext->fastai==0.7) (1.22)\nRequirement already satisfied: terminado>=0.8.1 in /opt/conda/lib/python3.6/site-packages (from notebook>=4.4.1->widgetsnbextension->fastai==0.7) (0.8.1)\nRequirement already satisfied: Send2Trash in /opt/conda/lib/python3.6/site-packages (from notebook>=4.4.1->widgetsnbextension->fastai==0.7) (1.5.0)\nRequirement already satisfied: jupyter-core>=4.4.0 in /opt/conda/lib/python3.6/site-packages (from notebook>=4.4.1->widgetsnbextension->fastai==0.7) (4.4.0)\nRequirement already satisfied: mistune>=0.7.4 in /opt/conda/lib/python3.6/site-packages (from nbconvert->jupyter->fastai==0.7) (0.8.3)\nRequirement already satisfied: pandocfilters>=1.4.1 in /opt/conda/lib/python3.6/site-packages (from nbconvert->jupyter->fastai==0.7) (1.4.2)\nRequirement already satisfied: fiona in /opt/conda/lib/python3.6/site-packages (from geopandas>=0.3.0->plotnine->fastai==0.7) (1.8.4)\nRequirement already satisfied: pyproj in /opt/conda/lib/python3.6/site-packages (from geopandas>=0.3.0->plotnine->fastai==0.7) (1.9.6)\nRequirement already satisfied: shapely in /opt/conda/lib/python3.6/site-packages (from geopandas>=0.3.0->plotnine->fastai==0.7) (1.6.4.post2)\nRequirement already satisfied: palettable in /opt/conda/lib/python3.6/site-packages (from mizani>=0.4.5->plotnine->fastai==0.7) (3.1.1)\nRequirement already satisfied: click-plugins>=1.0 in /opt/conda/lib/python3.6/site-packages (from fiona->geopandas>=0.3.0->plotnine->fastai==0.7) (1.0.4)\nRequirement already satisfied: attrs>=17 in /opt/conda/lib/python3.6/site-packages (from fiona->geopandas>=0.3.0->plotnine->fastai==0.7) (18.1.0)\nRequirement already satisfied: munch in /opt/conda/lib/python3.6/site-packages (from fiona->geopandas>=0.3.0->plotnine->fastai==0.7) (2.3.2)\nRequirement already satisfied: click<8,>=4.0 in /opt/conda/lib/python3.6/site-packages (from fiona->geopandas>=0.3.0->plotnine->fastai==0.7) (7.0)\nRequirement already satisfied: cligj>=0.5 in /opt/conda/lib/python3.6/site-packages (from fiona->geopandas>=0.3.0->plotnine->fastai==0.7) (0.5.0)\nInstalling collected packages: torch, fastai\n  Found existing installation: torch 1.0.0\n    Uninstalling torch-1.0.0:\n      Successfully uninstalled torch-1.0.0\n  Found existing installation: fastai 1.0.39\n    Uninstalling fastai-1.0.39:\n      Successfully uninstalled fastai-1.0.39\nSuccessfully installed fastai-0.7.0 torch-0.3.1\n\u001b[33mYou are using pip version 18.1, however version 19.0.1 is available.\nYou should consider upgrading via the 'pip install --upgrade pip' command.\u001b[0m\n",
          "name": "stdout"
        }
      ]
    },
    {
      "metadata": {
        "id": "1W1Gy911ztE0",
        "colab_type": "code",
        "colab": {},
        "trusted": true,
        "_uuid": "7bad1e3782da8d6d88bc648c97b93f47107bb5a1"
      },
      "cell_type": "code",
      "source": "from fastai.imports import *\nfrom fastai.structured import *\n\nfrom pandas_summary import DataFrameSummary\nfrom sklearn.ensemble import RandomForestRegressor, RandomForestClassifier\nfrom IPython.display import display\nimport IPython\n\nfrom sklearn import metrics",
      "execution_count": 27,
      "outputs": []
    },
    {
      "metadata": {
        "id": "Q5MSEG5p3-dE",
        "colab_type": "code",
        "colab": {},
        "trusted": true,
        "_uuid": "3fb6add09514437ce9fb3c5b3a04491e31ccc1e9"
      },
      "cell_type": "code",
      "source": "PATH = 'data/bulldozer/'\n# Kaggle Kernel\n# !mkdir data && cp -r ../input/train data/bulldozer\n# !ls data/bulldozer -a",
      "execution_count": 7,
      "outputs": [
        {
          "output_type": "stream",
          "text": ".  ..  Train.csv\r\n",
          "name": "stdout"
        }
      ]
    },
    {
      "metadata": {
        "id": "kWgrZiRqDaEb",
        "colab_type": "code",
        "colab": {},
        "trusted": true,
        "_uuid": "63d108bc0a6b709d709d6fd38517d6b67d7a6ec5"
      },
      "cell_type": "code",
      "source": "# df_raw = pd.read_csv(f'{PATH}Train.csv', low_memory=False, parse_dates=[\"saledate\"])\ndf_raw = pd.read_feather('tmp/bulldozers-raw')",
      "execution_count": 38,
      "outputs": [
        {
          "output_type": "stream",
          "text": "/opt/conda/lib/python3.6/site-packages/pandas/io/feather_format.py:112: FutureWarning: `nthreads` argument is deprecated, pass `use_threads` instead\n  return feather.read_dataframe(path, nthreads=nthreads)\n",
          "name": "stderr"
        }
      ]
    },
    {
      "metadata": {
        "id": "p5FerspYGSvc",
        "colab_type": "code",
        "colab": {},
        "trusted": true,
        "_uuid": "d78ccceae0545412ddad529f5552bfa03a89fea4"
      },
      "cell_type": "code",
      "source": "def display_all(df):\n    with pd.option_context(\"display.max_rows\", 1000): \n        with pd.option_context(\"display.max_columns\", 1000): \n            display(df)\ndisplay_all(df_raw.tail().transpose())",
      "execution_count": 39,
      "outputs": [
        {
          "output_type": "display_data",
          "data": {
            "text/plain": "                                                                     401120  \\\nSalesID                                                             6333336   \nSalePrice                                                           9.25913   \nMachineID                                                           1840702   \nModelID                                                               21439   \ndatasource                                                              149   \nauctioneerID                                                              1   \nYearMade                                                               2005   \nMachineHoursCurrentMeter                                                NaN   \nUsageBand                                                                -1   \nfiModelDesc                                                           35NX2   \nfiBaseModel                                                              35   \nfiSecondaryDesc                                                          NX   \nfiModelSeries                                                             2   \nfiModelDescriptor                                                       NaN   \nProductSize                                                            Mini   \nfiProductClassDesc        Hydraulic Excavator, Track - 3.0 to 4.0 Metric...   \nstate                                                              Maryland   \nProductGroup                                                            TEX   \nProductGroupDesc                                           Track Excavators   \nDrive_System                                                            NaN   \nEnclosure                                                             EROPS   \nForks                                                                   NaN   \nPad_Type                                                                NaN   \nRide_Control                                                            NaN   \nStick                                                                   NaN   \nTransmission                                                            NaN   \nTurbocharged                                                            NaN   \nBlade_Extension                                                         NaN   \nBlade_Width                                                             NaN   \nEnclosure_Type                                                          NaN   \nEngine_Horsepower                                                       NaN   \nHydraulics                                                        Auxiliary   \nPushblock                                                               NaN   \nRipper                                                                  NaN   \nScarifier                                                               NaN   \nTip_Control                                                             NaN   \nTire_Size                                                               NaN   \nCoupler                                                 None or Unspecified   \nCoupler_System                                                          NaN   \nGrouser_Tracks                                                          NaN   \nHydraulics_Flow                                                         NaN   \nTrack_Type                                                            Steel   \nUndercarriage_Pad_Width                                 None or Unspecified   \nStick_Length                                            None or Unspecified   \nThumb                                                   None or Unspecified   \nPattern_Changer                                         None or Unspecified   \nGrouser_Type                                                         Double   \nBackhoe_Mounting                                                        NaN   \nBlade_Type                                                              NaN   \nTravel_Controls                                                         NaN   \nDifferential_Type                                                       NaN   \nSteering_Controls                                                       NaN   \nsaleYear                                                               2011   \nsaleMonth                                                                11   \nsaleWeek                                                                 44   \nsaleDay                                                                   2   \nsaleDayofweek                                                             2   \nsaleDayofyear                                                           306   \nsaleIs_month_end                                                      False   \nsaleIs_month_start                                                    False   \nsaleIs_quarter_end                                                    False   \nsaleIs_quarter_start                                                  False   \nsaleIs_year_end                                                       False   \nsaleIs_year_start                                                     False   \nsaleElapsed                                                      1320192000   \n\n                                                                     401121  \\\nSalesID                                                             6333337   \nSalePrice                                                           9.30565   \nMachineID                                                           1830472   \nModelID                                                               21439   \ndatasource                                                              149   \nauctioneerID                                                              1   \nYearMade                                                               2005   \nMachineHoursCurrentMeter                                                NaN   \nUsageBand                                                                -1   \nfiModelDesc                                                           35NX2   \nfiBaseModel                                                              35   \nfiSecondaryDesc                                                          NX   \nfiModelSeries                                                             2   \nfiModelDescriptor                                                       NaN   \nProductSize                                                            Mini   \nfiProductClassDesc        Hydraulic Excavator, Track - 3.0 to 4.0 Metric...   \nstate                                                              Maryland   \nProductGroup                                                            TEX   \nProductGroupDesc                                           Track Excavators   \nDrive_System                                                            NaN   \nEnclosure                                                             EROPS   \nForks                                                                   NaN   \nPad_Type                                                                NaN   \nRide_Control                                                            NaN   \nStick                                                                   NaN   \nTransmission                                                            NaN   \nTurbocharged                                                            NaN   \nBlade_Extension                                                         NaN   \nBlade_Width                                                             NaN   \nEnclosure_Type                                                          NaN   \nEngine_Horsepower                                                       NaN   \nHydraulics                                                         Standard   \nPushblock                                                               NaN   \nRipper                                                                  NaN   \nScarifier                                                               NaN   \nTip_Control                                                             NaN   \nTire_Size                                                               NaN   \nCoupler                                                 None or Unspecified   \nCoupler_System                                                          NaN   \nGrouser_Tracks                                                          NaN   \nHydraulics_Flow                                                         NaN   \nTrack_Type                                                            Steel   \nUndercarriage_Pad_Width                                 None or Unspecified   \nStick_Length                                            None or Unspecified   \nThumb                                                   None or Unspecified   \nPattern_Changer                                         None or Unspecified   \nGrouser_Type                                                         Double   \nBackhoe_Mounting                                                        NaN   \nBlade_Type                                                              NaN   \nTravel_Controls                                                         NaN   \nDifferential_Type                                                       NaN   \nSteering_Controls                                                       NaN   \nsaleYear                                                               2011   \nsaleMonth                                                                11   \nsaleWeek                                                                 44   \nsaleDay                                                                   2   \nsaleDayofweek                                                             2   \nsaleDayofyear                                                           306   \nsaleIs_month_end                                                      False   \nsaleIs_month_start                                                    False   \nsaleIs_quarter_end                                                    False   \nsaleIs_quarter_start                                                  False   \nsaleIs_year_end                                                       False   \nsaleIs_year_start                                                     False   \nsaleElapsed                                                      1320192000   \n\n                                                                     401122  \\\nSalesID                                                             6333338   \nSalePrice                                                            9.3501   \nMachineID                                                           1887659   \nModelID                                                               21439   \ndatasource                                                              149   \nauctioneerID                                                              1   \nYearMade                                                               2005   \nMachineHoursCurrentMeter                                                NaN   \nUsageBand                                                                -1   \nfiModelDesc                                                           35NX2   \nfiBaseModel                                                              35   \nfiSecondaryDesc                                                          NX   \nfiModelSeries                                                             2   \nfiModelDescriptor                                                       NaN   \nProductSize                                                            Mini   \nfiProductClassDesc        Hydraulic Excavator, Track - 3.0 to 4.0 Metric...   \nstate                                                              Maryland   \nProductGroup                                                            TEX   \nProductGroupDesc                                           Track Excavators   \nDrive_System                                                            NaN   \nEnclosure                                                             EROPS   \nForks                                                                   NaN   \nPad_Type                                                                NaN   \nRide_Control                                                            NaN   \nStick                                                                   NaN   \nTransmission                                                            NaN   \nTurbocharged                                                            NaN   \nBlade_Extension                                                         NaN   \nBlade_Width                                                             NaN   \nEnclosure_Type                                                          NaN   \nEngine_Horsepower                                                       NaN   \nHydraulics                                                        Auxiliary   \nPushblock                                                               NaN   \nRipper                                                                  NaN   \nScarifier                                                               NaN   \nTip_Control                                                             NaN   \nTire_Size                                                               NaN   \nCoupler                                                 None or Unspecified   \nCoupler_System                                                          NaN   \nGrouser_Tracks                                                          NaN   \nHydraulics_Flow                                                         NaN   \nTrack_Type                                                            Steel   \nUndercarriage_Pad_Width                                 None or Unspecified   \nStick_Length                                            None or Unspecified   \nThumb                                                   None or Unspecified   \nPattern_Changer                                         None or Unspecified   \nGrouser_Type                                                         Double   \nBackhoe_Mounting                                                        NaN   \nBlade_Type                                                              NaN   \nTravel_Controls                                                         NaN   \nDifferential_Type                                                       NaN   \nSteering_Controls                                                       NaN   \nsaleYear                                                               2011   \nsaleMonth                                                                11   \nsaleWeek                                                                 44   \nsaleDay                                                                   2   \nsaleDayofweek                                                             2   \nsaleDayofyear                                                           306   \nsaleIs_month_end                                                      False   \nsaleIs_month_start                                                    False   \nsaleIs_quarter_end                                                    False   \nsaleIs_quarter_start                                                  False   \nsaleIs_year_end                                                       False   \nsaleIs_year_start                                                     False   \nsaleElapsed                                                      1320192000   \n\n                                                                     401123  \\\nSalesID                                                             6333341   \nSalePrice                                                           9.10498   \nMachineID                                                           1903570   \nModelID                                                               21435   \ndatasource                                                              149   \nauctioneerID                                                              2   \nYearMade                                                               2005   \nMachineHoursCurrentMeter                                                NaN   \nUsageBand                                                                -1   \nfiModelDesc                                                            30NX   \nfiBaseModel                                                              30   \nfiSecondaryDesc                                                          NX   \nfiModelSeries                                                           NaN   \nfiModelDescriptor                                                       NaN   \nProductSize                                                            Mini   \nfiProductClassDesc        Hydraulic Excavator, Track - 2.0 to 3.0 Metric...   \nstate                                                               Florida   \nProductGroup                                                            TEX   \nProductGroupDesc                                           Track Excavators   \nDrive_System                                                            NaN   \nEnclosure                                                             EROPS   \nForks                                                                   NaN   \nPad_Type                                                                NaN   \nRide_Control                                                            NaN   \nStick                                                                   NaN   \nTransmission                                                            NaN   \nTurbocharged                                                            NaN   \nBlade_Extension                                                         NaN   \nBlade_Width                                                             NaN   \nEnclosure_Type                                                          NaN   \nEngine_Horsepower                                                       NaN   \nHydraulics                                                         Standard   \nPushblock                                                               NaN   \nRipper                                                                  NaN   \nScarifier                                                               NaN   \nTip_Control                                                             NaN   \nTire_Size                                                               NaN   \nCoupler                                                 None or Unspecified   \nCoupler_System                                                          NaN   \nGrouser_Tracks                                                          NaN   \nHydraulics_Flow                                                         NaN   \nTrack_Type                                                            Steel   \nUndercarriage_Pad_Width                                 None or Unspecified   \nStick_Length                                            None or Unspecified   \nThumb                                                   None or Unspecified   \nPattern_Changer                                         None or Unspecified   \nGrouser_Type                                                         Double   \nBackhoe_Mounting                                                        NaN   \nBlade_Type                                                              NaN   \nTravel_Controls                                                         NaN   \nDifferential_Type                                                       NaN   \nSteering_Controls                                                       NaN   \nsaleYear                                                               2011   \nsaleMonth                                                                10   \nsaleWeek                                                                 43   \nsaleDay                                                                  25   \nsaleDayofweek                                                             1   \nsaleDayofyear                                                           298   \nsaleIs_month_end                                                      False   \nsaleIs_month_start                                                    False   \nsaleIs_quarter_end                                                    False   \nsaleIs_quarter_start                                                  False   \nsaleIs_year_end                                                       False   \nsaleIs_year_start                                                     False   \nsaleElapsed                                                      1319500800   \n\n                                                                     401124  \nSalesID                                                             6333342  \nSalePrice                                                           8.95545  \nMachineID                                                           1926965  \nModelID                                                               21435  \ndatasource                                                              149  \nauctioneerID                                                              2  \nYearMade                                                               2005  \nMachineHoursCurrentMeter                                                NaN  \nUsageBand                                                                -1  \nfiModelDesc                                                            30NX  \nfiBaseModel                                                              30  \nfiSecondaryDesc                                                          NX  \nfiModelSeries                                                           NaN  \nfiModelDescriptor                                                       NaN  \nProductSize                                                            Mini  \nfiProductClassDesc        Hydraulic Excavator, Track - 2.0 to 3.0 Metric...  \nstate                                                               Florida  \nProductGroup                                                            TEX  \nProductGroupDesc                                           Track Excavators  \nDrive_System                                                            NaN  \nEnclosure                                                             EROPS  \nForks                                                                   NaN  \nPad_Type                                                                NaN  \nRide_Control                                                            NaN  \nStick                                                                   NaN  \nTransmission                                                            NaN  \nTurbocharged                                                            NaN  \nBlade_Extension                                                         NaN  \nBlade_Width                                                             NaN  \nEnclosure_Type                                                          NaN  \nEngine_Horsepower                                                       NaN  \nHydraulics                                                         Standard  \nPushblock                                                               NaN  \nRipper                                                                  NaN  \nScarifier                                                               NaN  \nTip_Control                                                             NaN  \nTire_Size                                                               NaN  \nCoupler                                                 None or Unspecified  \nCoupler_System                                                          NaN  \nGrouser_Tracks                                                          NaN  \nHydraulics_Flow                                                         NaN  \nTrack_Type                                                            Steel  \nUndercarriage_Pad_Width                                 None or Unspecified  \nStick_Length                                            None or Unspecified  \nThumb                                                   None or Unspecified  \nPattern_Changer                                         None or Unspecified  \nGrouser_Type                                                         Double  \nBackhoe_Mounting                                                        NaN  \nBlade_Type                                                              NaN  \nTravel_Controls                                                         NaN  \nDifferential_Type                                                       NaN  \nSteering_Controls                                                       NaN  \nsaleYear                                                               2011  \nsaleMonth                                                                10  \nsaleWeek                                                                 43  \nsaleDay                                                                  25  \nsaleDayofweek                                                             1  \nsaleDayofyear                                                           298  \nsaleIs_month_end                                                      False  \nsaleIs_month_start                                                    False  \nsaleIs_quarter_end                                                    False  \nsaleIs_quarter_start                                                  False  \nsaleIs_year_end                                                       False  \nsaleIs_year_start                                                     False  \nsaleElapsed                                                      1319500800  ",
            "text/html": "<div>\n<style scoped>\n    .dataframe tbody tr th:only-of-type {\n        vertical-align: middle;\n    }\n\n    .dataframe tbody tr th {\n        vertical-align: top;\n    }\n\n    .dataframe thead th {\n        text-align: right;\n    }\n</style>\n<table border=\"1\" class=\"dataframe\">\n  <thead>\n    <tr style=\"text-align: right;\">\n      <th></th>\n      <th>401120</th>\n      <th>401121</th>\n      <th>401122</th>\n      <th>401123</th>\n      <th>401124</th>\n    </tr>\n  </thead>\n  <tbody>\n    <tr>\n      <th>SalesID</th>\n      <td>6333336</td>\n      <td>6333337</td>\n      <td>6333338</td>\n      <td>6333341</td>\n      <td>6333342</td>\n    </tr>\n    <tr>\n      <th>SalePrice</th>\n      <td>9.25913</td>\n      <td>9.30565</td>\n      <td>9.3501</td>\n      <td>9.10498</td>\n      <td>8.95545</td>\n    </tr>\n    <tr>\n      <th>MachineID</th>\n      <td>1840702</td>\n      <td>1830472</td>\n      <td>1887659</td>\n      <td>1903570</td>\n      <td>1926965</td>\n    </tr>\n    <tr>\n      <th>ModelID</th>\n      <td>21439</td>\n      <td>21439</td>\n      <td>21439</td>\n      <td>21435</td>\n      <td>21435</td>\n    </tr>\n    <tr>\n      <th>datasource</th>\n      <td>149</td>\n      <td>149</td>\n      <td>149</td>\n      <td>149</td>\n      <td>149</td>\n    </tr>\n    <tr>\n      <th>auctioneerID</th>\n      <td>1</td>\n      <td>1</td>\n      <td>1</td>\n      <td>2</td>\n      <td>2</td>\n    </tr>\n    <tr>\n      <th>YearMade</th>\n      <td>2005</td>\n      <td>2005</td>\n      <td>2005</td>\n      <td>2005</td>\n      <td>2005</td>\n    </tr>\n    <tr>\n      <th>MachineHoursCurrentMeter</th>\n      <td>NaN</td>\n      <td>NaN</td>\n      <td>NaN</td>\n      <td>NaN</td>\n      <td>NaN</td>\n    </tr>\n    <tr>\n      <th>UsageBand</th>\n      <td>-1</td>\n      <td>-1</td>\n      <td>-1</td>\n      <td>-1</td>\n      <td>-1</td>\n    </tr>\n    <tr>\n      <th>fiModelDesc</th>\n      <td>35NX2</td>\n      <td>35NX2</td>\n      <td>35NX2</td>\n      <td>30NX</td>\n      <td>30NX</td>\n    </tr>\n    <tr>\n      <th>fiBaseModel</th>\n      <td>35</td>\n      <td>35</td>\n      <td>35</td>\n      <td>30</td>\n      <td>30</td>\n    </tr>\n    <tr>\n      <th>fiSecondaryDesc</th>\n      <td>NX</td>\n      <td>NX</td>\n      <td>NX</td>\n      <td>NX</td>\n      <td>NX</td>\n    </tr>\n    <tr>\n      <th>fiModelSeries</th>\n      <td>2</td>\n      <td>2</td>\n      <td>2</td>\n      <td>NaN</td>\n      <td>NaN</td>\n    </tr>\n    <tr>\n      <th>fiModelDescriptor</th>\n      <td>NaN</td>\n      <td>NaN</td>\n      <td>NaN</td>\n      <td>NaN</td>\n      <td>NaN</td>\n    </tr>\n    <tr>\n      <th>ProductSize</th>\n      <td>Mini</td>\n      <td>Mini</td>\n      <td>Mini</td>\n      <td>Mini</td>\n      <td>Mini</td>\n    </tr>\n    <tr>\n      <th>fiProductClassDesc</th>\n      <td>Hydraulic Excavator, Track - 3.0 to 4.0 Metric...</td>\n      <td>Hydraulic Excavator, Track - 3.0 to 4.0 Metric...</td>\n      <td>Hydraulic Excavator, Track - 3.0 to 4.0 Metric...</td>\n      <td>Hydraulic Excavator, Track - 2.0 to 3.0 Metric...</td>\n      <td>Hydraulic Excavator, Track - 2.0 to 3.0 Metric...</td>\n    </tr>\n    <tr>\n      <th>state</th>\n      <td>Maryland</td>\n      <td>Maryland</td>\n      <td>Maryland</td>\n      <td>Florida</td>\n      <td>Florida</td>\n    </tr>\n    <tr>\n      <th>ProductGroup</th>\n      <td>TEX</td>\n      <td>TEX</td>\n      <td>TEX</td>\n      <td>TEX</td>\n      <td>TEX</td>\n    </tr>\n    <tr>\n      <th>ProductGroupDesc</th>\n      <td>Track Excavators</td>\n      <td>Track Excavators</td>\n      <td>Track Excavators</td>\n      <td>Track Excavators</td>\n      <td>Track Excavators</td>\n    </tr>\n    <tr>\n      <th>Drive_System</th>\n      <td>NaN</td>\n      <td>NaN</td>\n      <td>NaN</td>\n      <td>NaN</td>\n      <td>NaN</td>\n    </tr>\n    <tr>\n      <th>Enclosure</th>\n      <td>EROPS</td>\n      <td>EROPS</td>\n      <td>EROPS</td>\n      <td>EROPS</td>\n      <td>EROPS</td>\n    </tr>\n    <tr>\n      <th>Forks</th>\n      <td>NaN</td>\n      <td>NaN</td>\n      <td>NaN</td>\n      <td>NaN</td>\n      <td>NaN</td>\n    </tr>\n    <tr>\n      <th>Pad_Type</th>\n      <td>NaN</td>\n      <td>NaN</td>\n      <td>NaN</td>\n      <td>NaN</td>\n      <td>NaN</td>\n    </tr>\n    <tr>\n      <th>Ride_Control</th>\n      <td>NaN</td>\n      <td>NaN</td>\n      <td>NaN</td>\n      <td>NaN</td>\n      <td>NaN</td>\n    </tr>\n    <tr>\n      <th>Stick</th>\n      <td>NaN</td>\n      <td>NaN</td>\n      <td>NaN</td>\n      <td>NaN</td>\n      <td>NaN</td>\n    </tr>\n    <tr>\n      <th>Transmission</th>\n      <td>NaN</td>\n      <td>NaN</td>\n      <td>NaN</td>\n      <td>NaN</td>\n      <td>NaN</td>\n    </tr>\n    <tr>\n      <th>Turbocharged</th>\n      <td>NaN</td>\n      <td>NaN</td>\n      <td>NaN</td>\n      <td>NaN</td>\n      <td>NaN</td>\n    </tr>\n    <tr>\n      <th>Blade_Extension</th>\n      <td>NaN</td>\n      <td>NaN</td>\n      <td>NaN</td>\n      <td>NaN</td>\n      <td>NaN</td>\n    </tr>\n    <tr>\n      <th>Blade_Width</th>\n      <td>NaN</td>\n      <td>NaN</td>\n      <td>NaN</td>\n      <td>NaN</td>\n      <td>NaN</td>\n    </tr>\n    <tr>\n      <th>Enclosure_Type</th>\n      <td>NaN</td>\n      <td>NaN</td>\n      <td>NaN</td>\n      <td>NaN</td>\n      <td>NaN</td>\n    </tr>\n    <tr>\n      <th>Engine_Horsepower</th>\n      <td>NaN</td>\n      <td>NaN</td>\n      <td>NaN</td>\n      <td>NaN</td>\n      <td>NaN</td>\n    </tr>\n    <tr>\n      <th>Hydraulics</th>\n      <td>Auxiliary</td>\n      <td>Standard</td>\n      <td>Auxiliary</td>\n      <td>Standard</td>\n      <td>Standard</td>\n    </tr>\n    <tr>\n      <th>Pushblock</th>\n      <td>NaN</td>\n      <td>NaN</td>\n      <td>NaN</td>\n      <td>NaN</td>\n      <td>NaN</td>\n    </tr>\n    <tr>\n      <th>Ripper</th>\n      <td>NaN</td>\n      <td>NaN</td>\n      <td>NaN</td>\n      <td>NaN</td>\n      <td>NaN</td>\n    </tr>\n    <tr>\n      <th>Scarifier</th>\n      <td>NaN</td>\n      <td>NaN</td>\n      <td>NaN</td>\n      <td>NaN</td>\n      <td>NaN</td>\n    </tr>\n    <tr>\n      <th>Tip_Control</th>\n      <td>NaN</td>\n      <td>NaN</td>\n      <td>NaN</td>\n      <td>NaN</td>\n      <td>NaN</td>\n    </tr>\n    <tr>\n      <th>Tire_Size</th>\n      <td>NaN</td>\n      <td>NaN</td>\n      <td>NaN</td>\n      <td>NaN</td>\n      <td>NaN</td>\n    </tr>\n    <tr>\n      <th>Coupler</th>\n      <td>None or Unspecified</td>\n      <td>None or Unspecified</td>\n      <td>None or Unspecified</td>\n      <td>None or Unspecified</td>\n      <td>None or Unspecified</td>\n    </tr>\n    <tr>\n      <th>Coupler_System</th>\n      <td>NaN</td>\n      <td>NaN</td>\n      <td>NaN</td>\n      <td>NaN</td>\n      <td>NaN</td>\n    </tr>\n    <tr>\n      <th>Grouser_Tracks</th>\n      <td>NaN</td>\n      <td>NaN</td>\n      <td>NaN</td>\n      <td>NaN</td>\n      <td>NaN</td>\n    </tr>\n    <tr>\n      <th>Hydraulics_Flow</th>\n      <td>NaN</td>\n      <td>NaN</td>\n      <td>NaN</td>\n      <td>NaN</td>\n      <td>NaN</td>\n    </tr>\n    <tr>\n      <th>Track_Type</th>\n      <td>Steel</td>\n      <td>Steel</td>\n      <td>Steel</td>\n      <td>Steel</td>\n      <td>Steel</td>\n    </tr>\n    <tr>\n      <th>Undercarriage_Pad_Width</th>\n      <td>None or Unspecified</td>\n      <td>None or Unspecified</td>\n      <td>None or Unspecified</td>\n      <td>None or Unspecified</td>\n      <td>None or Unspecified</td>\n    </tr>\n    <tr>\n      <th>Stick_Length</th>\n      <td>None or Unspecified</td>\n      <td>None or Unspecified</td>\n      <td>None or Unspecified</td>\n      <td>None or Unspecified</td>\n      <td>None or Unspecified</td>\n    </tr>\n    <tr>\n      <th>Thumb</th>\n      <td>None or Unspecified</td>\n      <td>None or Unspecified</td>\n      <td>None or Unspecified</td>\n      <td>None or Unspecified</td>\n      <td>None or Unspecified</td>\n    </tr>\n    <tr>\n      <th>Pattern_Changer</th>\n      <td>None or Unspecified</td>\n      <td>None or Unspecified</td>\n      <td>None or Unspecified</td>\n      <td>None or Unspecified</td>\n      <td>None or Unspecified</td>\n    </tr>\n    <tr>\n      <th>Grouser_Type</th>\n      <td>Double</td>\n      <td>Double</td>\n      <td>Double</td>\n      <td>Double</td>\n      <td>Double</td>\n    </tr>\n    <tr>\n      <th>Backhoe_Mounting</th>\n      <td>NaN</td>\n      <td>NaN</td>\n      <td>NaN</td>\n      <td>NaN</td>\n      <td>NaN</td>\n    </tr>\n    <tr>\n      <th>Blade_Type</th>\n      <td>NaN</td>\n      <td>NaN</td>\n      <td>NaN</td>\n      <td>NaN</td>\n      <td>NaN</td>\n    </tr>\n    <tr>\n      <th>Travel_Controls</th>\n      <td>NaN</td>\n      <td>NaN</td>\n      <td>NaN</td>\n      <td>NaN</td>\n      <td>NaN</td>\n    </tr>\n    <tr>\n      <th>Differential_Type</th>\n      <td>NaN</td>\n      <td>NaN</td>\n      <td>NaN</td>\n      <td>NaN</td>\n      <td>NaN</td>\n    </tr>\n    <tr>\n      <th>Steering_Controls</th>\n      <td>NaN</td>\n      <td>NaN</td>\n      <td>NaN</td>\n      <td>NaN</td>\n      <td>NaN</td>\n    </tr>\n    <tr>\n      <th>saleYear</th>\n      <td>2011</td>\n      <td>2011</td>\n      <td>2011</td>\n      <td>2011</td>\n      <td>2011</td>\n    </tr>\n    <tr>\n      <th>saleMonth</th>\n      <td>11</td>\n      <td>11</td>\n      <td>11</td>\n      <td>10</td>\n      <td>10</td>\n    </tr>\n    <tr>\n      <th>saleWeek</th>\n      <td>44</td>\n      <td>44</td>\n      <td>44</td>\n      <td>43</td>\n      <td>43</td>\n    </tr>\n    <tr>\n      <th>saleDay</th>\n      <td>2</td>\n      <td>2</td>\n      <td>2</td>\n      <td>25</td>\n      <td>25</td>\n    </tr>\n    <tr>\n      <th>saleDayofweek</th>\n      <td>2</td>\n      <td>2</td>\n      <td>2</td>\n      <td>1</td>\n      <td>1</td>\n    </tr>\n    <tr>\n      <th>saleDayofyear</th>\n      <td>306</td>\n      <td>306</td>\n      <td>306</td>\n      <td>298</td>\n      <td>298</td>\n    </tr>\n    <tr>\n      <th>saleIs_month_end</th>\n      <td>False</td>\n      <td>False</td>\n      <td>False</td>\n      <td>False</td>\n      <td>False</td>\n    </tr>\n    <tr>\n      <th>saleIs_month_start</th>\n      <td>False</td>\n      <td>False</td>\n      <td>False</td>\n      <td>False</td>\n      <td>False</td>\n    </tr>\n    <tr>\n      <th>saleIs_quarter_end</th>\n      <td>False</td>\n      <td>False</td>\n      <td>False</td>\n      <td>False</td>\n      <td>False</td>\n    </tr>\n    <tr>\n      <th>saleIs_quarter_start</th>\n      <td>False</td>\n      <td>False</td>\n      <td>False</td>\n      <td>False</td>\n      <td>False</td>\n    </tr>\n    <tr>\n      <th>saleIs_year_end</th>\n      <td>False</td>\n      <td>False</td>\n      <td>False</td>\n      <td>False</td>\n      <td>False</td>\n    </tr>\n    <tr>\n      <th>saleIs_year_start</th>\n      <td>False</td>\n      <td>False</td>\n      <td>False</td>\n      <td>False</td>\n      <td>False</td>\n    </tr>\n    <tr>\n      <th>saleElapsed</th>\n      <td>1320192000</td>\n      <td>1320192000</td>\n      <td>1320192000</td>\n      <td>1319500800</td>\n      <td>1319500800</td>\n    </tr>\n  </tbody>\n</table>\n</div>"
          },
          "metadata": {}
        }
      ]
    },
    {
      "metadata": {
        "id": "X1WagAZxWA2W",
        "colab_type": "code",
        "colab": {},
        "trusted": true,
        "_uuid": "20d0060073e4d13654b19a2ff1cd8cf62ac6a831"
      },
      "cell_type": "code",
      "source": "df_raw.SalePrice = np.log(df_raw.SalePrice)",
      "execution_count": 10,
      "outputs": []
    },
    {
      "metadata": {
        "id": "BJZ-oNdwbm6N",
        "colab_type": "code",
        "colab": {},
        "trusted": true,
        "_uuid": "a13641c3f4b1f3af37499bcc1327da7b0c16ff8c"
      },
      "cell_type": "code",
      "source": "# df_raw.saledate.head\nadd_datepart(df_raw, 'saledate')",
      "execution_count": 11,
      "outputs": []
    },
    {
      "metadata": {
        "id": "skUqn9-Hb5hN",
        "colab_type": "code",
        "colab": {},
        "trusted": true,
        "_uuid": "323301b5083878820b0d71828561c200ac1c6bc2"
      },
      "cell_type": "code",
      "source": "# df_raw.saleYear.head()\n# display_all(df_raw.tail().transpose())\ntrain_cats(df_raw)\ndf_raw.UsageBand.cat.set_categories(['High', 'Medium', 'Low'], ordered=True, inplace=True)\ndf_raw.UsageBand = df_raw.UsageBand.cat.codes",
      "execution_count": 12,
      "outputs": []
    },
    {
      "metadata": {
        "id": "0pZeR71HeqwL",
        "colab_type": "code",
        "outputId": "6ef0c901-b27f-40ed-b6b0-63ba74f25a48",
        "colab": {
          "base_uri": "https://localhost:8080/",
          "height": 1126
        },
        "trusted": true,
        "_uuid": "8508d4bc87a690276fe14142be9c879d3f83222b"
      },
      "cell_type": "code",
      "source": "display_all(df_raw.isnull().sum().sort_index()/len(df_raw))",
      "execution_count": 13,
      "outputs": [
        {
          "output_type": "display_data",
          "data": {
            "text/plain": "Backhoe_Mounting            0.803872\nBlade_Extension             0.937129\nBlade_Type                  0.800977\nBlade_Width                 0.937129\nCoupler                     0.466620\nCoupler_System              0.891660\nDifferential_Type           0.826959\nDrive_System                0.739829\nEnclosure                   0.000810\nEnclosure_Type              0.937129\nEngine_Horsepower           0.937129\nForks                       0.521154\nGrouser_Tracks              0.891899\nGrouser_Type                0.752813\nHydraulics                  0.200823\nHydraulics_Flow             0.891899\nMachineHoursCurrentMeter    0.644089\nMachineID                   0.000000\nModelID                     0.000000\nPad_Type                    0.802720\nPattern_Changer             0.752651\nProductGroup                0.000000\nProductGroupDesc            0.000000\nProductSize                 0.525460\nPushblock                   0.937129\nRide_Control                0.629527\nRipper                      0.740388\nSalePrice                   0.000000\nSalesID                     0.000000\nScarifier                   0.937102\nSteering_Controls           0.827064\nStick                       0.802720\nStick_Length                0.752651\nThumb                       0.752476\nTip_Control                 0.937129\nTire_Size                   0.763869\nTrack_Type                  0.752813\nTransmission                0.543210\nTravel_Controls             0.800975\nTurbocharged                0.802720\nUndercarriage_Pad_Width     0.751020\nUsageBand                   0.000000\nYearMade                    0.000000\nauctioneerID                0.050199\ndatasource                  0.000000\nfiBaseModel                 0.000000\nfiModelDesc                 0.000000\nfiModelDescriptor           0.820707\nfiModelSeries               0.858129\nfiProductClassDesc          0.000000\nfiSecondaryDesc             0.342016\nsaleDay                     0.000000\nsaleDayofweek               0.000000\nsaleDayofyear               0.000000\nsaleElapsed                 0.000000\nsaleIs_month_end            0.000000\nsaleIs_month_start          0.000000\nsaleIs_quarter_end          0.000000\nsaleIs_quarter_start        0.000000\nsaleIs_year_end             0.000000\nsaleIs_year_start           0.000000\nsaleMonth                   0.000000\nsaleWeek                    0.000000\nsaleYear                    0.000000\nstate                       0.000000\ndtype: float64"
          },
          "metadata": {}
        }
      ]
    },
    {
      "metadata": {
        "id": "8Oo3zgI-f8oM",
        "colab_type": "code",
        "colab": {},
        "trusted": true,
        "_uuid": "8aaddcdb5202bfc1c3ac6d5d58b4b0ab817b6aa2"
      },
      "cell_type": "code",
      "source": "os.makedirs('tmp', exist_ok=True)\ndf_raw.to_feather('tmp/bulldozers-raw')",
      "execution_count": 14,
      "outputs": []
    },
    {
      "metadata": {
        "id": "8449fiatgqCS",
        "colab_type": "code",
        "colab": {},
        "trusted": true,
        "_uuid": "a1f97e3ada5b2b6f5590c3d098b0a5777aaef09a"
      },
      "cell_type": "code",
      "source": "x, y, nas = proc_df(df_raw, 'SalePrice')",
      "execution_count": 40,
      "outputs": []
    },
    {
      "metadata": {
        "id": "8ckUbVDNWtXN",
        "colab_type": "code",
        "outputId": "3f88fed3-98fc-43d3-fed6-acd196d1bd0c",
        "colab": {
          "base_uri": "https://localhost:8080/",
          "height": 121
        },
        "trusted": true,
        "_uuid": "7fc8ea0b2f6372b0dfabcc00c1fa055ee15b5613"
      },
      "cell_type": "code",
      "source": "m = RandomForestRegressor(n_jobs=-1)\n%time m.fit(x, y)\nm.score(x, y)",
      "execution_count": null,
      "outputs": []
    },
    {
      "metadata": {
        "id": "ARnv7BekbR_T",
        "colab_type": "code",
        "outputId": "8daaba36-bdee-41f0-8f22-d3cabb2b826c",
        "colab": {
          "base_uri": "https://localhost:8080/",
          "height": 34
        },
        "trusted": true,
        "_uuid": "ae6157638596936ba8a2ec5c8be4e0bb5901cc21"
      },
      "cell_type": "code",
      "source": "def split_vals(a, n): return a[:n].copy(), a[n:].copy()\nn_valid = 12000\nn_trn = len(x) - n_valid\nraw_train, raw_valid = split_vals(df_raw, n_trn)\nX_train, X_valid = split_vals(x, n_trn)\ny_train, y_valid = split_vals(y, n_trn)\nX_train.shape, y_train.shape, X_valid.shape",
      "execution_count": 16,
      "outputs": [
        {
          "output_type": "execute_result",
          "execution_count": 16,
          "data": {
            "text/plain": "((389125, 66), (389125,), (12000, 66))"
          },
          "metadata": {}
        }
      ]
    },
    {
      "metadata": {
        "id": "hcZ1cPGNkrcf",
        "colab_type": "code",
        "colab": {},
        "trusted": true,
        "_uuid": "c6d29296fccb5e2c65c0521082404edc9cf48a26"
      },
      "cell_type": "code",
      "source": "def rmse(x,y): return math.sqrt(((x-y)**2).mean())\ndef print_score(m):\n    res = [rmse(m.predict(X_train), y_train),\n           rmse(m.predict(X_valid), y_valid),\n           m.score(X_train, y_train), m.score(X_valid, y_valid)]\n    if hasattr(m, 'oob_score_'): res.append(m.oob_score_)\n    print(res)",
      "execution_count": 17,
      "outputs": []
    },
    {
      "metadata": {
        "id": "LpBs0ik-l65u",
        "colab_type": "code",
        "outputId": "5b8e8873-b244-4cd1-892c-6209f28a6c30",
        "colab": {
          "base_uri": "https://localhost:8080/",
          "height": 34
        },
        "trusted": true,
        "_uuid": "9e1b5a7b912ba710981add095c2603dc2b93b806"
      },
      "cell_type": "code",
      "source": "m = RandomForestRegressor(n_jobs=-1)\n%time m.fit(x, y)\nm.score(x, y)\nprint_score(m)",
      "execution_count": 41,
      "outputs": [
        {
          "output_type": "stream",
          "text": "/opt/conda/lib/python3.6/site-packages/sklearn/ensemble/forest.py:246: FutureWarning: The default value of n_estimators will change from 10 in version 0.20 to 100 in 0.22.\n  \"10 in version 0.20 to 100 in 0.22.\", FutureWarning)\n",
          "name": "stderr"
        },
        {
          "output_type": "stream",
          "text": "CPU times: user 1min 35s, sys: 576 ms, total: 1min 36s\nWall time: 50 s\n[7.833346804364986, 0.09402240646118123, -13846.111600969298, 0.984212596857716]\n",
          "name": "stdout"
        }
      ]
    },
    {
      "metadata": {
        "trusted": true,
        "_uuid": "3a28529e179c62298e2b62d357488f62d53866ad"
      },
      "cell_type": "code",
      "source": "df_raw.SalePrice = np.log(df_raw.SalePrice)",
      "execution_count": 19,
      "outputs": []
    },
    {
      "metadata": {
        "trusted": true,
        "_uuid": "4abd416952dd7897127a50120a9ffe091f29e91b"
      },
      "cell_type": "code",
      "source": "df_trn, y_trn, nas = proc_df(df_raw, 'SalePrice', subset=30000, na_dict=nas)\nX_train, _ = split_vals(df_trn, 20000)\ny_train, _ = split_vals(y_trn, 20000)",
      "execution_count": 42,
      "outputs": []
    },
    {
      "metadata": {
        "trusted": true,
        "_uuid": "a07fc3685322966dfdfbb7b521910ea1b997e052"
      },
      "cell_type": "code",
      "source": "m = RandomForestRegressor(n_jobs=-1)\n%time m.fit(X_train, y_train)\nprint_score(m)",
      "execution_count": 23,
      "outputs": [
        {
          "output_type": "stream",
          "text": "/opt/conda/lib/python3.6/site-packages/sklearn/ensemble/forest.py:246: FutureWarning: The default value of n_estimators will change from 10 in version 0.20 to 100 in 0.22.\n  \"10 in version 0.20 to 100 in 0.22.\", FutureWarning)\n",
          "name": "stderr"
        },
        {
          "output_type": "stream",
          "text": "CPU times: user 3.82 s, sys: 12 ms, total: 3.83 s\nWall time: 2.12 s\n[0.011130732176392277, 7.763913085388849, 0.9720416234555509, -106.64882749869577]\n",
          "name": "stdout"
        }
      ]
    },
    {
      "metadata": {
        "trusted": true,
        "_uuid": "3b1c7039d55688cb52987f7ca4a81b4739147db6"
      },
      "cell_type": "code",
      "source": "m = RandomForestRegressor(n_estimators=1, max_depth=3, bootstrap=False, n_jobs=-1)\nm.fit(X_train, y_train)\nprint_score(m)",
      "execution_count": 43,
      "outputs": [
        {
          "output_type": "stream",
          "text": "[0.5211497770627427, 0.5837391569223966, 0.4113438446206489, 0.39146490856702276]\n",
          "name": "stdout"
        }
      ]
    },
    {
      "metadata": {
        "trusted": true,
        "_uuid": "36a1b7cc1282cdd03a3a2abe1faf2043789b5fdc"
      },
      "cell_type": "code",
      "source": "draw_tree(m.estimators_[0], df_trn, precision=3)",
      "execution_count": 35,
      "outputs": [
        {
          "output_type": "error",
          "ename": "NameError",
          "evalue": "name 'IPython' is not defined",
          "traceback": [
            "\u001b[0;31m---------------------------------------------------------------------------\u001b[0m",
            "\u001b[0;31mNameError\u001b[0m                                 Traceback (most recent call last)",
            "\u001b[0;32m<ipython-input-35-8073825267ef>\u001b[0m in \u001b[0;36m<module>\u001b[0;34m()\u001b[0m\n\u001b[0;32m----> 1\u001b[0;31m \u001b[0mdraw_tree\u001b[0m\u001b[0;34m(\u001b[0m\u001b[0mm\u001b[0m\u001b[0;34m.\u001b[0m\u001b[0mestimators_\u001b[0m\u001b[0;34m[\u001b[0m\u001b[0;36m0\u001b[0m\u001b[0;34m]\u001b[0m\u001b[0;34m,\u001b[0m \u001b[0mdf_trn\u001b[0m\u001b[0;34m,\u001b[0m \u001b[0mprecision\u001b[0m\u001b[0;34m=\u001b[0m\u001b[0;36m3\u001b[0m\u001b[0;34m)\u001b[0m\u001b[0;34m\u001b[0m\u001b[0m\n\u001b[0m",
            "\u001b[0;32m/opt/conda/lib/python3.6/site-packages/fastai/structured.py\u001b[0m in \u001b[0;36mdraw_tree\u001b[0;34m(t, df, size, ratio, precision)\u001b[0m\n\u001b[1;32m     30\u001b[0m     s=export_graphviz(t, out_file=None, feature_names=df.columns, filled=True,\n\u001b[1;32m     31\u001b[0m                       special_characters=True, rotate=True, precision=precision)\n\u001b[0;32m---> 32\u001b[0;31m     IPython.display.display(graphviz.Source(re.sub('Tree {',\n\u001b[0m\u001b[1;32m     33\u001b[0m        f'Tree {{ size={size}; ratio={ratio}', s)))\n\u001b[1;32m     34\u001b[0m \u001b[0;34m\u001b[0m\u001b[0m\n",
            "\u001b[0;31mNameError\u001b[0m: name 'IPython' is not defined"
          ]
        }
      ]
    },
    {
      "metadata": {
        "trusted": true,
        "_uuid": "ffc028a6966d2b179296a6dbdcde7f0df6ec81e8"
      },
      "cell_type": "code",
      "source": "?IPython",
      "execution_count": 36,
      "outputs": []
    },
    {
      "metadata": {
        "trusted": true,
        "scrolled": true,
        "_uuid": "0ae255d4f049238cef9f5b3cfb6653b1407f0f9e"
      },
      "cell_type": "code",
      "source": "m = RandomForestRegressor(n_estimators=1, bootstrap=False, n_jobs=-1)\nm.fit(X_train, y_train)\nprint_score(m)",
      "execution_count": 44,
      "outputs": [
        {
          "output_type": "stream",
          "text": "[3.7682219008410604e-17, 0.47834235871776437, 1.0, 0.5913743208353788]\n",
          "name": "stdout"
        }
      ]
    },
    {
      "metadata": {
        "trusted": true,
        "_uuid": "47ce07115c088d1a6419488416d6206c360da28e"
      },
      "cell_type": "code",
      "source": "m = RandomForestRegressor(n_jobs=-1)\nm.fit(X_train, y_train)\nprint_score(m)",
      "execution_count": 45,
      "outputs": [
        {
          "output_type": "stream",
          "text": "/opt/conda/lib/python3.6/site-packages/sklearn/ensemble/forest.py:246: FutureWarning: The default value of n_estimators will change from 10 in version 0.20 to 100 in 0.22.\n  \"10 in version 0.20 to 100 in 0.22.\", FutureWarning)\n",
          "name": "stderr"
        },
        {
          "output_type": "stream",
          "text": "[0.10979170295843048, 0.3587331207651305, 0.9738738377381285, 0.7701783569047287]\n",
          "name": "stdout"
        }
      ]
    },
    {
      "metadata": {
        "trusted": true,
        "scrolled": true,
        "_uuid": "736c50978f435284bf34dec99177bce2a1c6b74d"
      },
      "cell_type": "code",
      "source": "preds = np.stack([t.predict(X_valid) for t in m.estimators_])\npreds[:,0], np.mean(preds[:,0]), y_valid[0]",
      "execution_count": 47,
      "outputs": [
        {
          "output_type": "execute_result",
          "execution_count": 47,
          "data": {
            "text/plain": "(array([10.04324949,  9.51044496,  9.51044496,  9.54681261,  9.43348392,\n         9.30565055,  9.47270464,  8.9226583 ,  9.10497986,  9.15904708]),\n 9.40094763773077,\n 9.104979856318357)"
          },
          "metadata": {}
        }
      ]
    },
    {
      "metadata": {
        "trusted": true,
        "_uuid": "2be5e73b1e9cf716b04492280011b13da67f4513"
      },
      "cell_type": "code",
      "source": "m = RandomForestRegressor(n_estimators=40, n_jobs=-1, \n                          oob_score=True)\nm.fit(X_train, y_train)\nprint_score(m)",
      "execution_count": 48,
      "outputs": [
        {
          "output_type": "stream",
          "text": "[0.09489419380349602, 0.350410830906491, 0.9804828743540394, 0.7807179832640307, 0.8591570059240375]\n",
          "name": "stdout"
        }
      ]
    },
    {
      "metadata": {
        "trusted": true,
        "_uuid": "40cc21f510fa008b3a84617eb15216f5b413174e"
      },
      "cell_type": "code",
      "source": "df_trn, y_trn = proc_df(df_raw, 'SalePrice')\nX_train, X_valid = split_vals(df_trn, n_trn)\ny_train, y_valid = split_vals(y_trn, n_trn)\nset_rf_samples(20000)",
      "execution_count": 50,
      "outputs": [
        {
          "output_type": "error",
          "ename": "ValueError",
          "evalue": "too many values to unpack (expected 2)",
          "traceback": [
            "\u001b[0;31m---------------------------------------------------------------------------\u001b[0m",
            "\u001b[0;31mValueError\u001b[0m                                Traceback (most recent call last)",
            "\u001b[0;32m<ipython-input-50-b56f1bc49986>\u001b[0m in \u001b[0;36m<module>\u001b[0;34m()\u001b[0m\n\u001b[0;32m----> 1\u001b[0;31m \u001b[0mdf_trn\u001b[0m\u001b[0;34m,\u001b[0m \u001b[0my_trn\u001b[0m \u001b[0;34m=\u001b[0m \u001b[0mproc_df\u001b[0m\u001b[0;34m(\u001b[0m\u001b[0mdf_raw\u001b[0m\u001b[0;34m,\u001b[0m \u001b[0;34m'SalePrice'\u001b[0m\u001b[0;34m)\u001b[0m\u001b[0;34m\u001b[0m\u001b[0m\n\u001b[0m\u001b[1;32m      2\u001b[0m \u001b[0mX_train\u001b[0m\u001b[0;34m,\u001b[0m \u001b[0mX_valid\u001b[0m \u001b[0;34m=\u001b[0m \u001b[0msplit_vals\u001b[0m\u001b[0;34m(\u001b[0m\u001b[0mdf_trn\u001b[0m\u001b[0;34m,\u001b[0m \u001b[0mn_trn\u001b[0m\u001b[0;34m)\u001b[0m\u001b[0;34m\u001b[0m\u001b[0m\n\u001b[1;32m      3\u001b[0m \u001b[0my_train\u001b[0m\u001b[0;34m,\u001b[0m \u001b[0my_valid\u001b[0m \u001b[0;34m=\u001b[0m \u001b[0msplit_vals\u001b[0m\u001b[0;34m(\u001b[0m\u001b[0my_trn\u001b[0m\u001b[0;34m,\u001b[0m \u001b[0mn_trn\u001b[0m\u001b[0;34m)\u001b[0m\u001b[0;34m\u001b[0m\u001b[0m\n\u001b[1;32m      4\u001b[0m \u001b[0mset_rf_samples\u001b[0m\u001b[0;34m(\u001b[0m\u001b[0;36m20000\u001b[0m\u001b[0;34m)\u001b[0m\u001b[0;34m\u001b[0m\u001b[0m\n",
            "\u001b[0;31mValueError\u001b[0m: too many values to unpack (expected 2)"
          ]
        }
      ]
    },
    {
      "metadata": {
        "trusted": true,
        "_uuid": "e2301aa69e33fc5f3f754e32a670f83dfc434ade"
      },
      "cell_type": "code",
      "source": "",
      "execution_count": null,
      "outputs": []
    }
  ],
  "metadata": {
    "colab": {
      "name": "fastai_1.ipynb",
      "version": "0.3.2",
      "provenance": []
    },
    "kernelspec": {
      "display_name": "Python 3",
      "language": "python",
      "name": "python3"
    },
    "accelerator": "GPU",
    "language_info": {
      "name": "python",
      "version": "3.6.6",
      "mimetype": "text/x-python",
      "codemirror_mode": {
        "name": "ipython",
        "version": 3
      },
      "pygments_lexer": "ipython3",
      "nbconvert_exporter": "python",
      "file_extension": ".py"
    }
  },
  "nbformat": 4,
  "nbformat_minor": 1
}