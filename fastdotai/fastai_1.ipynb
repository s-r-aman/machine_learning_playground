{
  "cells": [
    {
      "metadata": {
        "id": "o6oh7dbVznG1",
        "colab_type": "code",
        "colab": {},
        "trusted": true,
        "_uuid": "c150a443a52aaca84d9b0fe8e50d3242afa6a582",
        "scrolled": false
      },
      "cell_type": "code",
      "source": "!pip install pandas-summary ipython fastai==0.7 treeinterpreter",
      "execution_count": 1,
      "outputs": [
        {
          "output_type": "stream",
          "text": "Requirement already satisfied: pandas-summary in /opt/conda/lib/python3.6/site-packages (0.0.6)\nRequirement already satisfied: ipython in /opt/conda/lib/python3.6/site-packages (6.4.0)\nCollecting fastai==0.7\n\u001b[?25l  Downloading https://files.pythonhosted.org/packages/50/6d/9d0d6e17a78b0598d5e8c49a0d03ffc7ff265ae62eca3e2345fab14edb9b/fastai-0.7.0-py3-none-any.whl (112kB)\n\u001b[K    100% |████████████████████████████████| 122kB 3.9MB/s ta 0:00:01\n\u001b[?25hCollecting treeinterpreter\n  Downloading https://files.pythonhosted.org/packages/56/cb/78ec761719d2546d4bb75ec02773d01c0a0e8229fe3f8edf6a6ac961e24e/treeinterpreter-0.2.2-py2.py3-none-any.whl\nRequirement already satisfied: pandas in /opt/conda/lib/python3.6/site-packages (from pandas-summary) (0.23.4)\nRequirement already satisfied: numpy in /opt/conda/lib/python3.6/site-packages (from pandas-summary) (1.16.0)\nRequirement already satisfied: traitlets>=4.2 in /opt/conda/lib/python3.6/site-packages (from ipython) (4.3.2)\nRequirement already satisfied: setuptools>=18.5 in /opt/conda/lib/python3.6/site-packages (from ipython) (39.1.0)\nRequirement already satisfied: pygments in /opt/conda/lib/python3.6/site-packages (from ipython) (2.2.0)\nRequirement already satisfied: pexpect; sys_platform != \"win32\" in /opt/conda/lib/python3.6/site-packages (from ipython) (4.5.0)\nRequirement already satisfied: pickleshare in /opt/conda/lib/python3.6/site-packages (from ipython) (0.7.4)\nRequirement already satisfied: decorator in /opt/conda/lib/python3.6/site-packages (from ipython) (4.3.0)\nRequirement already satisfied: jedi>=0.10 in /opt/conda/lib/python3.6/site-packages (from ipython) (0.12.0)\nRequirement already satisfied: simplegeneric>0.8 in /opt/conda/lib/python3.6/site-packages (from ipython) (0.8.1)\nRequirement already satisfied: backcall in /opt/conda/lib/python3.6/site-packages (from ipython) (0.1.0)\nRequirement already satisfied: prompt-toolkit<2.0.0,>=1.0.15 in /opt/conda/lib/python3.6/site-packages (from ipython) (1.0.15)\nRequirement already satisfied: cycler in /opt/conda/lib/python3.6/site-packages (from fastai==0.7) (0.10.0)\nCollecting torch<0.4 (from fastai==0.7)\n\u001b[?25l  Downloading https://files.pythonhosted.org/packages/5b/a5/e8b50b55b1abac9f1e3346c4242f1e42a82d368a8442cbd50c532922f6c4/torch-0.3.1-cp36-cp36m-manylinux1_x86_64.whl (496.4MB)\n\u001b[K    100% |████████████████████████████████| 496.4MB 77kB/s  eta 0:00:01  7% |██▌                             | 38.0MB 42.0MB/s eta 0:00:11    14% |████▋                           | 70.8MB 36.9MB/s eta 0:00:12██▍                          | 82.8MB 37.7MB/s eta 0:00:11    26% |████████▌                       | 131.5MB 35.6MB/s eta 0:00:11    31% |██████████                      | 156.2MB 35.7MB/s eta 0:00:10    32% |██████████▎                     | 160.3MB 36.4MB/s eta 0:00:10    44% |██████████████▎                 | 221.4MB 35.5MB/s eta 0:00:08    45% |██████████████▍                 | 223.4MB 35.7MB/s eta 0:00:08��███████▋               | 257.7MB 37.8MB/s eta 0:00:07    52% |████████████████▊               | 259.6MB 6.5MB/s eta 0:00:37    77% |████████████████████████▉       | 384.9MB 32.0MB/s eta 0:00:04    79% |█████████████████████████▍      | 394.7MB 35.5MB/s eta 0:00:03    82% |██████████████████████████▌     | 410.4MB 35.7MB/s eta 0:00:03    84% |███████████████████████████     | 419.4MB 7.4MB/s eta 0:00:11    84% |███████████████████████████     | 419.6MB 5.1MB/s eta 0:00:15    84% |███████████████████████████     | 420.0MB 9.4MB/s eta 0:00:09    85% |███████████████████████████▍    | 424.3MB 30.9MB/s eta 0:00:03    94% |██████████████████████████████▎ | 469.3MB 35.9MB/s eta 0:00:01\n\u001b[?25hRequirement already satisfied: ipython-genutils in /opt/conda/lib/python3.6/site-packages (from fastai==0.7) (0.2.0)\nRequirement already satisfied: tqdm in /opt/conda/lib/python3.6/site-packages (from fastai==0.7) (4.29.1)\nRequirement already satisfied: ipykernel in /opt/conda/lib/python3.6/site-packages (from fastai==0.7) (4.8.2)\nRequirement already satisfied: widgetsnbextension in /opt/conda/lib/python3.6/site-packages (from fastai==0.7) (3.2.1)\nRequirement already satisfied: feather-format in /opt/conda/lib/python3.6/site-packages (from fastai==0.7) (0.4.0)\nRequirement already satisfied: html5lib in /opt/conda/lib/python3.6/site-packages (from fastai==0.7) (1.0.1)\nRequirement already satisfied: graphviz in /opt/conda/lib/python3.6/site-packages (from fastai==0.7) (0.8.4)\nRequirement already satisfied: scipy in /opt/conda/lib/python3.6/site-packages (from fastai==0.7) (1.1.0)\nRequirement already satisfied: isoweek in /opt/conda/lib/python3.6/site-packages (from fastai==0.7) (1.3.3)\nRequirement already satisfied: ipywidgets in /opt/conda/lib/python3.6/site-packages (from fastai==0.7) (7.2.1)\nRequirement already satisfied: pyparsing in /opt/conda/lib/python3.6/site-packages (from fastai==0.7) (2.2.0)\nRequirement already satisfied: pytz in /opt/conda/lib/python3.6/site-packages (from fastai==0.7) (2018.4)\nRequirement already satisfied: bleach in /opt/conda/lib/python3.6/site-packages (from fastai==0.7) (2.1.3)\nRequirement already satisfied: torchvision in /opt/conda/lib/python3.6/site-packages (from fastai==0.7) (0.2.1)\nRequirement already satisfied: PyYAML in /opt/conda/lib/python3.6/site-packages (from fastai==0.7) (3.12)\nRequirement already satisfied: python-dateutil in /opt/conda/lib/python3.6/site-packages (from fastai==0.7) (2.6.0)\nRequirement already satisfied: torchtext in /opt/conda/lib/python3.6/site-packages (from fastai==0.7) (0.3.1)\nRequirement already satisfied: sklearn-pandas in /opt/conda/lib/python3.6/site-packages (from fastai==0.7) (1.8.0)\nRequirement already satisfied: entrypoints in /opt/conda/lib/python3.6/site-packages (from fastai==0.7) (0.2.3)\nRequirement already satisfied: certifi in /opt/conda/lib/python3.6/site-packages (from fastai==0.7) (2018.11.29)\nRequirement already satisfied: Jinja2 in /opt/conda/lib/python3.6/site-packages (from fastai==0.7) (2.10)\nRequirement already satisfied: opencv-python in /opt/conda/lib/python3.6/site-packages (from fastai==0.7) (4.0.0.21)\nRequirement already satisfied: jupyter in /opt/conda/lib/python3.6/site-packages (from fastai==0.7) (1.0.0)\nRequirement already satisfied: seaborn in /opt/conda/lib/python3.6/site-packages (from fastai==0.7) (0.9.0)\nRequirement already satisfied: wcwidth in /opt/conda/lib/python3.6/site-packages (from fastai==0.7) (0.1.7)\nRequirement already satisfied: MarkupSafe in /opt/conda/lib/python3.6/site-packages (from fastai==0.7) (1.0)\nRequirement already satisfied: jsonschema in /opt/conda/lib/python3.6/site-packages (from fastai==0.7) (2.6.0)\nRequirement already satisfied: webencodings in /opt/conda/lib/python3.6/site-packages (from fastai==0.7) (0.5.1)\nRequirement already satisfied: bcolz in /opt/conda/lib/python3.6/site-packages (from fastai==0.7) (1.2.1)\nRequirement already satisfied: testpath in /opt/conda/lib/python3.6/site-packages (from fastai==0.7) (0.3.1)\nRequirement already satisfied: pyzmq in /opt/conda/lib/python3.6/site-packages (from fastai==0.7) (17.0.0)\nRequirement already satisfied: tornado in /opt/conda/lib/python3.6/site-packages (from fastai==0.7) (5.0.2)\nRequirement already satisfied: Pillow in /opt/conda/lib/python3.6/site-packages (from fastai==0.7) (5.1.0)\nRequirement already satisfied: matplotlib in /opt/conda/lib/python3.6/site-packages (from fastai==0.7) (2.2.3)\nRequirement already satisfied: ptyprocess in /opt/conda/lib/python3.6/site-packages (from fastai==0.7) (0.5.2)\nRequirement already satisfied: plotnine in /opt/conda/lib/python3.6/site-packages (from fastai==0.7) (0.4.0)\nRequirement already satisfied: six in /opt/conda/lib/python3.6/site-packages (from traitlets>=4.2->ipython) (1.12.0)\nRequirement already satisfied: parso>=0.2.0 in /opt/conda/lib/python3.6/site-packages (from jedi>=0.10->ipython) (0.2.0)\nRequirement already satisfied: jupyter_client in /opt/conda/lib/python3.6/site-packages (from ipykernel->fastai==0.7) (5.2.3)\nRequirement already satisfied: notebook>=4.4.1 in /opt/conda/lib/python3.6/site-packages (from widgetsnbextension->fastai==0.7) (5.5.0)\nRequirement already satisfied: pyarrow>=0.4.0 in /opt/conda/lib/python3.6/site-packages (from feather-format->fastai==0.7) (0.10.0)\n",
          "name": "stdout"
        },
        {
          "output_type": "stream",
          "text": "Requirement already satisfied: nbformat>=4.2.0 in /opt/conda/lib/python3.6/site-packages (from ipywidgets->fastai==0.7) (4.4.0)\nRequirement already satisfied: requests in /opt/conda/lib/python3.6/site-packages (from torchtext->fastai==0.7) (2.21.0)\nRequirement already satisfied: scikit-learn>=0.15.0 in /opt/conda/lib/python3.6/site-packages (from sklearn-pandas->fastai==0.7) (0.20.2)\nRequirement already satisfied: qtconsole in /opt/conda/lib/python3.6/site-packages (from jupyter->fastai==0.7) (4.3.1)\nRequirement already satisfied: jupyter-console in /opt/conda/lib/python3.6/site-packages (from jupyter->fastai==0.7) (5.2.0)\nRequirement already satisfied: nbconvert in /opt/conda/lib/python3.6/site-packages (from jupyter->fastai==0.7) (5.3.1)\nRequirement already satisfied: kiwisolver>=1.0.1 in /opt/conda/lib/python3.6/site-packages (from matplotlib->fastai==0.7) (1.0.1)\nRequirement already satisfied: mizani>=0.4.5 in /opt/conda/lib/python3.6/site-packages (from plotnine->fastai==0.7) (0.5.3)\nRequirement already satisfied: patsy>=0.4.1 in /opt/conda/lib/python3.6/site-packages (from plotnine->fastai==0.7) (0.5.0)\nRequirement already satisfied: statsmodels>=0.8.0 in /opt/conda/lib/python3.6/site-packages (from plotnine->fastai==0.7) (0.9.0)\nRequirement already satisfied: descartes>=1.1.0 in /opt/conda/lib/python3.6/site-packages (from plotnine->fastai==0.7) (1.1.0)\nRequirement already satisfied: geopandas>=0.3.0 in /opt/conda/lib/python3.6/site-packages (from plotnine->fastai==0.7) (0.4.0)\nRequirement already satisfied: jupyter_core in /opt/conda/lib/python3.6/site-packages (from jupyter_client->ipykernel->fastai==0.7) (4.4.0)\nRequirement already satisfied: terminado>=0.8.1 in /opt/conda/lib/python3.6/site-packages (from notebook>=4.4.1->widgetsnbextension->fastai==0.7) (0.8.1)\nRequirement already satisfied: Send2Trash in /opt/conda/lib/python3.6/site-packages (from notebook>=4.4.1->widgetsnbextension->fastai==0.7) (1.5.0)\nRequirement already satisfied: idna<2.9,>=2.5 in /opt/conda/lib/python3.6/site-packages (from requests->torchtext->fastai==0.7) (2.6)\nRequirement already satisfied: chardet<3.1.0,>=3.0.2 in /opt/conda/lib/python3.6/site-packages (from requests->torchtext->fastai==0.7) (3.0.4)\nRequirement already satisfied: urllib3<1.25,>=1.21.1 in /opt/conda/lib/python3.6/site-packages (from requests->torchtext->fastai==0.7) (1.22)\nRequirement already satisfied: mistune>=0.7.4 in /opt/conda/lib/python3.6/site-packages (from nbconvert->jupyter->fastai==0.7) (0.8.3)\nRequirement already satisfied: pandocfilters>=1.4.1 in /opt/conda/lib/python3.6/site-packages (from nbconvert->jupyter->fastai==0.7) (1.4.2)\nRequirement already satisfied: palettable in /opt/conda/lib/python3.6/site-packages (from mizani>=0.4.5->plotnine->fastai==0.7) (3.1.1)\nRequirement already satisfied: pyproj in /opt/conda/lib/python3.6/site-packages (from geopandas>=0.3.0->plotnine->fastai==0.7) (1.9.6)\nRequirement already satisfied: fiona in /opt/conda/lib/python3.6/site-packages (from geopandas>=0.3.0->plotnine->fastai==0.7) (1.8.4)\nRequirement already satisfied: shapely in /opt/conda/lib/python3.6/site-packages (from geopandas>=0.3.0->plotnine->fastai==0.7) (1.6.4.post2)\nRequirement already satisfied: click<8,>=4.0 in /opt/conda/lib/python3.6/site-packages (from fiona->geopandas>=0.3.0->plotnine->fastai==0.7) (7.0)\nRequirement already satisfied: munch in /opt/conda/lib/python3.6/site-packages (from fiona->geopandas>=0.3.0->plotnine->fastai==0.7) (2.3.2)\nRequirement already satisfied: cligj>=0.5 in /opt/conda/lib/python3.6/site-packages (from fiona->geopandas>=0.3.0->plotnine->fastai==0.7) (0.5.0)\nRequirement already satisfied: click-plugins>=1.0 in /opt/conda/lib/python3.6/site-packages (from fiona->geopandas>=0.3.0->plotnine->fastai==0.7) (1.0.4)\nRequirement already satisfied: attrs>=17 in /opt/conda/lib/python3.6/site-packages (from fiona->geopandas>=0.3.0->plotnine->fastai==0.7) (18.1.0)\nInstalling collected packages: torch, fastai, treeinterpreter\n  Found existing installation: torch 1.0.0\n    Uninstalling torch-1.0.0:\n      Successfully uninstalled torch-1.0.0\n  Found existing installation: fastai 1.0.39\n    Uninstalling fastai-1.0.39:\n      Successfully uninstalled fastai-1.0.39\nSuccessfully installed fastai-0.7.0 torch-0.3.1 treeinterpreter-0.2.2\n\u001b[33mYou are using pip version 18.1, however version 19.0.2 is available.\nYou should consider upgrading via the 'pip install --upgrade pip' command.\u001b[0m\n",
          "name": "stdout"
        }
      ]
    },
    {
      "metadata": {
        "id": "1W1Gy911ztE0",
        "colab_type": "code",
        "colab": {},
        "trusted": true,
        "_uuid": "7bad1e3782da8d6d88bc648c97b93f47107bb5a1"
      },
      "cell_type": "code",
      "source": "from fastai.imports import *\nfrom fastai.structured import *\n\nfrom pandas_summary import DataFrameSummary\nfrom sklearn.ensemble import RandomForestRegressor, RandomForestClassifier\nfrom IPython.display import display\nimport IPython\n\nfrom sklearn import metrics",
      "execution_count": 4,
      "outputs": []
    },
    {
      "metadata": {
        "id": "Q5MSEG5p3-dE",
        "colab_type": "code",
        "colab": {},
        "trusted": true,
        "_uuid": "3fb6add09514437ce9fb3c5b3a04491e31ccc1e9"
      },
      "cell_type": "code",
      "source": "PATH = '../input/train/'\n# Kaggle Kernel\n# !mkdir data && cp -r ../input/train data/bulldozer\n# !ls data/bulldozer -a",
      "execution_count": 5,
      "outputs": []
    },
    {
      "metadata": {
        "id": "kWgrZiRqDaEb",
        "colab_type": "code",
        "colab": {},
        "trusted": true,
        "_uuid": "63d108bc0a6b709d709d6fd38517d6b67d7a6ec5"
      },
      "cell_type": "code",
      "source": "df_raw = pd.read_csv(f'{PATH}Train.csv', low_memory=False, parse_dates=[\"saledate\"])\n# ! ls ../input/train\n# df_raw = pd.read_feather('tmp/bulldozers-raw')",
      "execution_count": 6,
      "outputs": []
    },
    {
      "metadata": {
        "id": "p5FerspYGSvc",
        "colab_type": "code",
        "colab": {},
        "trusted": true,
        "_uuid": "d78ccceae0545412ddad529f5552bfa03a89fea4"
      },
      "cell_type": "code",
      "source": "def display_all(df):\n    with pd.option_context(\"display.max_rows\", 1000): \n        with pd.option_context(\"display.max_columns\", 1000): \n            display(df)\ndisplay_all(df_raw.tail().transpose())",
      "execution_count": 7,
      "outputs": [
        {
          "output_type": "display_data",
          "data": {
            "text/plain": "                                                                     401120  \\\nSalesID                                                             6333336   \nSalePrice                                                             10500   \nMachineID                                                           1840702   \nModelID                                                               21439   \ndatasource                                                              149   \nauctioneerID                                                              1   \nYearMade                                                               2005   \nMachineHoursCurrentMeter                                                NaN   \nUsageBand                                                               NaN   \nsaledate                                                2011-11-02 00:00:00   \nfiModelDesc                                                           35NX2   \nfiBaseModel                                                              35   \nfiSecondaryDesc                                                          NX   \nfiModelSeries                                                             2   \nfiModelDescriptor                                                       NaN   \nProductSize                                                            Mini   \nfiProductClassDesc        Hydraulic Excavator, Track - 3.0 to 4.0 Metric...   \nstate                                                              Maryland   \nProductGroup                                                            TEX   \nProductGroupDesc                                           Track Excavators   \nDrive_System                                                            NaN   \nEnclosure                                                             EROPS   \nForks                                                                   NaN   \nPad_Type                                                                NaN   \nRide_Control                                                            NaN   \nStick                                                                   NaN   \nTransmission                                                            NaN   \nTurbocharged                                                            NaN   \nBlade_Extension                                                         NaN   \nBlade_Width                                                             NaN   \nEnclosure_Type                                                          NaN   \nEngine_Horsepower                                                       NaN   \nHydraulics                                                        Auxiliary   \nPushblock                                                               NaN   \nRipper                                                                  NaN   \nScarifier                                                               NaN   \nTip_Control                                                             NaN   \nTire_Size                                                               NaN   \nCoupler                                                 None or Unspecified   \nCoupler_System                                                          NaN   \nGrouser_Tracks                                                          NaN   \nHydraulics_Flow                                                         NaN   \nTrack_Type                                                            Steel   \nUndercarriage_Pad_Width                                 None or Unspecified   \nStick_Length                                            None or Unspecified   \nThumb                                                   None or Unspecified   \nPattern_Changer                                         None or Unspecified   \nGrouser_Type                                                         Double   \nBackhoe_Mounting                                                        NaN   \nBlade_Type                                                              NaN   \nTravel_Controls                                                         NaN   \nDifferential_Type                                                       NaN   \nSteering_Controls                                                       NaN   \n\n                                                                     401121  \\\nSalesID                                                             6333337   \nSalePrice                                                             11000   \nMachineID                                                           1830472   \nModelID                                                               21439   \ndatasource                                                              149   \nauctioneerID                                                              1   \nYearMade                                                               2005   \nMachineHoursCurrentMeter                                                NaN   \nUsageBand                                                               NaN   \nsaledate                                                2011-11-02 00:00:00   \nfiModelDesc                                                           35NX2   \nfiBaseModel                                                              35   \nfiSecondaryDesc                                                          NX   \nfiModelSeries                                                             2   \nfiModelDescriptor                                                       NaN   \nProductSize                                                            Mini   \nfiProductClassDesc        Hydraulic Excavator, Track - 3.0 to 4.0 Metric...   \nstate                                                              Maryland   \nProductGroup                                                            TEX   \nProductGroupDesc                                           Track Excavators   \nDrive_System                                                            NaN   \nEnclosure                                                             EROPS   \nForks                                                                   NaN   \nPad_Type                                                                NaN   \nRide_Control                                                            NaN   \nStick                                                                   NaN   \nTransmission                                                            NaN   \nTurbocharged                                                            NaN   \nBlade_Extension                                                         NaN   \nBlade_Width                                                             NaN   \nEnclosure_Type                                                          NaN   \nEngine_Horsepower                                                       NaN   \nHydraulics                                                         Standard   \nPushblock                                                               NaN   \nRipper                                                                  NaN   \nScarifier                                                               NaN   \nTip_Control                                                             NaN   \nTire_Size                                                               NaN   \nCoupler                                                 None or Unspecified   \nCoupler_System                                                          NaN   \nGrouser_Tracks                                                          NaN   \nHydraulics_Flow                                                         NaN   \nTrack_Type                                                            Steel   \nUndercarriage_Pad_Width                                 None or Unspecified   \nStick_Length                                            None or Unspecified   \nThumb                                                   None or Unspecified   \nPattern_Changer                                         None or Unspecified   \nGrouser_Type                                                         Double   \nBackhoe_Mounting                                                        NaN   \nBlade_Type                                                              NaN   \nTravel_Controls                                                         NaN   \nDifferential_Type                                                       NaN   \nSteering_Controls                                                       NaN   \n\n                                                                     401122  \\\nSalesID                                                             6333338   \nSalePrice                                                             11500   \nMachineID                                                           1887659   \nModelID                                                               21439   \ndatasource                                                              149   \nauctioneerID                                                              1   \nYearMade                                                               2005   \nMachineHoursCurrentMeter                                                NaN   \nUsageBand                                                               NaN   \nsaledate                                                2011-11-02 00:00:00   \nfiModelDesc                                                           35NX2   \nfiBaseModel                                                              35   \nfiSecondaryDesc                                                          NX   \nfiModelSeries                                                             2   \nfiModelDescriptor                                                       NaN   \nProductSize                                                            Mini   \nfiProductClassDesc        Hydraulic Excavator, Track - 3.0 to 4.0 Metric...   \nstate                                                              Maryland   \nProductGroup                                                            TEX   \nProductGroupDesc                                           Track Excavators   \nDrive_System                                                            NaN   \nEnclosure                                                             EROPS   \nForks                                                                   NaN   \nPad_Type                                                                NaN   \nRide_Control                                                            NaN   \nStick                                                                   NaN   \nTransmission                                                            NaN   \nTurbocharged                                                            NaN   \nBlade_Extension                                                         NaN   \nBlade_Width                                                             NaN   \nEnclosure_Type                                                          NaN   \nEngine_Horsepower                                                       NaN   \nHydraulics                                                        Auxiliary   \nPushblock                                                               NaN   \nRipper                                                                  NaN   \nScarifier                                                               NaN   \nTip_Control                                                             NaN   \nTire_Size                                                               NaN   \nCoupler                                                 None or Unspecified   \nCoupler_System                                                          NaN   \nGrouser_Tracks                                                          NaN   \nHydraulics_Flow                                                         NaN   \nTrack_Type                                                            Steel   \nUndercarriage_Pad_Width                                 None or Unspecified   \nStick_Length                                            None or Unspecified   \nThumb                                                   None or Unspecified   \nPattern_Changer                                         None or Unspecified   \nGrouser_Type                                                         Double   \nBackhoe_Mounting                                                        NaN   \nBlade_Type                                                              NaN   \nTravel_Controls                                                         NaN   \nDifferential_Type                                                       NaN   \nSteering_Controls                                                       NaN   \n\n                                                                     401123  \\\nSalesID                                                             6333341   \nSalePrice                                                              9000   \nMachineID                                                           1903570   \nModelID                                                               21435   \ndatasource                                                              149   \nauctioneerID                                                              2   \nYearMade                                                               2005   \nMachineHoursCurrentMeter                                                NaN   \nUsageBand                                                               NaN   \nsaledate                                                2011-10-25 00:00:00   \nfiModelDesc                                                            30NX   \nfiBaseModel                                                              30   \nfiSecondaryDesc                                                          NX   \nfiModelSeries                                                           NaN   \nfiModelDescriptor                                                       NaN   \nProductSize                                                            Mini   \nfiProductClassDesc        Hydraulic Excavator, Track - 2.0 to 3.0 Metric...   \nstate                                                               Florida   \nProductGroup                                                            TEX   \nProductGroupDesc                                           Track Excavators   \nDrive_System                                                            NaN   \nEnclosure                                                             EROPS   \nForks                                                                   NaN   \nPad_Type                                                                NaN   \nRide_Control                                                            NaN   \nStick                                                                   NaN   \nTransmission                                                            NaN   \nTurbocharged                                                            NaN   \nBlade_Extension                                                         NaN   \nBlade_Width                                                             NaN   \nEnclosure_Type                                                          NaN   \nEngine_Horsepower                                                       NaN   \nHydraulics                                                         Standard   \nPushblock                                                               NaN   \nRipper                                                                  NaN   \nScarifier                                                               NaN   \nTip_Control                                                             NaN   \nTire_Size                                                               NaN   \nCoupler                                                 None or Unspecified   \nCoupler_System                                                          NaN   \nGrouser_Tracks                                                          NaN   \nHydraulics_Flow                                                         NaN   \nTrack_Type                                                            Steel   \nUndercarriage_Pad_Width                                 None or Unspecified   \nStick_Length                                            None or Unspecified   \nThumb                                                   None or Unspecified   \nPattern_Changer                                         None or Unspecified   \nGrouser_Type                                                         Double   \nBackhoe_Mounting                                                        NaN   \nBlade_Type                                                              NaN   \nTravel_Controls                                                         NaN   \nDifferential_Type                                                       NaN   \nSteering_Controls                                                       NaN   \n\n                                                                     401124  \nSalesID                                                             6333342  \nSalePrice                                                              7750  \nMachineID                                                           1926965  \nModelID                                                               21435  \ndatasource                                                              149  \nauctioneerID                                                              2  \nYearMade                                                               2005  \nMachineHoursCurrentMeter                                                NaN  \nUsageBand                                                               NaN  \nsaledate                                                2011-10-25 00:00:00  \nfiModelDesc                                                            30NX  \nfiBaseModel                                                              30  \nfiSecondaryDesc                                                          NX  \nfiModelSeries                                                           NaN  \nfiModelDescriptor                                                       NaN  \nProductSize                                                            Mini  \nfiProductClassDesc        Hydraulic Excavator, Track - 2.0 to 3.0 Metric...  \nstate                                                               Florida  \nProductGroup                                                            TEX  \nProductGroupDesc                                           Track Excavators  \nDrive_System                                                            NaN  \nEnclosure                                                             EROPS  \nForks                                                                   NaN  \nPad_Type                                                                NaN  \nRide_Control                                                            NaN  \nStick                                                                   NaN  \nTransmission                                                            NaN  \nTurbocharged                                                            NaN  \nBlade_Extension                                                         NaN  \nBlade_Width                                                             NaN  \nEnclosure_Type                                                          NaN  \nEngine_Horsepower                                                       NaN  \nHydraulics                                                         Standard  \nPushblock                                                               NaN  \nRipper                                                                  NaN  \nScarifier                                                               NaN  \nTip_Control                                                             NaN  \nTire_Size                                                               NaN  \nCoupler                                                 None or Unspecified  \nCoupler_System                                                          NaN  \nGrouser_Tracks                                                          NaN  \nHydraulics_Flow                                                         NaN  \nTrack_Type                                                            Steel  \nUndercarriage_Pad_Width                                 None or Unspecified  \nStick_Length                                            None or Unspecified  \nThumb                                                   None or Unspecified  \nPattern_Changer                                         None or Unspecified  \nGrouser_Type                                                         Double  \nBackhoe_Mounting                                                        NaN  \nBlade_Type                                                              NaN  \nTravel_Controls                                                         NaN  \nDifferential_Type                                                       NaN  \nSteering_Controls                                                       NaN  ",
            "text/html": "<div>\n<style scoped>\n    .dataframe tbody tr th:only-of-type {\n        vertical-align: middle;\n    }\n\n    .dataframe tbody tr th {\n        vertical-align: top;\n    }\n\n    .dataframe thead th {\n        text-align: right;\n    }\n</style>\n<table border=\"1\" class=\"dataframe\">\n  <thead>\n    <tr style=\"text-align: right;\">\n      <th></th>\n      <th>401120</th>\n      <th>401121</th>\n      <th>401122</th>\n      <th>401123</th>\n      <th>401124</th>\n    </tr>\n  </thead>\n  <tbody>\n    <tr>\n      <th>SalesID</th>\n      <td>6333336</td>\n      <td>6333337</td>\n      <td>6333338</td>\n      <td>6333341</td>\n      <td>6333342</td>\n    </tr>\n    <tr>\n      <th>SalePrice</th>\n      <td>10500</td>\n      <td>11000</td>\n      <td>11500</td>\n      <td>9000</td>\n      <td>7750</td>\n    </tr>\n    <tr>\n      <th>MachineID</th>\n      <td>1840702</td>\n      <td>1830472</td>\n      <td>1887659</td>\n      <td>1903570</td>\n      <td>1926965</td>\n    </tr>\n    <tr>\n      <th>ModelID</th>\n      <td>21439</td>\n      <td>21439</td>\n      <td>21439</td>\n      <td>21435</td>\n      <td>21435</td>\n    </tr>\n    <tr>\n      <th>datasource</th>\n      <td>149</td>\n      <td>149</td>\n      <td>149</td>\n      <td>149</td>\n      <td>149</td>\n    </tr>\n    <tr>\n      <th>auctioneerID</th>\n      <td>1</td>\n      <td>1</td>\n      <td>1</td>\n      <td>2</td>\n      <td>2</td>\n    </tr>\n    <tr>\n      <th>YearMade</th>\n      <td>2005</td>\n      <td>2005</td>\n      <td>2005</td>\n      <td>2005</td>\n      <td>2005</td>\n    </tr>\n    <tr>\n      <th>MachineHoursCurrentMeter</th>\n      <td>NaN</td>\n      <td>NaN</td>\n      <td>NaN</td>\n      <td>NaN</td>\n      <td>NaN</td>\n    </tr>\n    <tr>\n      <th>UsageBand</th>\n      <td>NaN</td>\n      <td>NaN</td>\n      <td>NaN</td>\n      <td>NaN</td>\n      <td>NaN</td>\n    </tr>\n    <tr>\n      <th>saledate</th>\n      <td>2011-11-02 00:00:00</td>\n      <td>2011-11-02 00:00:00</td>\n      <td>2011-11-02 00:00:00</td>\n      <td>2011-10-25 00:00:00</td>\n      <td>2011-10-25 00:00:00</td>\n    </tr>\n    <tr>\n      <th>fiModelDesc</th>\n      <td>35NX2</td>\n      <td>35NX2</td>\n      <td>35NX2</td>\n      <td>30NX</td>\n      <td>30NX</td>\n    </tr>\n    <tr>\n      <th>fiBaseModel</th>\n      <td>35</td>\n      <td>35</td>\n      <td>35</td>\n      <td>30</td>\n      <td>30</td>\n    </tr>\n    <tr>\n      <th>fiSecondaryDesc</th>\n      <td>NX</td>\n      <td>NX</td>\n      <td>NX</td>\n      <td>NX</td>\n      <td>NX</td>\n    </tr>\n    <tr>\n      <th>fiModelSeries</th>\n      <td>2</td>\n      <td>2</td>\n      <td>2</td>\n      <td>NaN</td>\n      <td>NaN</td>\n    </tr>\n    <tr>\n      <th>fiModelDescriptor</th>\n      <td>NaN</td>\n      <td>NaN</td>\n      <td>NaN</td>\n      <td>NaN</td>\n      <td>NaN</td>\n    </tr>\n    <tr>\n      <th>ProductSize</th>\n      <td>Mini</td>\n      <td>Mini</td>\n      <td>Mini</td>\n      <td>Mini</td>\n      <td>Mini</td>\n    </tr>\n    <tr>\n      <th>fiProductClassDesc</th>\n      <td>Hydraulic Excavator, Track - 3.0 to 4.0 Metric...</td>\n      <td>Hydraulic Excavator, Track - 3.0 to 4.0 Metric...</td>\n      <td>Hydraulic Excavator, Track - 3.0 to 4.0 Metric...</td>\n      <td>Hydraulic Excavator, Track - 2.0 to 3.0 Metric...</td>\n      <td>Hydraulic Excavator, Track - 2.0 to 3.0 Metric...</td>\n    </tr>\n    <tr>\n      <th>state</th>\n      <td>Maryland</td>\n      <td>Maryland</td>\n      <td>Maryland</td>\n      <td>Florida</td>\n      <td>Florida</td>\n    </tr>\n    <tr>\n      <th>ProductGroup</th>\n      <td>TEX</td>\n      <td>TEX</td>\n      <td>TEX</td>\n      <td>TEX</td>\n      <td>TEX</td>\n    </tr>\n    <tr>\n      <th>ProductGroupDesc</th>\n      <td>Track Excavators</td>\n      <td>Track Excavators</td>\n      <td>Track Excavators</td>\n      <td>Track Excavators</td>\n      <td>Track Excavators</td>\n    </tr>\n    <tr>\n      <th>Drive_System</th>\n      <td>NaN</td>\n      <td>NaN</td>\n      <td>NaN</td>\n      <td>NaN</td>\n      <td>NaN</td>\n    </tr>\n    <tr>\n      <th>Enclosure</th>\n      <td>EROPS</td>\n      <td>EROPS</td>\n      <td>EROPS</td>\n      <td>EROPS</td>\n      <td>EROPS</td>\n    </tr>\n    <tr>\n      <th>Forks</th>\n      <td>NaN</td>\n      <td>NaN</td>\n      <td>NaN</td>\n      <td>NaN</td>\n      <td>NaN</td>\n    </tr>\n    <tr>\n      <th>Pad_Type</th>\n      <td>NaN</td>\n      <td>NaN</td>\n      <td>NaN</td>\n      <td>NaN</td>\n      <td>NaN</td>\n    </tr>\n    <tr>\n      <th>Ride_Control</th>\n      <td>NaN</td>\n      <td>NaN</td>\n      <td>NaN</td>\n      <td>NaN</td>\n      <td>NaN</td>\n    </tr>\n    <tr>\n      <th>Stick</th>\n      <td>NaN</td>\n      <td>NaN</td>\n      <td>NaN</td>\n      <td>NaN</td>\n      <td>NaN</td>\n    </tr>\n    <tr>\n      <th>Transmission</th>\n      <td>NaN</td>\n      <td>NaN</td>\n      <td>NaN</td>\n      <td>NaN</td>\n      <td>NaN</td>\n    </tr>\n    <tr>\n      <th>Turbocharged</th>\n      <td>NaN</td>\n      <td>NaN</td>\n      <td>NaN</td>\n      <td>NaN</td>\n      <td>NaN</td>\n    </tr>\n    <tr>\n      <th>Blade_Extension</th>\n      <td>NaN</td>\n      <td>NaN</td>\n      <td>NaN</td>\n      <td>NaN</td>\n      <td>NaN</td>\n    </tr>\n    <tr>\n      <th>Blade_Width</th>\n      <td>NaN</td>\n      <td>NaN</td>\n      <td>NaN</td>\n      <td>NaN</td>\n      <td>NaN</td>\n    </tr>\n    <tr>\n      <th>Enclosure_Type</th>\n      <td>NaN</td>\n      <td>NaN</td>\n      <td>NaN</td>\n      <td>NaN</td>\n      <td>NaN</td>\n    </tr>\n    <tr>\n      <th>Engine_Horsepower</th>\n      <td>NaN</td>\n      <td>NaN</td>\n      <td>NaN</td>\n      <td>NaN</td>\n      <td>NaN</td>\n    </tr>\n    <tr>\n      <th>Hydraulics</th>\n      <td>Auxiliary</td>\n      <td>Standard</td>\n      <td>Auxiliary</td>\n      <td>Standard</td>\n      <td>Standard</td>\n    </tr>\n    <tr>\n      <th>Pushblock</th>\n      <td>NaN</td>\n      <td>NaN</td>\n      <td>NaN</td>\n      <td>NaN</td>\n      <td>NaN</td>\n    </tr>\n    <tr>\n      <th>Ripper</th>\n      <td>NaN</td>\n      <td>NaN</td>\n      <td>NaN</td>\n      <td>NaN</td>\n      <td>NaN</td>\n    </tr>\n    <tr>\n      <th>Scarifier</th>\n      <td>NaN</td>\n      <td>NaN</td>\n      <td>NaN</td>\n      <td>NaN</td>\n      <td>NaN</td>\n    </tr>\n    <tr>\n      <th>Tip_Control</th>\n      <td>NaN</td>\n      <td>NaN</td>\n      <td>NaN</td>\n      <td>NaN</td>\n      <td>NaN</td>\n    </tr>\n    <tr>\n      <th>Tire_Size</th>\n      <td>NaN</td>\n      <td>NaN</td>\n      <td>NaN</td>\n      <td>NaN</td>\n      <td>NaN</td>\n    </tr>\n    <tr>\n      <th>Coupler</th>\n      <td>None or Unspecified</td>\n      <td>None or Unspecified</td>\n      <td>None or Unspecified</td>\n      <td>None or Unspecified</td>\n      <td>None or Unspecified</td>\n    </tr>\n    <tr>\n      <th>Coupler_System</th>\n      <td>NaN</td>\n      <td>NaN</td>\n      <td>NaN</td>\n      <td>NaN</td>\n      <td>NaN</td>\n    </tr>\n    <tr>\n      <th>Grouser_Tracks</th>\n      <td>NaN</td>\n      <td>NaN</td>\n      <td>NaN</td>\n      <td>NaN</td>\n      <td>NaN</td>\n    </tr>\n    <tr>\n      <th>Hydraulics_Flow</th>\n      <td>NaN</td>\n      <td>NaN</td>\n      <td>NaN</td>\n      <td>NaN</td>\n      <td>NaN</td>\n    </tr>\n    <tr>\n      <th>Track_Type</th>\n      <td>Steel</td>\n      <td>Steel</td>\n      <td>Steel</td>\n      <td>Steel</td>\n      <td>Steel</td>\n    </tr>\n    <tr>\n      <th>Undercarriage_Pad_Width</th>\n      <td>None or Unspecified</td>\n      <td>None or Unspecified</td>\n      <td>None or Unspecified</td>\n      <td>None or Unspecified</td>\n      <td>None or Unspecified</td>\n    </tr>\n    <tr>\n      <th>Stick_Length</th>\n      <td>None or Unspecified</td>\n      <td>None or Unspecified</td>\n      <td>None or Unspecified</td>\n      <td>None or Unspecified</td>\n      <td>None or Unspecified</td>\n    </tr>\n    <tr>\n      <th>Thumb</th>\n      <td>None or Unspecified</td>\n      <td>None or Unspecified</td>\n      <td>None or Unspecified</td>\n      <td>None or Unspecified</td>\n      <td>None or Unspecified</td>\n    </tr>\n    <tr>\n      <th>Pattern_Changer</th>\n      <td>None or Unspecified</td>\n      <td>None or Unspecified</td>\n      <td>None or Unspecified</td>\n      <td>None or Unspecified</td>\n      <td>None or Unspecified</td>\n    </tr>\n    <tr>\n      <th>Grouser_Type</th>\n      <td>Double</td>\n      <td>Double</td>\n      <td>Double</td>\n      <td>Double</td>\n      <td>Double</td>\n    </tr>\n    <tr>\n      <th>Backhoe_Mounting</th>\n      <td>NaN</td>\n      <td>NaN</td>\n      <td>NaN</td>\n      <td>NaN</td>\n      <td>NaN</td>\n    </tr>\n    <tr>\n      <th>Blade_Type</th>\n      <td>NaN</td>\n      <td>NaN</td>\n      <td>NaN</td>\n      <td>NaN</td>\n      <td>NaN</td>\n    </tr>\n    <tr>\n      <th>Travel_Controls</th>\n      <td>NaN</td>\n      <td>NaN</td>\n      <td>NaN</td>\n      <td>NaN</td>\n      <td>NaN</td>\n    </tr>\n    <tr>\n      <th>Differential_Type</th>\n      <td>NaN</td>\n      <td>NaN</td>\n      <td>NaN</td>\n      <td>NaN</td>\n      <td>NaN</td>\n    </tr>\n    <tr>\n      <th>Steering_Controls</th>\n      <td>NaN</td>\n      <td>NaN</td>\n      <td>NaN</td>\n      <td>NaN</td>\n      <td>NaN</td>\n    </tr>\n  </tbody>\n</table>\n</div>"
          },
          "metadata": {}
        }
      ]
    },
    {
      "metadata": {
        "id": "X1WagAZxWA2W",
        "colab_type": "code",
        "colab": {},
        "trusted": true,
        "_uuid": "20d0060073e4d13654b19a2ff1cd8cf62ac6a831"
      },
      "cell_type": "code",
      "source": "df_raw.SalePrice = np.log(df_raw.SalePrice)",
      "execution_count": 8,
      "outputs": []
    },
    {
      "metadata": {
        "trusted": true,
        "_uuid": "8bfd7c805c2c8ea4447b47baa3e461881d8784c9"
      },
      "cell_type": "code",
      "source": "?add_datepart\n??proc_df",
      "execution_count": 29,
      "outputs": []
    },
    {
      "metadata": {
        "id": "BJZ-oNdwbm6N",
        "colab_type": "code",
        "colab": {},
        "trusted": true,
        "_uuid": "a13641c3f4b1f3af37499bcc1327da7b0c16ff8c"
      },
      "cell_type": "code",
      "source": "# df_raw.saledate.head\nadd_datepart(df_raw, 'saledate')",
      "execution_count": 9,
      "outputs": []
    },
    {
      "metadata": {
        "id": "skUqn9-Hb5hN",
        "colab_type": "code",
        "colab": {},
        "trusted": true,
        "_uuid": "323301b5083878820b0d71828561c200ac1c6bc2"
      },
      "cell_type": "code",
      "source": "# df_raw.saleYear.head()\n# display_all(df_raw.tail().transpose())\ntrain_cats(df_raw)\ndf_raw.UsageBand.cat.set_categories(['High', 'Medium', 'Low'], ordered=True, inplace=True)\ndf_raw.UsageBand = df_raw.UsageBand.cat.codes",
      "execution_count": 13,
      "outputs": []
    },
    {
      "metadata": {
        "id": "0pZeR71HeqwL",
        "colab_type": "code",
        "outputId": "6ef0c901-b27f-40ed-b6b0-63ba74f25a48",
        "colab": {
          "base_uri": "https://localhost:8080/",
          "height": 1126
        },
        "trusted": true,
        "_uuid": "8508d4bc87a690276fe14142be9c879d3f83222b"
      },
      "cell_type": "code",
      "source": "display_all(df_raw.isnull().sum().sort_index()/len(df_raw))",
      "execution_count": 14,
      "outputs": [
        {
          "output_type": "display_data",
          "data": {
            "text/plain": "Backhoe_Mounting            0.803872\nBlade_Extension             0.937129\nBlade_Type                  0.800977\nBlade_Width                 0.937129\nCoupler                     0.466620\nCoupler_System              0.891660\nDifferential_Type           0.826959\nDrive_System                0.739829\nEnclosure                   0.000810\nEnclosure_Type              0.937129\nEngine_Horsepower           0.937129\nForks                       0.521154\nGrouser_Tracks              0.891899\nGrouser_Type                0.752813\nHydraulics                  0.200823\nHydraulics_Flow             0.891899\nMachineHoursCurrentMeter    0.644089\nMachineID                   0.000000\nModelID                     0.000000\nPad_Type                    0.802720\nPattern_Changer             0.752651\nProductGroup                0.000000\nProductGroupDesc            0.000000\nProductSize                 0.525460\nPushblock                   0.937129\nRide_Control                0.629527\nRipper                      0.740388\nSalePrice                   0.000000\nSalesID                     0.000000\nScarifier                   0.937102\nSteering_Controls           0.827064\nStick                       0.802720\nStick_Length                0.752651\nThumb                       0.752476\nTip_Control                 0.937129\nTire_Size                   0.763869\nTrack_Type                  0.752813\nTransmission                0.543210\nTravel_Controls             0.800975\nTurbocharged                0.802720\nUndercarriage_Pad_Width     0.751020\nUsageBand                   0.000000\nYearMade                    0.000000\nauctioneerID                0.050199\ndatasource                  0.000000\nfiBaseModel                 0.000000\nfiModelDesc                 0.000000\nfiModelDescriptor           0.820707\nfiModelSeries               0.858129\nfiProductClassDesc          0.000000\nfiSecondaryDesc             0.342016\nsaleDay                     0.000000\nsaleDayofweek               0.000000\nsaleDayofyear               0.000000\nsaleElapsed                 0.000000\nsaleIs_month_end            0.000000\nsaleIs_month_start          0.000000\nsaleIs_quarter_end          0.000000\nsaleIs_quarter_start        0.000000\nsaleIs_year_end             0.000000\nsaleIs_year_start           0.000000\nsaleMonth                   0.000000\nsaleWeek                    0.000000\nsaleYear                    0.000000\nstate                       0.000000\ndtype: float64"
          },
          "metadata": {}
        }
      ]
    },
    {
      "metadata": {
        "id": "8Oo3zgI-f8oM",
        "colab_type": "code",
        "colab": {},
        "trusted": true,
        "_uuid": "8aaddcdb5202bfc1c3ac6d5d58b4b0ab817b6aa2"
      },
      "cell_type": "code",
      "source": "os.makedirs('tmp', exist_ok=True)\ndf_raw.to_feather('tmp/bulldozers-raw')",
      "execution_count": 15,
      "outputs": []
    },
    {
      "metadata": {
        "id": "8449fiatgqCS",
        "colab_type": "code",
        "colab": {},
        "trusted": true,
        "_uuid": "a1f97e3ada5b2b6f5590c3d098b0a5777aaef09a"
      },
      "cell_type": "code",
      "source": "x, y, nas = proc_df(df_raw, 'SalePrice')",
      "execution_count": 16,
      "outputs": []
    },
    {
      "metadata": {
        "id": "8ckUbVDNWtXN",
        "colab_type": "code",
        "outputId": "3f88fed3-98fc-43d3-fed6-acd196d1bd0c",
        "colab": {
          "base_uri": "https://localhost:8080/",
          "height": 121
        },
        "trusted": true,
        "_uuid": "7fc8ea0b2f6372b0dfabcc00c1fa055ee15b5613"
      },
      "cell_type": "code",
      "source": "m = RandomForestRegressor(n_jobs=-1)\n%time m.fit(x, y)\nm.score(x, y)",
      "execution_count": 17,
      "outputs": [
        {
          "output_type": "stream",
          "text": "/opt/conda/lib/python3.6/site-packages/sklearn/ensemble/forest.py:246: FutureWarning: The default value of n_estimators will change from 10 in version 0.20 to 100 in 0.22.\n  \"10 in version 0.20 to 100 in 0.22.\", FutureWarning)\n",
          "name": "stderr"
        },
        {
          "output_type": "stream",
          "text": "CPU times: user 1min 51s, sys: 716 ms, total: 1min 52s\nWall time: 58.2 s\n",
          "name": "stdout"
        },
        {
          "output_type": "execute_result",
          "execution_count": 17,
          "data": {
            "text/plain": "0.9831106004787267"
          },
          "metadata": {}
        }
      ]
    },
    {
      "metadata": {
        "id": "ARnv7BekbR_T",
        "colab_type": "code",
        "outputId": "8daaba36-bdee-41f0-8f22-d3cabb2b826c",
        "colab": {
          "base_uri": "https://localhost:8080/",
          "height": 34
        },
        "trusted": true,
        "_uuid": "ae6157638596936ba8a2ec5c8be4e0bb5901cc21"
      },
      "cell_type": "code",
      "source": "def split_vals(a, n): return a[:n].copy(), a[n:].copy()\nn_valid = 12000\nn_trn = len(x) - n_valid\nraw_train, raw_valid = split_vals(df_raw, n_trn)\nX_train, X_valid = split_vals(x, n_trn)\ny_train, y_valid = split_vals(y, n_trn)\nX_train.shape, y_train.shape, X_valid.shape",
      "execution_count": 21,
      "outputs": [
        {
          "output_type": "execute_result",
          "execution_count": 21,
          "data": {
            "text/plain": "((389125, 66), (389125,), (12000, 66))"
          },
          "metadata": {}
        }
      ]
    },
    {
      "metadata": {
        "id": "hcZ1cPGNkrcf",
        "colab_type": "code",
        "colab": {},
        "trusted": true,
        "_uuid": "c6d29296fccb5e2c65c0521082404edc9cf48a26"
      },
      "cell_type": "code",
      "source": "def rmse(x,y): return math.sqrt(((x-y)**2).mean())\ndef print_score(m):\n    res = [rmse(m.predict(X_train), y_train),\n           rmse(m.predict(X_valid), y_valid),\n           m.score(X_train, y_train), m.score(X_valid, y_valid)]\n    if hasattr(m, 'oob_score_'): res.append(m.oob_score_)\n    print(res)",
      "execution_count": 22,
      "outputs": []
    },
    {
      "metadata": {
        "id": "LpBs0ik-l65u",
        "colab_type": "code",
        "outputId": "5b8e8873-b244-4cd1-892c-6209f28a6c30",
        "colab": {
          "base_uri": "https://localhost:8080/",
          "height": 34
        },
        "trusted": true,
        "_uuid": "9e1b5a7b912ba710981add095c2603dc2b93b806"
      },
      "cell_type": "code",
      "source": "m = RandomForestRegressor(n_jobs=-1)\n%time m.fit(x, y)\nm.score(x, y)\nprint_score(m)",
      "execution_count": 23,
      "outputs": [
        {
          "output_type": "stream",
          "text": "/opt/conda/lib/python3.6/site-packages/sklearn/ensemble/forest.py:246: FutureWarning: The default value of n_estimators will change from 10 in version 0.20 to 100 in 0.22.\n  \"10 in version 0.20 to 100 in 0.22.\", FutureWarning)\n",
          "name": "stderr"
        },
        {
          "output_type": "stream",
          "text": "CPU times: user 1min 54s, sys: 592 ms, total: 1min 54s\nWall time: 59.2 s\n[0.09028536071699178, 0.09357194673161183, 0.9829639266563921, 0.9843635088342559]\n",
          "name": "stdout"
        }
      ]
    },
    {
      "metadata": {
        "trusted": true,
        "_uuid": "3a28529e179c62298e2b62d357488f62d53866ad"
      },
      "cell_type": "code",
      "source": "# df_raw.SalePrice = np.log(df_raw.SalePrice)",
      "execution_count": null,
      "outputs": []
    },
    {
      "metadata": {
        "trusted": true,
        "_uuid": "4abd416952dd7897127a50120a9ffe091f29e91b"
      },
      "cell_type": "code",
      "source": "df_trn, y_trn, nas = proc_df(df_raw, 'SalePrice', subset=30000, na_dict=nas)\nX_train, _ = split_vals(df_trn, 20000)\ny_train, _ = split_vals(y_trn, 20000)",
      "execution_count": 24,
      "outputs": [
        {
          "output_type": "execute_result",
          "execution_count": 24,
          "data": {
            "text/plain": "''"
          },
          "metadata": {}
        }
      ]
    },
    {
      "metadata": {
        "trusted": true,
        "_uuid": "a07fc3685322966dfdfbb7b521910ea1b997e052"
      },
      "cell_type": "code",
      "source": "m = RandomForestRegressor(n_jobs=-1)\n%time m.fit(X_train, y_train)\nprint_score(m)\n# ??proc_df",
      "execution_count": 30,
      "outputs": [
        {
          "output_type": "stream",
          "text": "/opt/conda/lib/python3.6/site-packages/sklearn/ensemble/forest.py:246: FutureWarning: The default value of n_estimators will change from 10 in version 0.20 to 100 in 0.22.\n  \"10 in version 0.20 to 100 in 0.22.\", FutureWarning)\n",
          "name": "stderr"
        },
        {
          "output_type": "stream",
          "text": "CPU times: user 1min 50s, sys: 524 ms, total: 1min 51s\nWall time: 57.9 s\n[0.09031748655388638, 0.24778457449929797, 0.9829518007595569, 0.8903530622985404]\n",
          "name": "stdout"
        }
      ]
    },
    {
      "metadata": {
        "trusted": true,
        "_uuid": "3b1c7039d55688cb52987f7ca4a81b4739147db6"
      },
      "cell_type": "code",
      "source": "m = RandomForestRegressor(n_estimators=1, max_depth=3, bootstrap=False, n_jobs=-1)\nm.fit(X_train, y_train)\nprint_score(m)",
      "execution_count": null,
      "outputs": []
    },
    {
      "metadata": {
        "trusted": true,
        "_uuid": "36a1b7cc1282cdd03a3a2abe1faf2043789b5fdc"
      },
      "cell_type": "code",
      "source": "draw_tree(m.estimators_[0], df_trn, precision=3)",
      "execution_count": null,
      "outputs": []
    },
    {
      "metadata": {
        "trusted": true,
        "_uuid": "ffc028a6966d2b179296a6dbdcde7f0df6ec81e8"
      },
      "cell_type": "code",
      "source": "?IPython",
      "execution_count": null,
      "outputs": []
    },
    {
      "metadata": {
        "trusted": true,
        "scrolled": true,
        "_uuid": "0ae255d4f049238cef9f5b3cfb6653b1407f0f9e"
      },
      "cell_type": "code",
      "source": "m = RandomForestRegressor(n_estimators=1, bootstrap=False, n_jobs=-1)\nm.fit(X_train, y_train)\nprint_score(m)",
      "execution_count": null,
      "outputs": []
    },
    {
      "metadata": {
        "trusted": true,
        "_uuid": "47ce07115c088d1a6419488416d6206c360da28e"
      },
      "cell_type": "code",
      "source": "m = RandomForestRegressor(n_jobs=-1)\nm.fit(X_train, y_train)\nprint_score(m)",
      "execution_count": null,
      "outputs": []
    },
    {
      "metadata": {
        "trusted": true,
        "scrolled": true,
        "_uuid": "736c50978f435284bf34dec99177bce2a1c6b74d"
      },
      "cell_type": "code",
      "source": "preds = np.stack([t.predict(X_valid) for t in m.estimators_])\npreds[:,0], np.mean(preds[:,0]), y_valid[0]",
      "execution_count": 31,
      "outputs": [
        {
          "output_type": "execute_result",
          "execution_count": 31,
          "data": {
            "text/plain": "(array([9.10498, 8.9872 , 8.95545, 9.21034, 9.04782, 9.25913, 9.39266, 8.9872 , 8.9872 , 9.10498]),\n 9.103695257634037,\n 9.104979856318357)"
          },
          "metadata": {}
        }
      ]
    },
    {
      "metadata": {
        "trusted": true,
        "_uuid": "2be5e73b1e9cf716b04492280011b13da67f4513"
      },
      "cell_type": "code",
      "source": "m = RandomForestRegressor(n_estimators=40, n_jobs=-1, \n                          oob_score=True)\nm.fit(X_train, y_train)\nprint_score(m)",
      "execution_count": null,
      "outputs": []
    },
    {
      "metadata": {
        "trusted": true,
        "_uuid": "40cc21f510fa008b3a84617eb15216f5b413174e"
      },
      "cell_type": "code",
      "source": "df_trn, y_trn, nas = proc_df(df_raw, 'SalePrice')\nX_train, X_valid = split_vals(df_trn, n_trn)\ny_train, y_valid = split_vals(y_trn, n_trn)\nset_rf_samples(20000)",
      "execution_count": 40,
      "outputs": []
    },
    {
      "metadata": {
        "trusted": true,
        "_uuid": "e2301aa69e33fc5f3f754e32a670f83dfc434ade"
      },
      "cell_type": "code",
      "source": "fi = rf_feat_importance(m, X_train); fi[:10]",
      "execution_count": 41,
      "outputs": [
        {
          "output_type": "execute_result",
          "execution_count": 41,
          "data": {
            "text/plain": "                  cols       imp\n5             YearMade  0.171280\n37      Coupler_System  0.117558\n13         ProductSize  0.098442\n14  fiProductClassDesc  0.086350\n2              ModelID  0.060948\n63         saleElapsed  0.050682\n38      Grouser_Tracks  0.046357\n10     fiSecondaryDesc  0.041361\n19           Enclosure  0.034554\n39     Hydraulics_Flow  0.033735",
            "text/html": "<div>\n<style scoped>\n    .dataframe tbody tr th:only-of-type {\n        vertical-align: middle;\n    }\n\n    .dataframe tbody tr th {\n        vertical-align: top;\n    }\n\n    .dataframe thead th {\n        text-align: right;\n    }\n</style>\n<table border=\"1\" class=\"dataframe\">\n  <thead>\n    <tr style=\"text-align: right;\">\n      <th></th>\n      <th>cols</th>\n      <th>imp</th>\n    </tr>\n  </thead>\n  <tbody>\n    <tr>\n      <th>5</th>\n      <td>YearMade</td>\n      <td>0.171280</td>\n    </tr>\n    <tr>\n      <th>37</th>\n      <td>Coupler_System</td>\n      <td>0.117558</td>\n    </tr>\n    <tr>\n      <th>13</th>\n      <td>ProductSize</td>\n      <td>0.098442</td>\n    </tr>\n    <tr>\n      <th>14</th>\n      <td>fiProductClassDesc</td>\n      <td>0.086350</td>\n    </tr>\n    <tr>\n      <th>2</th>\n      <td>ModelID</td>\n      <td>0.060948</td>\n    </tr>\n    <tr>\n      <th>63</th>\n      <td>saleElapsed</td>\n      <td>0.050682</td>\n    </tr>\n    <tr>\n      <th>38</th>\n      <td>Grouser_Tracks</td>\n      <td>0.046357</td>\n    </tr>\n    <tr>\n      <th>10</th>\n      <td>fiSecondaryDesc</td>\n      <td>0.041361</td>\n    </tr>\n    <tr>\n      <th>19</th>\n      <td>Enclosure</td>\n      <td>0.034554</td>\n    </tr>\n    <tr>\n      <th>39</th>\n      <td>Hydraulics_Flow</td>\n      <td>0.033735</td>\n    </tr>\n  </tbody>\n</table>\n</div>"
          },
          "metadata": {}
        }
      ]
    },
    {
      "metadata": {
        "trusted": true,
        "_uuid": "d1e1663b04ee3bbfe75613c2529f9296a418990c"
      },
      "cell_type": "code",
      "source": "fi.plot('cols', 'imp', figsize=(10,6), legend=False);",
      "execution_count": 42,
      "outputs": [
        {
          "output_type": "display_data",
          "data": {
            "text/plain": "<Figure size 720x432 with 1 Axes>",
            "image/png": "[encoded data removed]"
          },
          "metadata": {}
        }
      ]
    },
    {
      "metadata": {
        "trusted": true,
        "_uuid": "d59c9b2fbe847c53c5ec2aca7963d5826a546089"
      },
      "cell_type": "code",
      "source": "to_keep = fi[fi.imp>0.005].cols; len(to_keep)",
      "execution_count": 47,
      "outputs": [
        {
          "output_type": "execute_result",
          "execution_count": 47,
          "data": {
            "text/plain": "25"
          },
          "metadata": {}
        }
      ]
    },
    {
      "metadata": {
        "trusted": true,
        "_uuid": "cc2e34fdfe38da922cf0fd2307a623e5e9494935"
      },
      "cell_type": "code",
      "source": "df_keep = df_trn[to_keep].copy()\nX_train, X_valid = split_vals(df_keep, n_trn)",
      "execution_count": 48,
      "outputs": []
    },
    {
      "metadata": {
        "trusted": true,
        "_uuid": "1800a2446650e5fb3c17a681bb545b123c021464"
      },
      "cell_type": "code",
      "source": " def plot_fi(fi):\n  return fi.plot('cols','imp','barh', figsize=(12,7), legend=False)\nplot_fi(fi[:30]);\n",
      "execution_count": 44,
      "outputs": [
        {
          "output_type": "display_data",
          "data": {
            "text/plain": "<Figure size 864x504 with 1 Axes>",
            "image/png": "[encoded data removed]"
          },
          "metadata": {}
        }
      ]
    },
    {
      "metadata": {
        "trusted": true,
        "_uuid": "2ba7c1571b783fa9ce9ff278f38dfdd194585a69"
      },
      "cell_type": "code",
      "source": "set_rf_samples(50000)\n\n\nX_train, X_valid = split_vals(df_keep, n_trn)\nm = RandomForestRegressor(n_estimators=40, min_samples_leaf=3, max_features=0.6, n_jobs=-1)\nm.fit(X_train, y_train)\nplot_fi(rf_feat_importance(m, df_keep));",
      "execution_count": 54,
      "outputs": [
        {
          "output_type": "display_data",
          "data": {
            "text/plain": "<Figure size 864x504 with 1 Axes>",
            "image/png": "[encoded data removed]"
          },
          "metadata": {}
        }
      ]
    },
    {
      "metadata": {
        "trusted": true,
        "_uuid": "7230aca9bc5aa2908dc59ab8a15254139a095d6e"
      },
      "cell_type": "code",
      "source": "from treeinterpreter import treeinterpreter as tl",
      "execution_count": 37,
      "outputs": []
    },
    {
      "metadata": {
        "trusted": true,
        "_uuid": "b5c936e25403771f85761e055d16ff9f7d55f169"
      },
      "cell_type": "code",
      "source": "df_train, df_valid = split_vals(df_raw[df_keep.columns], n_trn)",
      "execution_count": 55,
      "outputs": []
    },
    {
      "metadata": {
        "trusted": true,
        "_uuid": "83c57cedca0265eba0f8aa25cb97f3d2885add07"
      },
      "cell_type": "code",
      "source": "row = X_valid.values[None,0]; row",
      "execution_count": 57,
      "outputs": [
        {
          "output_type": "execute_result",
          "execution_count": 57,
          "data": {
            "text/plain": "array([[      1999,          0,          5,         17,        665, 1284595200,          0,          0,\n                 1,          0,       3232,    4364751,       1111,          0,    2300944,       2010,\n                 4,         12,          0,          0,         16,         35,        259,          2,\n                 4]])"
          },
          "metadata": {}
        }
      ]
    },
    {
      "metadata": {
        "trusted": true,
        "_uuid": "7c729316410e1f4b590775b4e4906176f6bddc0e"
      },
      "cell_type": "code",
      "source": "prediction, bias, contributions = tl.predict(m, row)",
      "execution_count": 58,
      "outputs": []
    },
    {
      "metadata": {
        "trusted": true,
        "_uuid": "248db18c7d75d1b075847baa964bf4f0961d1d19"
      },
      "cell_type": "code",
      "source": "contributions[0].sum()",
      "execution_count": 59,
      "outputs": [
        {
          "output_type": "execute_result",
          "execution_count": 59,
          "data": {
            "text/plain": "-0.8315016576780854"
          },
          "metadata": {}
        }
      ]
    },
    {
      "metadata": {
        "trusted": true,
        "_uuid": "9abc58eb6b79e4f1f692b8b5238a7a86192a4e7d"
      },
      "cell_type": "code",
      "source": "df_ext = df_keep.copy()\ndf_ext['is_valid'] = 1\ndf_ext.is_valid[:n_trn] = 0\nx, y, nas = proc_df(df_ext, 'is_valid')",
      "execution_count": 60,
      "outputs": [
        {
          "output_type": "stream",
          "text": "/opt/conda/lib/python3.6/site-packages/ipykernel_launcher.py:3: SettingWithCopyWarning: \nA value is trying to be set on a copy of a slice from a DataFrame\n\nSee the caveats in the documentation: http://pandas.pydata.org/pandas-docs/stable/indexing.html#indexing-view-versus-copy\n  This is separate from the ipykernel package so we can avoid doing imports until\n",
          "name": "stderr"
        }
      ]
    },
    {
      "metadata": {
        "trusted": true,
        "_uuid": "78342f937e89eaf962e7c7a8ebaab9137fc17d88"
      },
      "cell_type": "code",
      "source": "m = RandomForestClassifier(n_estimators=40, min_samples_leaf=3, max_features=0.5, n_jobs=-1, oob_score=True)\nm.fit(x, y);\nm.oob_score_\nfi = rf_feat_importance(m, x); fi[:10] ",
      "execution_count": 62,
      "outputs": [
        {
          "output_type": "execute_result",
          "execution_count": 62,
          "data": {
            "text/plain": "              cols       imp\n11         SalesID  0.778785\n5      saleElapsed  0.141575\n14       MachineID  0.039227\n15        saleYear  0.024477\n22   saleDayofyear  0.007308\n12     fiBaseModel  0.002048\n4          ModelID  0.001484\n0         YearMade  0.001259\n10     fiModelDesc  0.001130\n1   Coupler_System  0.000684",
            "text/html": "<div>\n<style scoped>\n    .dataframe tbody tr th:only-of-type {\n        vertical-align: middle;\n    }\n\n    .dataframe tbody tr th {\n        vertical-align: top;\n    }\n\n    .dataframe thead th {\n        text-align: right;\n    }\n</style>\n<table border=\"1\" class=\"dataframe\">\n  <thead>\n    <tr style=\"text-align: right;\">\n      <th></th>\n      <th>cols</th>\n      <th>imp</th>\n    </tr>\n  </thead>\n  <tbody>\n    <tr>\n      <th>11</th>\n      <td>SalesID</td>\n      <td>0.778785</td>\n    </tr>\n    <tr>\n      <th>5</th>\n      <td>saleElapsed</td>\n      <td>0.141575</td>\n    </tr>\n    <tr>\n      <th>14</th>\n      <td>MachineID</td>\n      <td>0.039227</td>\n    </tr>\n    <tr>\n      <th>15</th>\n      <td>saleYear</td>\n      <td>0.024477</td>\n    </tr>\n    <tr>\n      <th>22</th>\n      <td>saleDayofyear</td>\n      <td>0.007308</td>\n    </tr>\n    <tr>\n      <th>12</th>\n      <td>fiBaseModel</td>\n      <td>0.002048</td>\n    </tr>\n    <tr>\n      <th>4</th>\n      <td>ModelID</td>\n      <td>0.001484</td>\n    </tr>\n    <tr>\n      <th>0</th>\n      <td>YearMade</td>\n      <td>0.001259</td>\n    </tr>\n    <tr>\n      <th>10</th>\n      <td>fiModelDesc</td>\n      <td>0.001130</td>\n    </tr>\n    <tr>\n      <th>1</th>\n      <td>Coupler_System</td>\n      <td>0.000684</td>\n    </tr>\n  </tbody>\n</table>\n</div>"
          },
          "metadata": {}
        }
      ]
    },
    {
      "metadata": {
        "trusted": true,
        "_uuid": "bcf5001fda8c41984b2b6edc08dec407c6c3a841"
      },
      "cell_type": "code",
      "source": "feats=['SalesID', 'saleElapsed', 'MachineID']\n\n(X_train[feats]/1000).describe()\n\n(X_valid[feats]/1000).describe()",
      "execution_count": 63,
      "outputs": [
        {
          "output_type": "execute_result",
          "execution_count": 63,
          "data": {
            "text/plain": "            SalesID   saleElapsed     MachineID\ncount  12000.000000  1.200000e+04  12000.000000\nmean    5786.967651  1.306609e+06   1578.049709\nstd      836.899608  2.497808e+04    589.497173\nmin     4364.751000  1.174522e+06      0.830000\n25%     4408.580750  1.309219e+06   1271.225250\n50%     6272.538500  1.316045e+06   1825.317000\n75%     6291.792250  1.321402e+06   1907.858000\nmax     6333.342000  1.325203e+06   2486.330000",
            "text/html": "<div>\n<style scoped>\n    .dataframe tbody tr th:only-of-type {\n        vertical-align: middle;\n    }\n\n    .dataframe tbody tr th {\n        vertical-align: top;\n    }\n\n    .dataframe thead th {\n        text-align: right;\n    }\n</style>\n<table border=\"1\" class=\"dataframe\">\n  <thead>\n    <tr style=\"text-align: right;\">\n      <th></th>\n      <th>SalesID</th>\n      <th>saleElapsed</th>\n      <th>MachineID</th>\n    </tr>\n  </thead>\n  <tbody>\n    <tr>\n      <th>count</th>\n      <td>12000.000000</td>\n      <td>1.200000e+04</td>\n      <td>12000.000000</td>\n    </tr>\n    <tr>\n      <th>mean</th>\n      <td>5786.967651</td>\n      <td>1.306609e+06</td>\n      <td>1578.049709</td>\n    </tr>\n    <tr>\n      <th>std</th>\n      <td>836.899608</td>\n      <td>2.497808e+04</td>\n      <td>589.497173</td>\n    </tr>\n    <tr>\n      <th>min</th>\n      <td>4364.751000</td>\n      <td>1.174522e+06</td>\n      <td>0.830000</td>\n    </tr>\n    <tr>\n      <th>25%</th>\n      <td>4408.580750</td>\n      <td>1.309219e+06</td>\n      <td>1271.225250</td>\n    </tr>\n    <tr>\n      <th>50%</th>\n      <td>6272.538500</td>\n      <td>1.316045e+06</td>\n      <td>1825.317000</td>\n    </tr>\n    <tr>\n      <th>75%</th>\n      <td>6291.792250</td>\n      <td>1.321402e+06</td>\n      <td>1907.858000</td>\n    </tr>\n    <tr>\n      <th>max</th>\n      <td>6333.342000</td>\n      <td>1.325203e+06</td>\n      <td>2486.330000</td>\n    </tr>\n  </tbody>\n</table>\n</div>"
          },
          "metadata": {}
        }
      ]
    },
    {
      "metadata": {
        "trusted": true,
        "_uuid": "18940c58c0d2cf2dc223263fca029104a6856bca"
      },
      "cell_type": "code",
      "source": "x.drop(feats, axis=1, inplace=True)\n\nm = RandomForestClassifier(n_estimators=40, min_samples_leaf=3, max_features=0.5, n_jobs=-1, oob_score=True)\nm.fit(x, y);\nm.oob_score_",
      "execution_count": 66,
      "outputs": [
        {
          "output_type": "execute_result",
          "execution_count": 66,
          "data": {
            "text/plain": "0.9857824867559988"
          },
          "metadata": {}
        }
      ]
    },
    {
      "metadata": {
        "trusted": true,
        "_uuid": "2f3bdc1abb5f5fcfd931fd96a728ee8b3de56990"
      },
      "cell_type": "code",
      "source": "df_ext = df_keep.copy()\ndf_ext['is_valid'] = 1\ndf_ext.is_valid[:n_trn] = 0\nx, y, nas = proc_df(df_ext, 'is_valid')",
      "execution_count": 69,
      "outputs": [
        {
          "output_type": "stream",
          "text": "/opt/conda/lib/python3.6/site-packages/ipykernel_launcher.py:3: SettingWithCopyWarning: \nA value is trying to be set on a copy of a slice from a DataFrame\n\nSee the caveats in the documentation: http://pandas.pydata.org/pandas-docs/stable/indexing.html#indexing-view-versus-copy\n  This is separate from the ipykernel package so we can avoid doing imports until\n",
          "name": "stderr"
        }
      ]
    },
    {
      "metadata": {
        "trusted": true,
        "_uuid": "20062a025c0377c43112d0f65362c7b211aa77df"
      },
      "cell_type": "code",
      "source": "m = RandomForestClassifier(n_estimators = 40, min_samples_leaf = 3, max_features = 0.5, n_jobs = -1, oob_score = True)\nm.fit(x, y)\nm.oob_score_",
      "execution_count": 72,
      "outputs": [
        {
          "output_type": "execute_result",
          "execution_count": 72,
          "data": {
            "text/plain": "0.9999850420691805"
          },
          "metadata": {}
        }
      ]
    },
    {
      "metadata": {
        "trusted": true,
        "_uuid": "3feb57047644663725bd0718867a09acc9ab2966"
      },
      "cell_type": "code",
      "source": "fi = rf_feat_importance(m, x); fi[:10]",
      "execution_count": 74,
      "outputs": [
        {
          "output_type": "execute_result",
          "execution_count": 74,
          "data": {
            "text/plain": "               cols       imp\n11          SalesID  0.738735\n5       saleElapsed  0.143489\n14        MachineID  0.050393\n15         saleYear  0.039952\n22    saleDayofyear  0.014152\n10      fiModelDesc  0.003295\n12      fiBaseModel  0.002806\n4           ModelID  0.001773\n0          YearMade  0.001660\n7   fiSecondaryDesc  0.000879",
            "text/html": "<div>\n<style scoped>\n    .dataframe tbody tr th:only-of-type {\n        vertical-align: middle;\n    }\n\n    .dataframe tbody tr th {\n        vertical-align: top;\n    }\n\n    .dataframe thead th {\n        text-align: right;\n    }\n</style>\n<table border=\"1\" class=\"dataframe\">\n  <thead>\n    <tr style=\"text-align: right;\">\n      <th></th>\n      <th>cols</th>\n      <th>imp</th>\n    </tr>\n  </thead>\n  <tbody>\n    <tr>\n      <th>11</th>\n      <td>SalesID</td>\n      <td>0.738735</td>\n    </tr>\n    <tr>\n      <th>5</th>\n      <td>saleElapsed</td>\n      <td>0.143489</td>\n    </tr>\n    <tr>\n      <th>14</th>\n      <td>MachineID</td>\n      <td>0.050393</td>\n    </tr>\n    <tr>\n      <th>15</th>\n      <td>saleYear</td>\n      <td>0.039952</td>\n    </tr>\n    <tr>\n      <th>22</th>\n      <td>saleDayofyear</td>\n      <td>0.014152</td>\n    </tr>\n    <tr>\n      <th>10</th>\n      <td>fiModelDesc</td>\n      <td>0.003295</td>\n    </tr>\n    <tr>\n      <th>12</th>\n      <td>fiBaseModel</td>\n      <td>0.002806</td>\n    </tr>\n    <tr>\n      <th>4</th>\n      <td>ModelID</td>\n      <td>0.001773</td>\n    </tr>\n    <tr>\n      <th>0</th>\n      <td>YearMade</td>\n      <td>0.001660</td>\n    </tr>\n    <tr>\n      <th>7</th>\n      <td>fiSecondaryDesc</td>\n      <td>0.000879</td>\n    </tr>\n  </tbody>\n</table>\n</div>"
          },
          "metadata": {}
        }
      ]
    },
    {
      "metadata": {
        "trusted": true,
        "_uuid": "ae4570826914c65a069fa450da07b1a1c45c241b"
      },
      "cell_type": "code",
      "source": "feats = ['SalesID', 'saleElapsed', 'MachineID']",
      "execution_count": 79,
      "outputs": []
    },
    {
      "metadata": {
        "trusted": true,
        "_uuid": "94511ebde0cbc2d9c684a66e3c376e11fef68d94"
      },
      "cell_type": "code",
      "source": "(X_train[feats]/1000).describe()",
      "execution_count": 80,
      "outputs": [
        {
          "output_type": "execute_result",
          "execution_count": 80,
          "data": {
            "text/plain": "             SalesID   saleElapsed      MachineID\ncount  389125.000000  3.891250e+05  389125.000000\nmean     1800.452485  1.084797e+06    1206.796148\nstd       595.627288  1.803913e+05     430.850552\nmin      1139.246000  6.009984e+05       0.000000\n25%      1413.348000  9.666432e+05    1087.016000\n50%      1632.093000  1.134605e+06    1273.859000\n75%      2210.453000  1.234138e+06    1458.661000\nmax      4364.741000  1.325117e+06    2313.821000",
            "text/html": "<div>\n<style scoped>\n    .dataframe tbody tr th:only-of-type {\n        vertical-align: middle;\n    }\n\n    .dataframe tbody tr th {\n        vertical-align: top;\n    }\n\n    .dataframe thead th {\n        text-align: right;\n    }\n</style>\n<table border=\"1\" class=\"dataframe\">\n  <thead>\n    <tr style=\"text-align: right;\">\n      <th></th>\n      <th>SalesID</th>\n      <th>saleElapsed</th>\n      <th>MachineID</th>\n    </tr>\n  </thead>\n  <tbody>\n    <tr>\n      <th>count</th>\n      <td>389125.000000</td>\n      <td>3.891250e+05</td>\n      <td>389125.000000</td>\n    </tr>\n    <tr>\n      <th>mean</th>\n      <td>1800.452485</td>\n      <td>1.084797e+06</td>\n      <td>1206.796148</td>\n    </tr>\n    <tr>\n      <th>std</th>\n      <td>595.627288</td>\n      <td>1.803913e+05</td>\n      <td>430.850552</td>\n    </tr>\n    <tr>\n      <th>min</th>\n      <td>1139.246000</td>\n      <td>6.009984e+05</td>\n      <td>0.000000</td>\n    </tr>\n    <tr>\n      <th>25%</th>\n      <td>1413.348000</td>\n      <td>9.666432e+05</td>\n      <td>1087.016000</td>\n    </tr>\n    <tr>\n      <th>50%</th>\n      <td>1632.093000</td>\n      <td>1.134605e+06</td>\n      <td>1273.859000</td>\n    </tr>\n    <tr>\n      <th>75%</th>\n      <td>2210.453000</td>\n      <td>1.234138e+06</td>\n      <td>1458.661000</td>\n    </tr>\n    <tr>\n      <th>max</th>\n      <td>4364.741000</td>\n      <td>1.325117e+06</td>\n      <td>2313.821000</td>\n    </tr>\n  </tbody>\n</table>\n</div>"
          },
          "metadata": {}
        }
      ]
    },
    {
      "metadata": {
        "trusted": true,
        "_uuid": "37a82af1ee99f5c0ef4d910818c0bde7e9deb941"
      },
      "cell_type": "code",
      "source": "(X_valid[feats]/1000).describe()",
      "execution_count": 81,
      "outputs": [
        {
          "output_type": "execute_result",
          "execution_count": 81,
          "data": {
            "text/plain": "            SalesID   saleElapsed     MachineID\ncount  12000.000000  1.200000e+04  12000.000000\nmean    5786.967651  1.306609e+06   1578.049709\nstd      836.899608  2.497808e+04    589.497173\nmin     4364.751000  1.174522e+06      0.830000\n25%     4408.580750  1.309219e+06   1271.225250\n50%     6272.538500  1.316045e+06   1825.317000\n75%     6291.792250  1.321402e+06   1907.858000\nmax     6333.342000  1.325203e+06   2486.330000",
            "text/html": "<div>\n<style scoped>\n    .dataframe tbody tr th:only-of-type {\n        vertical-align: middle;\n    }\n\n    .dataframe tbody tr th {\n        vertical-align: top;\n    }\n\n    .dataframe thead th {\n        text-align: right;\n    }\n</style>\n<table border=\"1\" class=\"dataframe\">\n  <thead>\n    <tr style=\"text-align: right;\">\n      <th></th>\n      <th>SalesID</th>\n      <th>saleElapsed</th>\n      <th>MachineID</th>\n    </tr>\n  </thead>\n  <tbody>\n    <tr>\n      <th>count</th>\n      <td>12000.000000</td>\n      <td>1.200000e+04</td>\n      <td>12000.000000</td>\n    </tr>\n    <tr>\n      <th>mean</th>\n      <td>5786.967651</td>\n      <td>1.306609e+06</td>\n      <td>1578.049709</td>\n    </tr>\n    <tr>\n      <th>std</th>\n      <td>836.899608</td>\n      <td>2.497808e+04</td>\n      <td>589.497173</td>\n    </tr>\n    <tr>\n      <th>min</th>\n      <td>4364.751000</td>\n      <td>1.174522e+06</td>\n      <td>0.830000</td>\n    </tr>\n    <tr>\n      <th>25%</th>\n      <td>4408.580750</td>\n      <td>1.309219e+06</td>\n      <td>1271.225250</td>\n    </tr>\n    <tr>\n      <th>50%</th>\n      <td>6272.538500</td>\n      <td>1.316045e+06</td>\n      <td>1825.317000</td>\n    </tr>\n    <tr>\n      <th>75%</th>\n      <td>6291.792250</td>\n      <td>1.321402e+06</td>\n      <td>1907.858000</td>\n    </tr>\n    <tr>\n      <th>max</th>\n      <td>6333.342000</td>\n      <td>1.325203e+06</td>\n      <td>2486.330000</td>\n    </tr>\n  </tbody>\n</table>\n</div>"
          },
          "metadata": {}
        }
      ]
    },
    {
      "metadata": {
        "trusted": true,
        "_uuid": "a0a48245e85571aeb9c79add1f9f8518376af4d0"
      },
      "cell_type": "code",
      "source": "x.drop(feats, axis = 1, inplace = True)",
      "execution_count": 83,
      "outputs": []
    },
    {
      "metadata": {
        "trusted": true,
        "_uuid": "740559597642431daf1a8988e4cce0215b57587d"
      },
      "cell_type": "code",
      "source": "m = RandomForestClassifier(n_estimators = 40, \n                            min_samples_leaf = 3,\n                            max_features = 0.5,\n                            n_jobs = -1,\n                            oob_score = True\n                           )\nm.fit(x, y)\nm.oob_score_",
      "execution_count": 85,
      "outputs": [
        {
          "output_type": "execute_result",
          "execution_count": 85,
          "data": {
            "text/plain": "0.9857326269866001"
          },
          "metadata": {}
        }
      ]
    },
    {
      "metadata": {
        "trusted": true,
        "_uuid": "e355820105b20d1880c3285588c9499cc077ab97"
      },
      "cell_type": "code",
      "source": "fi = rf_feat_importance(m, x); fi[:10]",
      "execution_count": 86,
      "outputs": [
        {
          "output_type": "execute_result",
          "execution_count": 86,
          "data": {
            "text/plain": "                  cols       imp\n12            saleYear  0.296970\n19       saleDayofyear  0.289892\n4              ModelID  0.059000\n17             saleDay  0.051253\n0             YearMade  0.042102\n18               state  0.039622\n9          fiModelDesc  0.036567\n10         fiBaseModel  0.029679\n7            Enclosure  0.025786\n3   fiProductClassDesc  0.022656",
            "text/html": "<div>\n<style scoped>\n    .dataframe tbody tr th:only-of-type {\n        vertical-align: middle;\n    }\n\n    .dataframe tbody tr th {\n        vertical-align: top;\n    }\n\n    .dataframe thead th {\n        text-align: right;\n    }\n</style>\n<table border=\"1\" class=\"dataframe\">\n  <thead>\n    <tr style=\"text-align: right;\">\n      <th></th>\n      <th>cols</th>\n      <th>imp</th>\n    </tr>\n  </thead>\n  <tbody>\n    <tr>\n      <th>12</th>\n      <td>saleYear</td>\n      <td>0.296970</td>\n    </tr>\n    <tr>\n      <th>19</th>\n      <td>saleDayofyear</td>\n      <td>0.289892</td>\n    </tr>\n    <tr>\n      <th>4</th>\n      <td>ModelID</td>\n      <td>0.059000</td>\n    </tr>\n    <tr>\n      <th>17</th>\n      <td>saleDay</td>\n      <td>0.051253</td>\n    </tr>\n    <tr>\n      <th>0</th>\n      <td>YearMade</td>\n      <td>0.042102</td>\n    </tr>\n    <tr>\n      <th>18</th>\n      <td>state</td>\n      <td>0.039622</td>\n    </tr>\n    <tr>\n      <th>9</th>\n      <td>fiModelDesc</td>\n      <td>0.036567</td>\n    </tr>\n    <tr>\n      <th>10</th>\n      <td>fiBaseModel</td>\n      <td>0.029679</td>\n    </tr>\n    <tr>\n      <th>7</th>\n      <td>Enclosure</td>\n      <td>0.025786</td>\n    </tr>\n    <tr>\n      <th>3</th>\n      <td>fiProductClassDesc</td>\n      <td>0.022656</td>\n    </tr>\n  </tbody>\n</table>\n</div>"
          },
          "metadata": {}
        }
      ]
    },
    {
      "metadata": {
        "trusted": true,
        "_uuid": "313f53f98792506a96c323e53f0bcae1f6c48522"
      },
      "cell_type": "code",
      "source": "set_rf_samples(50000)",
      "execution_count": 87,
      "outputs": []
    },
    {
      "metadata": {
        "trusted": true,
        "_uuid": "a04e432e43534cceae9141cd096cdbb384e2fbdc"
      },
      "cell_type": "code",
      "source": "feats = ['SalesID', \n         'saleElapsed',\n         'MachineID',\n         'age',\n         'YearMade',\n         'saleDayofYear'\n        ]",
      "execution_count": 89,
      "outputs": []
    },
    {
      "metadata": {
        "trusted": true,
        "_uuid": "ad76c794c462cc893c4e7048be3f92739dc6ead1"
      },
      "cell_type": "code",
      "source": "X_train, X_valid = split_vals(df_keep, n_trn)\nm = RandomForestRegressor(n_estimators=40, min_samples_leaf=3, max_features=0.5, n_jobs=-1, oob_score=True)\nm.fit(X_train, y_train)\nprint_score(m)",
      "execution_count": 90,
      "outputs": [
        {
          "output_type": "stream",
          "text": "[0.20702287075354417, 0.2450901868960485, 0.9104281633826385, 0.8927246796847661, 0.8941378956203997]\n",
          "name": "stdout"
        }
      ]
    },
    {
      "metadata": {
        "trusted": true,
        "_uuid": "e22ce0047865cab0fa99c535c1495fa0c9f03085"
      },
      "cell_type": "code",
      "source": "for f in feats:\n    df_subs = df_keep.drop(f, axis=1)\n    X_train, X_valid = split_vals(df_subs, n_trn)\n    m = RandomForestRegressor(n_estimators=40, min_samples_leaf=3, max_features=0.5, n_jobs=-1, oob_score=True)\n    m.fit(X_train, y_train)\n    print(f)\n    print_score(m)",
      "execution_count": 91,
      "outputs": [
        {
          "output_type": "stream",
          "text": "SalesID\n[0.20758068930922186, 0.24175940710930577, 0.9099448143988438, 0.895620613996624, 0.8940034885486858]\nsaleElapsed\n[0.21030097357990662, 0.24715340950661582, 0.9075690551390034, 0.8909109434156841, 0.8910715064029033]\nMachineID\n[0.20538870695718126, 0.24249388198923214, 0.9118366776799711, 0.894985432994603, 0.8963522464210287]\n",
          "name": "stdout"
        },
        {
          "output_type": "error",
          "ename": "KeyError",
          "evalue": "\"['age'] not found in axis\"",
          "traceback": [
            "\u001b[0;31m---------------------------------------------------------------------------\u001b[0m",
            "\u001b[0;31mKeyError\u001b[0m                                  Traceback (most recent call last)",
            "\u001b[0;32m<ipython-input-91-95b1bfdf9d46>\u001b[0m in \u001b[0;36m<module>\u001b[0;34m()\u001b[0m\n\u001b[1;32m      1\u001b[0m \u001b[0;32mfor\u001b[0m \u001b[0mf\u001b[0m \u001b[0;32min\u001b[0m \u001b[0mfeats\u001b[0m\u001b[0;34m:\u001b[0m\u001b[0;34m\u001b[0m\u001b[0m\n\u001b[0;32m----> 2\u001b[0;31m     \u001b[0mdf_subs\u001b[0m \u001b[0;34m=\u001b[0m \u001b[0mdf_keep\u001b[0m\u001b[0;34m.\u001b[0m\u001b[0mdrop\u001b[0m\u001b[0;34m(\u001b[0m\u001b[0mf\u001b[0m\u001b[0;34m,\u001b[0m \u001b[0maxis\u001b[0m\u001b[0;34m=\u001b[0m\u001b[0;36m1\u001b[0m\u001b[0;34m)\u001b[0m\u001b[0;34m\u001b[0m\u001b[0m\n\u001b[0m\u001b[1;32m      3\u001b[0m     \u001b[0mX_train\u001b[0m\u001b[0;34m,\u001b[0m \u001b[0mX_valid\u001b[0m \u001b[0;34m=\u001b[0m \u001b[0msplit_vals\u001b[0m\u001b[0;34m(\u001b[0m\u001b[0mdf_subs\u001b[0m\u001b[0;34m,\u001b[0m \u001b[0mn_trn\u001b[0m\u001b[0;34m)\u001b[0m\u001b[0;34m\u001b[0m\u001b[0m\n\u001b[1;32m      4\u001b[0m     \u001b[0mm\u001b[0m \u001b[0;34m=\u001b[0m \u001b[0mRandomForestRegressor\u001b[0m\u001b[0;34m(\u001b[0m\u001b[0mn_estimators\u001b[0m\u001b[0;34m=\u001b[0m\u001b[0;36m40\u001b[0m\u001b[0;34m,\u001b[0m \u001b[0mmin_samples_leaf\u001b[0m\u001b[0;34m=\u001b[0m\u001b[0;36m3\u001b[0m\u001b[0;34m,\u001b[0m \u001b[0mmax_features\u001b[0m\u001b[0;34m=\u001b[0m\u001b[0;36m0.5\u001b[0m\u001b[0;34m,\u001b[0m \u001b[0mn_jobs\u001b[0m\u001b[0;34m=\u001b[0m\u001b[0;34m-\u001b[0m\u001b[0;36m1\u001b[0m\u001b[0;34m,\u001b[0m \u001b[0moob_score\u001b[0m\u001b[0;34m=\u001b[0m\u001b[0;32mTrue\u001b[0m\u001b[0;34m)\u001b[0m\u001b[0;34m\u001b[0m\u001b[0m\n\u001b[1;32m      5\u001b[0m     \u001b[0mm\u001b[0m\u001b[0;34m.\u001b[0m\u001b[0mfit\u001b[0m\u001b[0;34m(\u001b[0m\u001b[0mX_train\u001b[0m\u001b[0;34m,\u001b[0m \u001b[0my_train\u001b[0m\u001b[0;34m)\u001b[0m\u001b[0;34m\u001b[0m\u001b[0m\n",
            "\u001b[0;32m/opt/conda/lib/python3.6/site-packages/pandas/core/frame.py\u001b[0m in \u001b[0;36mdrop\u001b[0;34m(self, labels, axis, index, columns, level, inplace, errors)\u001b[0m\n\u001b[1;32m   3695\u001b[0m                                            \u001b[0mindex\u001b[0m\u001b[0;34m=\u001b[0m\u001b[0mindex\u001b[0m\u001b[0;34m,\u001b[0m \u001b[0mcolumns\u001b[0m\u001b[0;34m=\u001b[0m\u001b[0mcolumns\u001b[0m\u001b[0;34m,\u001b[0m\u001b[0;34m\u001b[0m\u001b[0m\n\u001b[1;32m   3696\u001b[0m                                            \u001b[0mlevel\u001b[0m\u001b[0;34m=\u001b[0m\u001b[0mlevel\u001b[0m\u001b[0;34m,\u001b[0m \u001b[0minplace\u001b[0m\u001b[0;34m=\u001b[0m\u001b[0minplace\u001b[0m\u001b[0;34m,\u001b[0m\u001b[0;34m\u001b[0m\u001b[0m\n\u001b[0;32m-> 3697\u001b[0;31m                                            errors=errors)\n\u001b[0m\u001b[1;32m   3698\u001b[0m \u001b[0;34m\u001b[0m\u001b[0m\n\u001b[1;32m   3699\u001b[0m     @rewrite_axis_style_signature('mapper', [('copy', True),\n",
            "\u001b[0;32m/opt/conda/lib/python3.6/site-packages/pandas/core/generic.py\u001b[0m in \u001b[0;36mdrop\u001b[0;34m(self, labels, axis, index, columns, level, inplace, errors)\u001b[0m\n\u001b[1;32m   3109\u001b[0m         \u001b[0;32mfor\u001b[0m \u001b[0maxis\u001b[0m\u001b[0;34m,\u001b[0m \u001b[0mlabels\u001b[0m \u001b[0;32min\u001b[0m \u001b[0maxes\u001b[0m\u001b[0;34m.\u001b[0m\u001b[0mitems\u001b[0m\u001b[0;34m(\u001b[0m\u001b[0;34m)\u001b[0m\u001b[0;34m:\u001b[0m\u001b[0;34m\u001b[0m\u001b[0m\n\u001b[1;32m   3110\u001b[0m             \u001b[0;32mif\u001b[0m \u001b[0mlabels\u001b[0m \u001b[0;32mis\u001b[0m \u001b[0;32mnot\u001b[0m \u001b[0;32mNone\u001b[0m\u001b[0;34m:\u001b[0m\u001b[0;34m\u001b[0m\u001b[0m\n\u001b[0;32m-> 3111\u001b[0;31m                 \u001b[0mobj\u001b[0m \u001b[0;34m=\u001b[0m \u001b[0mobj\u001b[0m\u001b[0;34m.\u001b[0m\u001b[0m_drop_axis\u001b[0m\u001b[0;34m(\u001b[0m\u001b[0mlabels\u001b[0m\u001b[0;34m,\u001b[0m \u001b[0maxis\u001b[0m\u001b[0;34m,\u001b[0m \u001b[0mlevel\u001b[0m\u001b[0;34m=\u001b[0m\u001b[0mlevel\u001b[0m\u001b[0;34m,\u001b[0m \u001b[0merrors\u001b[0m\u001b[0;34m=\u001b[0m\u001b[0merrors\u001b[0m\u001b[0;34m)\u001b[0m\u001b[0;34m\u001b[0m\u001b[0m\n\u001b[0m\u001b[1;32m   3112\u001b[0m \u001b[0;34m\u001b[0m\u001b[0m\n\u001b[1;32m   3113\u001b[0m         \u001b[0;32mif\u001b[0m \u001b[0minplace\u001b[0m\u001b[0;34m:\u001b[0m\u001b[0;34m\u001b[0m\u001b[0m\n",
            "\u001b[0;32m/opt/conda/lib/python3.6/site-packages/pandas/core/generic.py\u001b[0m in \u001b[0;36m_drop_axis\u001b[0;34m(self, labels, axis, level, errors)\u001b[0m\n\u001b[1;32m   3141\u001b[0m                 \u001b[0mnew_axis\u001b[0m \u001b[0;34m=\u001b[0m \u001b[0maxis\u001b[0m\u001b[0;34m.\u001b[0m\u001b[0mdrop\u001b[0m\u001b[0;34m(\u001b[0m\u001b[0mlabels\u001b[0m\u001b[0;34m,\u001b[0m \u001b[0mlevel\u001b[0m\u001b[0;34m=\u001b[0m\u001b[0mlevel\u001b[0m\u001b[0;34m,\u001b[0m \u001b[0merrors\u001b[0m\u001b[0;34m=\u001b[0m\u001b[0merrors\u001b[0m\u001b[0;34m)\u001b[0m\u001b[0;34m\u001b[0m\u001b[0m\n\u001b[1;32m   3142\u001b[0m             \u001b[0;32melse\u001b[0m\u001b[0;34m:\u001b[0m\u001b[0;34m\u001b[0m\u001b[0m\n\u001b[0;32m-> 3143\u001b[0;31m                 \u001b[0mnew_axis\u001b[0m \u001b[0;34m=\u001b[0m \u001b[0maxis\u001b[0m\u001b[0;34m.\u001b[0m\u001b[0mdrop\u001b[0m\u001b[0;34m(\u001b[0m\u001b[0mlabels\u001b[0m\u001b[0;34m,\u001b[0m \u001b[0merrors\u001b[0m\u001b[0;34m=\u001b[0m\u001b[0merrors\u001b[0m\u001b[0;34m)\u001b[0m\u001b[0;34m\u001b[0m\u001b[0m\n\u001b[0m\u001b[1;32m   3144\u001b[0m             \u001b[0mresult\u001b[0m \u001b[0;34m=\u001b[0m \u001b[0mself\u001b[0m\u001b[0;34m.\u001b[0m\u001b[0mreindex\u001b[0m\u001b[0;34m(\u001b[0m\u001b[0;34m**\u001b[0m\u001b[0;34m{\u001b[0m\u001b[0maxis_name\u001b[0m\u001b[0;34m:\u001b[0m \u001b[0mnew_axis\u001b[0m\u001b[0;34m}\u001b[0m\u001b[0;34m)\u001b[0m\u001b[0;34m\u001b[0m\u001b[0m\n\u001b[1;32m   3145\u001b[0m \u001b[0;34m\u001b[0m\u001b[0m\n",
            "\u001b[0;32m/opt/conda/lib/python3.6/site-packages/pandas/core/indexes/base.py\u001b[0m in \u001b[0;36mdrop\u001b[0;34m(self, labels, errors)\u001b[0m\n\u001b[1;32m   4402\u001b[0m             \u001b[0;32mif\u001b[0m \u001b[0merrors\u001b[0m \u001b[0;34m!=\u001b[0m \u001b[0;34m'ignore'\u001b[0m\u001b[0;34m:\u001b[0m\u001b[0;34m\u001b[0m\u001b[0m\n\u001b[1;32m   4403\u001b[0m                 raise KeyError(\n\u001b[0;32m-> 4404\u001b[0;31m                     '{} not found in axis'.format(labels[mask]))\n\u001b[0m\u001b[1;32m   4405\u001b[0m             \u001b[0mindexer\u001b[0m \u001b[0;34m=\u001b[0m \u001b[0mindexer\u001b[0m\u001b[0;34m[\u001b[0m\u001b[0;34m~\u001b[0m\u001b[0mmask\u001b[0m\u001b[0;34m]\u001b[0m\u001b[0;34m\u001b[0m\u001b[0m\n\u001b[1;32m   4406\u001b[0m         \u001b[0;32mreturn\u001b[0m \u001b[0mself\u001b[0m\u001b[0;34m.\u001b[0m\u001b[0mdelete\u001b[0m\u001b[0;34m(\u001b[0m\u001b[0mindexer\u001b[0m\u001b[0;34m)\u001b[0m\u001b[0;34m\u001b[0m\u001b[0m\n",
            "\u001b[0;31mKeyError\u001b[0m: \"['age'] not found in axis\""
          ]
        }
      ]
    },
    {
      "metadata": {
        "trusted": true,
        "_uuid": "2473cb846188770f44eaa094e7d8c0778a4c2530"
      },
      "cell_type": "code",
      "source": "\nreset_rf_samples()",
      "execution_count": null,
      "outputs": []
    },
    {
      "metadata": {
        "trusted": true,
        "_uuid": "63109845c43cfa70e4ad825f0fdce73805a38d04"
      },
      "cell_type": "code",
      "source": "",
      "execution_count": null,
      "outputs": []
    }
  ],
  "metadata": {
    "colab": {
      "name": "fastai_1.ipynb",
      "version": "0.3.2",
      "provenance": []
    },
    "kernelspec": {
      "display_name": "Python 3",
      "language": "python",
      "name": "python3"
    },
    "accelerator": "GPU",
    "language_info": {
      "name": "python",
      "version": "3.6.6",
      "mimetype": "text/x-python",
      "codemirror_mode": {
        "name": "ipython",
        "version": 3
      },
      "pygments_lexer": "ipython3",
      "nbconvert_exporter": "python",
      "file_extension": ".py"
    }
  },
  "nbformat": 4,
  "nbformat_minor": 1
}