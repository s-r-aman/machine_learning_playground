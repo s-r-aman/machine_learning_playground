{
  "nbformat": 4,
  "nbformat_minor": 0,
  "metadata": {
    "colab": {
      "name": "rf_scratch.ipynb",
      "version": "0.3.2",
      "provenance": [],
      "collapsed_sections": [],
      "include_colab_link": true
    },
    "kernelspec": {
      "name": "python3",
      "display_name": "Python 3"
    }
  },
  "cells": [
    {
      "cell_type": "markdown",
      "metadata": {
        "id": "view-in-github",
        "colab_type": "text"
      },
      "source": [
        "<a href=\"https://colab.research.google.com/github/s-r-aman/machine_learning_playground/blob/master/fastdotai/rf_scratch.ipynb\" target=\"_parent\"><img src=\"https://colab.research.google.com/assets/colab-badge.svg\" alt=\"Open In Colab\"/></a>"
      ]
    },
    {
      "metadata": {
        "id": "y7nd11o3MhMa",
        "colab_type": "code",
        "colab": {}
      },
      "cell_type": "code",
      "source": [
        "import numpy as np"
      ],
      "execution_count": 0,
      "outputs": []
    },
    {
      "metadata": {
        "id": "k-kS2czHO9Nt",
        "colab_type": "code",
        "colab": {}
      },
      "cell_type": "code",
      "source": [
        "# np.random.seed(10)"
      ],
      "execution_count": 0,
      "outputs": []
    },
    {
      "metadata": {
        "id": "beBGPurkUz79",
        "colab_type": "code",
        "colab": {}
      },
      "cell_type": "code",
      "source": [
        "class TreeEnsemble():\n",
        "  def __init__(self, x, y, n_trees, sample_sz, min_leaf=5):\n",
        "    np.random.seed(42)\n",
        "    self.x, self.y, self.sample_xz, self.min_leaf = x, y, sample_sz, min_leaf\n",
        "    self.trees = [self.create_tree() for i in range(n_trees)]\n",
        "  \n",
        "  def create_tree(self):\n",
        "    rnd_idxs = np.random.permutation(len(self.y))[:self.sample_sz]\n",
        "    return DescisionTree(self.x.iloc[rnd_idxs], self.y[rnd_idxs], min_leaf=self.min-leaf)\n",
        "  \n",
        "  def predict(self, x):\n",
        "    return np.mean([t.predict(x) for t in self.trees], axis = 0)"
      ],
      "execution_count": 0,
      "outputs": []
    },
    {
      "metadata": {
        "id": "PIODCIs_ahyn",
        "colab_type": "code",
        "colab": {}
      },
      "cell_type": "code",
      "source": [
        "class DecisionTree():\n",
        "  def __init__(self, x, y, idxs=None, min_leaf=5):\n",
        "    self.x, self.y, self.idxs, min_leaf = x, y, idxs, min_leaf\n",
        "    self.n, self.c = len(idxs), x.shape[1]\n",
        "    self.val = np.mean(y[idxs])\n",
        "    self.score = float('inf')\n",
        "    self.find_varsplit()\n",
        "    \n",
        "  def find_varsplit():\n",
        "    for i in range(self.c): self.find_better_split(i)\n",
        "  \n",
        "  \n",
        "  def find_better_split(self, var_idx):\n",
        "    x, y = self.x.values[self.idxs, var_idx], self.y[self.idxs]\n",
        "    \n",
        "    for i in range(self.n):\n",
        "      lhs = x<=x[i]\n",
        "      rhs = x>x[i]\n",
        "      if rhs.sum() < self.min_leaf() or lhs.sum() < self.min_leaf: continue\n",
        "      lhs_std = y[lhs].std()\n",
        "      rhs_std = y[rhs].std()\n",
        "      curr_score = lhs_std * lhs.sum() + rhs_std * rhs.sum()\n",
        "      if curr_score < self.score:\n",
        "         self.var_idx, self.score, self.split = var_idx, curr_score, x[i]\n",
        "  \n",
        "  @property\n",
        "  def split_name(selt): return self.x.columns[self.var_idx]\n",
        "  \n",
        "  @property\n",
        "  def split_col(self): return self.x.values[self.idxs, self.var_idx]\n",
        "  \n",
        "  @property\n",
        "  def is_leaf(self): return self.score == float('inf')\n",
        "  \n",
        "  def __repr__(self):\n",
        "    s = f'n: {self.n}; val:{self.val}'\n",
        "    if not self.is_leaf:\n",
        "      s += f': score: {self.score}; split: {self.split}; var: {self.split_name}'\n",
        "    return s\n",
        "  \n",
        "    "
      ],
      "execution_count": 0,
      "outputs": []
    },
    {
      "metadata": {
        "id": "FQmf2u-tbczc",
        "colab_type": "code",
        "colab": {}
      },
      "cell_type": "code",
      "source": [
        "def std_agg(cnt, s1, s2): return math.sqrt((s2/cnt) - (s1/cnt)**2)\n",
        "\n",
        "def find_better_split(self, var_idx):\n",
        "  x,y = self.x.values[self,idxs, var_idx], self.y[self.idxs]\n",
        "  \n",
        "  sort_idx = np.argsort(x)\n",
        "  sort_y, sort_x = y[sort_idx], x[sort_idx]\n",
        "  rhs_cnt, rhs_sum, rhs_sum2 = self.n, sort_y.sum(), (sort_y**2).sum()\n",
        "  lhs_cnt, lhs_sum, lhs_sum2 = 0, 0., 0.\n",
        "  \n",
        "  for i in range(0, self.n - self.min_leaf):\n",
        "    xi,yi = sort_x[i],sort_y[i]\n",
        "    lhs_cnt += 1; rhs_cnt -= 1\n",
        "    lhs_sum += yi; rhs_sum -= yi\n",
        "    lhs_sum2 += yi**2; rhs_sum2 -= yi**2\n",
        "    if i<self.min_leaf-1 or xi==sort_x[i+1]:\n",
        "        continue\n",
        "\n",
        "    lhs_std = std_agg(lhs_cnt, lhs_sum, lhs_sum2)\n",
        "    rhs_std = std_agg(rhs_cnt, rhs_sum, rhs_sum2)\n",
        "    curr_score = lhs_std*lhs_cnt + rhs_std*rhs_cnt\n",
        "    if curr_score<self.score: \n",
        "        self.var_idx,self.score,self.split = var_idx,curr_score,xi]\n",
        "  "
      ],
      "execution_count": 0,
      "outputs": []
    }
  ]
}