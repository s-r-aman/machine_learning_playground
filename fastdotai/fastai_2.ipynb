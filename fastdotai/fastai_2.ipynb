{
  "cells": [
    {
      "metadata": {
        "_uuid": "8f2839f25d086af736a60e9eeb907d3b93b6e0e5",
        "_cell_guid": "b1076dfc-b9ad-4769-8c92-a6c4dae69d19",
        "trusted": true
      },
      "cell_type": "code",
      "source": "# This Python 3 environment comes with many helpful analytics libraries installed\n# It is defined by the kaggle/python docker image: https://github.com/kaggle/docker-python\n# For example, here's several helpful packages to load in \n\nimport numpy as np # linear algebra\nimport pandas as pd # data processing, CSV file I/O (e.g. pd.read_csv)\n\n# Input data files are available in the \"../input/\" directory.\n# For example, running this (by clicking run or pressing Shift+Enter) will list the files in the input directory\n\nimport os\nprint(os.listdir(\"../input\"))\n\n# Any results you write to the current directory are saved as output.",
      "execution_count": null,
      "outputs": []
    },
    {
      "metadata": {
        "_cell_guid": "79c7e3d0-c299-4dcb-8224-4455121ee9b0",
        "_uuid": "d629ff2d2480ee46fbb7e2d37f6b5fab8052498a",
        "trusted": true
      },
      "cell_type": "code",
      "source": "!pip install pandas-summary ipython fastai==0.7",
      "execution_count": null,
      "outputs": []
    },
    {
      "metadata": {
        "trusted": true,
        "_uuid": "c6fcd763128e702ce2b739de89a6650de3bfae6a"
      },
      "cell_type": "code",
      "source": "%load_ext autoreload\n%autoreload 2\n%matplotlib inline",
      "execution_count": null,
      "outputs": []
    },
    {
      "metadata": {
        "trusted": true,
        "_uuid": "63efc18a2fdaf4d9c163849595b76e3acde1f35d"
      },
      "cell_type": "code",
      "source": "from fastai.imports import *\nfrom fastai.structured import *\nfrom pandas_summary import DataFrameSummary\nfrom sklearn.ensemble import RandomForestRegressor, RandomForestClassifier\nfrom IPython.display import display\nfrom sklearn import metrics",
      "execution_count": null,
      "outputs": []
    },
    {
      "metadata": {
        "trusted": true,
        "_uuid": "92efbf9222b22da806b95b833d0f05bfb90242b9"
      },
      "cell_type": "code",
      "source": "PATH = '../input/'\n!head ../input/train.csv",
      "execution_count": null,
      "outputs": []
    },
    {
      "metadata": {
        "trusted": true,
        "_uuid": "7b13b32ebc3be05791ae85596f4f57639470c4a0"
      },
      "cell_type": "code",
      "source": "types = {\n    'id': 'int64',\n    'item_nbr': 'int32',\n    'store_nbr': 'int8',\n    'unit_sales': 'float32',\n    'onpromotion': 'object'\n}",
      "execution_count": null,
      "outputs": []
    },
    {
      "metadata": {
        "trusted": true,
        "_uuid": "f6cbbe91b11228cc009e16ece68b9f52dc304632"
      },
      "cell_type": "code",
      "source": "%%time\n# df_all = pd.read_csv(f'{PATH}train.csv', parse_dates=['date'], dtype = types, infer_datetime_format = True)\ndf_all = pd.read_feather('raw_groceries')",
      "execution_count": null,
      "outputs": []
    },
    {
      "metadata": {
        "trusted": true,
        "_uuid": "397b00b83ce5204e6ea2a53fb300c549e94038f6"
      },
      "cell_type": "code",
      "source": "df_all.onpromotion.fillna(False, inplace=True)\ndf_all.onpromotion = df_all.onpromotion.map({'False': False, \n                                             'True': True})\ndf_all.onpromotion = df_all.onpromotion.astype(bool)",
      "execution_count": null,
      "outputs": []
    },
    {
      "metadata": {
        "trusted": true,
        "_uuid": "5fe95c1fba3c7b4c5e83250ae518255336dfd6f5"
      },
      "cell_type": "code",
      "source": "%time df_all.describe(include='all')",
      "execution_count": null,
      "outputs": []
    },
    {
      "metadata": {
        "trusted": true,
        "_uuid": "6c842296fd601fef0586b9e13f6c05ad4aaaba7b"
      },
      "cell_type": "code",
      "source": "df_all.tail()",
      "execution_count": null,
      "outputs": []
    },
    {
      "metadata": {
        "trusted": true,
        "_uuid": "0bed74be4929dc7528fcbd9182d09267cfc03834"
      },
      "cell_type": "code",
      "source": "df_all.unit_sales = np.log1p(np.clip(df_all.unit_sales, 0, None))",
      "execution_count": null,
      "outputs": []
    },
    {
      "metadata": {
        "trusted": true,
        "_uuid": "a4a8296208ed10a15aa30f572c82305e6dd5bf1f"
      },
      "cell_type": "code",
      "source": "%time df_all.to_feather('raw_groceries')",
      "execution_count": null,
      "outputs": []
    },
    {
      "metadata": {
        "trusted": true,
        "_uuid": "a1ab2907560dc96def0d8cbddfdebc5d19b04426"
      },
      "cell_type": "code",
      "source": "set_rf_samples(1000000)\n%time add_datepart(df_all, 'date')",
      "execution_count": null,
      "outputs": []
    },
    {
      "metadata": {
        "trusted": true,
        "_uuid": "3d72cff586e71d74093b680e2556e992629fbbc2"
      },
      "cell_type": "code",
      "source": "",
      "execution_count": null,
      "outputs": []
    }
  ],
  "metadata": {
    "kernelspec": {
      "display_name": "Python 3",
      "language": "python",
      "name": "python3"
    },
    "language_info": {
      "name": "python",
      "version": "3.6.6",
      "mimetype": "text/x-python",
      "codemirror_mode": {
        "name": "ipython",
        "version": 3
      },
      "pygments_lexer": "ipython3",
      "nbconvert_exporter": "python",
      "file_extension": ".py"
    }
  },
  "nbformat": 4,
  "nbformat_minor": 1
}