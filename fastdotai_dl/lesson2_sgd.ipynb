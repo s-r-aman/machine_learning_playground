{
  "nbformat": 4,
  "nbformat_minor": 0,
  "metadata": {
    "colab": {
      "name": "lesson2-sgd.ipynb",
      "version": "0.3.2",
      "provenance": [],
      "include_colab_link": true
    },
    "kernelspec": {
      "name": "python3",
      "display_name": "Python 3"
    }
  },
  "cells": [
    {
      "cell_type": "markdown",
      "metadata": {
        "id": "view-in-github",
        "colab_type": "text"
      },
      "source": [
        "<a href=\"https://colab.research.google.com/github/s-r-aman/machine_learning_playground/blob/master/fastdotai_dl/lesson2_sgd.ipynb\" target=\"_parent\"><img src=\"https://colab.research.google.com/assets/colab-badge.svg\" alt=\"Open In Colab\"/></a>"
      ]
    },
    {
      "metadata": {
        "id": "JFmviK9-uH43",
        "colab_type": "code",
        "colab": {}
      },
      "cell_type": "code",
      "source": [
        "!pip install fastai"
      ],
      "execution_count": 0,
      "outputs": []
    },
    {
      "metadata": {
        "id": "y9Nw0lsOt1Xy",
        "colab_type": "code",
        "colab": {}
      },
      "cell_type": "code",
      "source": [
        "%matplotlib inline\n",
        "from fastai.basics import *"
      ],
      "execution_count": 0,
      "outputs": []
    },
    {
      "metadata": {
        "id": "PLJEse20vJSU",
        "colab_type": "code",
        "colab": {}
      },
      "cell_type": "code",
      "source": [
        "n = 100"
      ],
      "execution_count": 0,
      "outputs": []
    },
    {
      "metadata": {
        "id": "D-eOfhqmu_ra",
        "colab_type": "code",
        "colab": {
          "base_uri": "https://localhost:8080/",
          "height": 101
        },
        "outputId": "c4676c00-8820-4471-8a35-ce4802a0cd01"
      },
      "cell_type": "code",
      "source": [
        "x = torch.ones(n, 2); x\n",
        "x[:,0].uniform_(-1, 1);\n",
        "x[:5]"
      ],
      "execution_count": 8,
      "outputs": [
        {
          "output_type": "execute_result",
          "data": {
            "text/plain": [
              "tensor([[-0.4610,  1.0000],\n",
              "        [ 0.5946,  1.0000],\n",
              "        [ 0.8182,  1.0000],\n",
              "        [ 0.4233,  1.0000],\n",
              "        [-0.0728,  1.0000]])"
            ]
          },
          "metadata": {
            "tags": []
          },
          "execution_count": 8
        }
      ]
    },
    {
      "metadata": {
        "id": "k93ZBJmUvEXJ",
        "colab_type": "code",
        "colab": {
          "base_uri": "https://localhost:8080/",
          "height": 34
        },
        "outputId": "5a585e03-38e8-4176-8819-c96092c55a16"
      },
      "cell_type": "code",
      "source": [
        "a = tensor(3., 2); a "
      ],
      "execution_count": 10,
      "outputs": [
        {
          "output_type": "execute_result",
          "data": {
            "text/plain": [
              "tensor([3., 2.])"
            ]
          },
          "metadata": {
            "tags": []
          },
          "execution_count": 10
        }
      ]
    },
    {
      "metadata": {
        "id": "qwhuSRe0viui",
        "colab_type": "code",
        "colab": {
          "base_uri": "https://localhost:8080/",
          "height": 235
        },
        "outputId": "6b4ba783-22e9-4bc1-d28a-5f20f40c498d"
      },
      "cell_type": "code",
      "source": [
        "p = x@a\n",
        "y = x@a + torch.rand(n); y"
      ],
      "execution_count": 16,
      "outputs": [
        {
          "output_type": "execute_result",
          "data": {
            "text/plain": [
              "tensor([ 0.7807,  3.8084,  4.8471,  3.4582,  2.7760,  2.6990,  5.0008,  5.2645,\n",
              "         3.6917,  4.2613,  3.1315,  3.9436,  1.4569,  2.9529,  4.2322,  4.2685,\n",
              "         4.4720,  2.3973,  0.5579,  4.8913,  0.0535,  3.7506,  2.6142,  1.8379,\n",
              "         3.0101,  5.6947,  0.7996,  2.6388,  2.1623,  2.9912,  3.8977,  5.0893,\n",
              "         0.4618,  1.6721,  5.2885,  0.5890,  1.2010,  0.2824, -0.2349,  3.2694,\n",
              "         4.8565,  2.8296,  2.8276, -0.0412,  1.7056,  2.9124,  1.5220,  4.8314,\n",
              "         2.4076,  0.2101,  5.4484,  3.6433,  4.1427,  4.0523,  4.6285, -0.1292,\n",
              "         0.1593,  4.2472,  2.9917,  5.1577,  4.9964,  0.3021,  4.0193,  1.7534,\n",
              "         1.5624,  1.5614,  5.2139,  1.2593,  1.8504,  2.8786,  4.0492,  2.4549,\n",
              "         1.5411, -0.1993,  4.9486,  4.9818,  3.2963,  3.2912, -0.1936,  4.6272,\n",
              "         2.6328,  0.1107,  4.3647,  2.6443,  4.2991,  1.7691,  5.2596,  4.6941,\n",
              "         1.5075,  3.3715,  3.8651,  0.5667,  2.6063,  2.3506,  1.3855,  0.6641,\n",
              "        -0.5334,  1.6997,  4.7673,  2.8785])"
            ]
          },
          "metadata": {
            "tags": []
          },
          "execution_count": 16
        }
      ]
    },
    {
      "metadata": {
        "id": "fwEV3cxKvnjB",
        "colab_type": "code",
        "colab": {
          "base_uri": "https://localhost:8080/",
          "height": 265
        },
        "outputId": "ae271041-1f3d-426c-91fb-377822d299e7"
      },
      "cell_type": "code",
      "source": [
        "plt.scatter(x[:,0], y);"
      ],
      "execution_count": 14,
      "outputs": [
        {
          "output_type": "display_data",
          "data": {
            "image/png": "[encoded data removed]",
            "text/plain": [
              "<Figure size 432x288 with 1 Axes>"
            ]
          },
          "metadata": {
            "tags": []
          }
        }
      ]
    },
    {
      "metadata": {
        "id": "6qcsEEGavvEZ",
        "colab_type": "code",
        "colab": {
          "base_uri": "https://localhost:8080/",
          "height": 218
        },
        "outputId": "9dbc2a76-922d-4a8a-ce5b-75adadf01e19"
      },
      "cell_type": "code",
      "source": [
        "def mse(y_hat, y): return ((y_hat-y)**2).mean()"
      ],
      "execution_count": 15,
      "outputs": [
        {
          "output_type": "execute_result",
          "data": {
            "text/plain": [
              "tensor([0.9514, 0.6852, 0.3912, 0.6947, 0.0195, 0.2060, 0.0465, 0.6125, 0.1986,\n",
              "        0.1894, 0.9586, 0.1177, 0.5463, 0.2336, 0.7212, 0.4771, 0.9726, 0.3170,\n",
              "        0.5724, 0.7579, 0.5714, 0.7657, 0.2367, 0.9468, 0.4895, 0.6720, 0.1717,\n",
              "        0.5925, 0.8821, 0.6844, 0.1249, 0.0908, 0.5563, 0.0796, 0.2631, 0.1735,\n",
              "        0.2102, 0.8812, 0.5429, 0.1947, 0.7354, 0.0365, 0.1025, 0.4645, 0.1572,\n",
              "        0.6034, 0.5069, 0.8097, 0.3420, 0.5661, 0.1215, 0.4881, 0.8819, 0.5565,\n",
              "        0.4316, 0.0621, 0.5763, 0.8303, 0.2280, 0.3477, 0.8347, 0.6707, 0.7376,\n",
              "        0.8953, 0.9487, 0.4801, 0.1464, 0.6831, 0.3837, 0.5340, 0.9800, 0.8064,\n",
              "        0.3157, 0.8993, 0.5530, 0.9692, 0.6732, 0.3822, 0.9041, 0.1615, 0.2665,\n",
              "        0.6040, 0.7272, 0.7378, 0.0539, 0.6245, 0.7844, 0.3121, 0.0487, 0.2324,\n",
              "        0.1691, 0.4931, 0.3804, 0.9692, 0.3802, 0.3776, 0.9596, 0.5808, 0.4859,\n",
              "        0.9459])"
            ]
          },
          "metadata": {
            "tags": []
          },
          "execution_count": 15
        }
      ]
    },
    {
      "metadata": {
        "id": "pvEcBRK96AkB",
        "colab_type": "code",
        "colab": {}
      },
      "cell_type": "code",
      "source": [
        "a = tensor(-1.,1)"
      ],
      "execution_count": 0,
      "outputs": []
    },
    {
      "metadata": {
        "id": "0TSjzGdF6M7x",
        "colab_type": "code",
        "colab": {
          "base_uri": "https://localhost:8080/",
          "height": 34
        },
        "outputId": "e6cf2be1-f45a-4db9-d406-7674655fc615"
      },
      "cell_type": "code",
      "source": [
        "y_hat = x@a\n",
        "mse(y_hat, y)"
      ],
      "execution_count": 20,
      "outputs": [
        {
          "output_type": "execute_result",
          "data": {
            "text/plain": [
              "tensor(8.6095)"
            ]
          },
          "metadata": {
            "tags": []
          },
          "execution_count": 20
        }
      ]
    },
    {
      "metadata": {
        "id": "MRjoUuye6Qop",
        "colab_type": "code",
        "colab": {
          "base_uri": "https://localhost:8080/",
          "height": 269
        },
        "outputId": "942b245b-a74f-4789-9933-051a3e682226"
      },
      "cell_type": "code",
      "source": [
        "plt.scatter(x[:,0],y)\n",
        "plt.scatter(x[:,0],y_hat);"
      ],
      "execution_count": 21,
      "outputs": [
        {
          "output_type": "display_data",
          "data": {
            "image/png": "[encoded data removed]",
            "text/plain": [
              "<Figure size 432x288 with 1 Axes>"
            ]
          },
          "metadata": {
            "tags": []
          }
        }
      ]
    },
    {
      "metadata": {
        "id": "q28a0Xj26dly",
        "colab_type": "code",
        "colab": {}
      },
      "cell_type": "code",
      "source": [
        ""
      ],
      "execution_count": 0,
      "outputs": []
    }
  ]
}