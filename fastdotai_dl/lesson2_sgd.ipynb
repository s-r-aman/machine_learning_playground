{
  "nbformat": 4,
  "nbformat_minor": 0,
  "metadata": {
    "colab": {
      "name": "lesson2-sgd.ipynb",
      "version": "0.3.2",
      "provenance": [],
      "include_colab_link": true
    },
    "kernelspec": {
      "name": "python3",
      "display_name": "Python 3"
    }
  },
  "cells": [
    {
      "cell_type": "markdown",
      "metadata": {
        "id": "view-in-github",
        "colab_type": "text"
      },
      "source": [
        "<a href=\"https://colab.research.google.com/github/s-r-aman/machine_learning_playground/blob/master/fastdotai_dl/lesson2_sgd.ipynb\" target=\"_parent\"><img src=\"https://colab.research.google.com/assets/colab-badge.svg\" alt=\"Open In Colab\"/></a>"
      ]
    },
    {
      "metadata": {
        "id": "JFmviK9-uH43",
        "colab_type": "code",
        "colab": {}
      },
      "cell_type": "code",
      "source": [
        "!pip install fastai"
      ],
      "execution_count": 0,
      "outputs": []
    },
    {
      "metadata": {
        "id": "y9Nw0lsOt1Xy",
        "colab_type": "code",
        "colab": {}
      },
      "cell_type": "code",
      "source": [
        "%matplotlib inline\n",
        "from fastai.basics import *"
      ],
      "execution_count": 0,
      "outputs": []
    },
    {
      "metadata": {
        "id": "PLJEse20vJSU",
        "colab_type": "code",
        "colab": {}
      },
      "cell_type": "code",
      "source": [
        "n = 100"
      ],
      "execution_count": 0,
      "outputs": []
    },
    {
      "metadata": {
        "id": "D-eOfhqmu_ra",
        "colab_type": "code",
        "colab": {
          "base_uri": "https://localhost:8080/",
          "height": 101
        },
        "outputId": "c4676c00-8820-4471-8a35-ce4802a0cd01"
      },
      "cell_type": "code",
      "source": [
        "x = torch.ones(n, 2); x\n",
        "x[:,0].uniform_(-1, 1);\n",
        "x[:5]"
      ],
      "execution_count": 8,
      "outputs": [
        {
          "output_type": "execute_result",
          "data": {
            "text/plain": [
              "tensor([[-0.4610,  1.0000],\n",
              "        [ 0.5946,  1.0000],\n",
              "        [ 0.8182,  1.0000],\n",
              "        [ 0.4233,  1.0000],\n",
              "        [-0.0728,  1.0000]])"
            ]
          },
          "metadata": {
            "tags": []
          },
          "execution_count": 8
        }
      ]
    },
    {
      "metadata": {
        "id": "k93ZBJmUvEXJ",
        "colab_type": "code",
        "colab": {
          "base_uri": "https://localhost:8080/",
          "height": 34
        },
        "outputId": "5a585e03-38e8-4176-8819-c96092c55a16"
      },
      "cell_type": "code",
      "source": [
        "a = tensor(3., 2); a "
      ],
      "execution_count": 10,
      "outputs": [
        {
          "output_type": "execute_result",
          "data": {
            "text/plain": [
              "tensor([3., 2.])"
            ]
          },
          "metadata": {
            "tags": []
          },
          "execution_count": 10
        }
      ]
    },
    {
      "metadata": {
        "id": "qwhuSRe0viui",
        "colab_type": "code",
        "colab": {
          "base_uri": "https://localhost:8080/",
          "height": 235
        },
        "outputId": "eb42f045-be21-4378-963a-bc73f68f070b"
      },
      "cell_type": "code",
      "source": [
        "y = x@a + torch.rand(n); y"
      ],
      "execution_count": 13,
      "outputs": [
        {
          "output_type": "execute_result",
          "data": {
            "text/plain": [
              "tensor([ 0.9888,  4.1465,  5.4306,  3.9101,  2.4245,  2.1883,  4.1159,  5.1767,\n",
              "         4.2168,  4.1191,  4.0180,  4.7226,  1.6605,  2.3764,  3.9655,  4.4754,\n",
              "         5.3888,  2.5540,  0.1071,  5.2592,  0.4471,  3.6703,  2.2381,  1.6088,\n",
              "         3.1500,  5.4889,  0.9485,  2.2102,  2.3913,  3.3180,  3.8016,  5.6092,\n",
              "         0.5676,  1.6128,  5.5749,  0.7709,  1.0133,  0.5255,  0.1720,  4.2425,\n",
              "         4.5805,  2.6056,  3.5494, -0.3848,  1.9100,  2.5489,  1.5706,  5.0965,\n",
              "         2.7990,  0.6074,  4.5327,  3.5092,  4.7354,  4.6710,  5.2927,  0.1548,\n",
              "        -0.2852,  3.8111,  2.6113,  5.4380,  4.8890,  0.0702,  4.1326,  1.4506,\n",
              "         1.5976,  1.3901,  4.9779,  0.9094,  1.4216,  2.7545,  3.4753,  2.2576,\n",
              "         1.4794,  0.0321,  5.0254,  5.2174,  3.5445,  3.0222,  0.2340,  4.7121,\n",
              "         3.0000,  0.3346,  4.5322,  2.4041,  4.0587,  1.5578,  5.5191,  4.3862,\n",
              "         1.0795,  3.4746,  3.6042,  1.0869,  2.8679,  1.8622,  1.5649,  0.7508,\n",
              "         0.0416,  1.4445,  5.3072,  2.5335])"
            ]
          },
          "metadata": {
            "tags": []
          },
          "execution_count": 13
        }
      ]
    },
    {
      "metadata": {
        "id": "fwEV3cxKvnjB",
        "colab_type": "code",
        "colab": {
          "base_uri": "https://localhost:8080/",
          "height": 265
        },
        "outputId": "ae271041-1f3d-426c-91fb-377822d299e7"
      },
      "cell_type": "code",
      "source": [
        "plt.scatter(x[:,0], y);"
      ],
      "execution_count": 14,
      "outputs": [
        {
          "output_type": "display_data",
          "data": {
            "image/png": "[encoded data removed]",
            "text/plain": [
              "<Figure size 432x288 with 1 Axes>"
            ]
          },
          "metadata": {
            "tags": []
          }
        }
      ]
    },
    {
      "metadata": {
        "id": "6qcsEEGavvEZ",
        "colab_type": "code",
        "colab": {}
      },
      "cell_type": "code",
      "source": [
        ""
      ],
      "execution_count": 0,
      "outputs": []
    }
  ]
}